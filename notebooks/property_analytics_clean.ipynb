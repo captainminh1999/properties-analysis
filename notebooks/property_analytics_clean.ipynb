{
 "cells": [
  {
   "cell_type": "markdown",
   "id": "d22dfba4",
   "metadata": {},
   "source": [
    "# Australian Property Analytics Tool\n",
    "\n",
    "## Free Property Market Analysis System\n",
    "\n",
    "This notebook provides a complete property analytics solution for the Australian market using **free data sources only**:\n",
    "\n",
    "1. **📊 Data Generation**: Realistic property data based on Australian market patterns\n",
    "2. **🏛️ ABS Integration**: Australian Bureau of Statistics socio-economic data\n",
    "3. **🧹 Data Processing**: Cleaning, normalization, and geospatial analysis\n",
    "4. **📈 KPI Computation**: Market indicators and regional analysis\n",
    "5. **🤖 ML Modeling**: XGBoost/Random Forest valuation models\n",
    "6. **🔮 Monte Carlo Simulation**: Future price forecasting\n",
    "7. **📊 Visualization**: Interactive charts, maps, and dashboards\n",
    "\n",
    "**✅ No API keys required - completely free to use!**\n",
    "\n",
    "---"
   ]
  },
  {
   "cell_type": "markdown",
   "id": "4fc7745f",
   "metadata": {},
   "source": [
    "## 1. Setup and Configuration\n",
    "\n",
    "Import required libraries and configure the analysis environment."
   ]
  },
  {
   "cell_type": "code",
   "execution_count": 1,
   "id": "bf1da660",
   "metadata": {},
   "outputs": [
    {
     "name": "stdout",
     "output_type": "stream",
     "text": [
      "✅ Core libraries imported successfully\n",
      "📅 Analysis Date: 2025-07-08 15:55:28\n",
      "🆓 Using free data sources only - no API keys required!\n"
     ]
    }
   ],
   "source": [
    "# Core libraries\n",
    "import pandas as pd\n",
    "import numpy as np\n",
    "import warnings\n",
    "import os\n",
    "import sys\n",
    "from datetime import datetime, timedelta\n",
    "\n",
    "# Add scripts directory to path\n",
    "sys.path.append('../scripts')\n",
    "\n",
    "# Suppress warnings for cleaner output\n",
    "warnings.filterwarnings('ignore')\n",
    "\n",
    "# Display settings\n",
    "pd.set_option('display.max_columns', None)\n",
    "pd.set_option('display.max_rows', 100)\n",
    "\n",
    "print(\"✅ Core libraries imported successfully\")\n",
    "print(f\"📅 Analysis Date: {datetime.now().strftime('%Y-%m-%d %H:%M:%S')}\")\n",
    "print(\"🆓 Using free data sources only - no API keys required!\")"
   ]
  },
  {
   "cell_type": "code",
   "execution_count": 2,
   "id": "3f071b07",
   "metadata": {},
   "outputs": [
    {
     "name": "stdout",
     "output_type": "stream",
     "text": [
      "✅ Custom modules imported successfully\n",
      "🏛️ Using ABS data and realistic property generation functions\n"
     ]
    }
   ],
   "source": [
    "# Import custom modules (ABS and statistics-based only)\n",
    "try:\n",
    "    from data_fetcher import create_realistic_property_data, fetch_abs_socioeconomic_data\n",
    "    from data_processor import PropertyDataProcessor, calculate_property_kpis\n",
    "    from ml_models import PropertyValuationModel, identify_overvalued_properties\n",
    "    from monte_carlo import MonteCarloPropertySimulation, run_portfolio_simulation\n",
    "    from visualization import PropertyVisualizationSuite\n",
    "    print(\"✅ Custom modules imported successfully\")\n",
    "    print(\"🏛️ Using ABS data and realistic property generation functions\")\n",
    "except ImportError as e:\n",
    "    print(f\"⚠️ Import warning: {e}\")\n",
    "    print(\"Some features may not be available. Please install required packages with:\")\n",
    "    print(\"pip install -r requirements.txt\")"
   ]
  },
  {
   "cell_type": "code",
   "execution_count": 3,
   "id": "00096c34",
   "metadata": {},
   "outputs": [
    {
     "name": "stdout",
     "output_type": "stream",
     "text": [
      "✅ Configuration loaded\n",
      "🏙️ Analysis suburbs: Sydney, Melbourne, Brisbane, Perth, Adelaide\n",
      "🏠 Property types: House, Unit, Townhouse\n",
      "🔢 Sample size: 500 properties\n"
     ]
    }
   ],
   "source": [
    "# Configuration - No API keys needed!\n",
    "CONFIG = {\n",
    "    'ANALYSIS_SUBURBS': ['Sydney', 'Melbourne', 'Brisbane', 'Perth', 'Adelaide'],\n",
    "    'PROPERTY_TYPES': ['House', 'Unit', 'Townhouse'],\n",
    "    'SIMULATION_YEARS': 5,\n",
    "    'SIMULATION_RUNS': 1000,\n",
    "    'MODEL_TYPE': 'xgboost',  # or 'random_forest'\n",
    "    'RANDOM_STATE': 42,\n",
    "    'NUM_PROPERTIES': 500  # Number of sample properties to generate\n",
    "}\n",
    "\n",
    "# Create data directories\n",
    "os.makedirs('../data/raw', exist_ok=True)\n",
    "os.makedirs('../data/processed', exist_ok=True)\n",
    "os.makedirs('../data/outputs', exist_ok=True)\n",
    "\n",
    "print(\"✅ Configuration loaded\")\n",
    "print(f\"🏙️ Analysis suburbs: {', '.join(CONFIG['ANALYSIS_SUBURBS'])}\")\n",
    "print(f\"🏠 Property types: {', '.join(CONFIG['PROPERTY_TYPES'])}\")\n",
    "print(f\"🔢 Sample size: {CONFIG['NUM_PROPERTIES']} properties\")"
   ]
  },
  {
   "cell_type": "markdown",
   "id": "2ee063d3",
   "metadata": {},
   "source": [
    "## 2. Data Generation\n",
    "\n",
    "Generate realistic property data based on Australian market patterns and load ABS socio-economic statistics."
   ]
  },
  {
   "cell_type": "code",
   "execution_count": 4,
   "id": "ea5e8fc3",
   "metadata": {},
   "outputs": [
    {
     "name": "stdout",
     "output_type": "stream",
     "text": [
      "📊 Generating realistic property data based on Australian market patterns...\n",
      "🆓 No API calls required - using statistical models!\n",
      "✅ Generated 500 property records\n",
      "📈 Price range: $178,467 - $1,937,885\n",
      "🏠 Property types: {'House': 283, 'Unit': 164, 'Townhouse': 53}\n",
      "🏙️ Suburbs: {'Perth': 112, 'Sydney': 109, 'Melbourne': 95, 'Adelaide': 93, 'Brisbane': 91}\n",
      "\n",
      "📋 Sample property data:\n"
     ]
    },
    {
     "data": {
      "text/html": [
       "<div>\n",
       "<style scoped>\n",
       "    .dataframe tbody tr th:only-of-type {\n",
       "        vertical-align: middle;\n",
       "    }\n",
       "\n",
       "    .dataframe tbody tr th {\n",
       "        vertical-align: top;\n",
       "    }\n",
       "\n",
       "    .dataframe thead th {\n",
       "        text-align: right;\n",
       "    }\n",
       "</style>\n",
       "<table border=\"1\" class=\"dataframe\">\n",
       "  <thead>\n",
       "    <tr style=\"text-align: right;\">\n",
       "      <th></th>\n",
       "      <th>suburb</th>\n",
       "      <th>property_type</th>\n",
       "      <th>bedrooms</th>\n",
       "      <th>bathrooms</th>\n",
       "      <th>parking</th>\n",
       "      <th>land_area</th>\n",
       "      <th>building_area</th>\n",
       "      <th>date_listed</th>\n",
       "      <th>listing_type</th>\n",
       "      <th>latitude</th>\n",
       "      <th>longitude</th>\n",
       "      <th>price</th>\n",
       "    </tr>\n",
       "  </thead>\n",
       "  <tbody>\n",
       "    <tr>\n",
       "      <th>0</th>\n",
       "      <td>Perth</td>\n",
       "      <td>House</td>\n",
       "      <td>2</td>\n",
       "      <td>1</td>\n",
       "      <td>2</td>\n",
       "      <td>128.156151</td>\n",
       "      <td>115.806524</td>\n",
       "      <td>2023-01-01 00:00:00.000000000</td>\n",
       "      <td>Sale</td>\n",
       "      <td>-31.892061</td>\n",
       "      <td>115.823034</td>\n",
       "      <td>289620.248712</td>\n",
       "    </tr>\n",
       "    <tr>\n",
       "      <th>1</th>\n",
       "      <td>Adelaide</td>\n",
       "      <td>Unit</td>\n",
       "      <td>3</td>\n",
       "      <td>3</td>\n",
       "      <td>0</td>\n",
       "      <td>258.605555</td>\n",
       "      <td>173.498387</td>\n",
       "      <td>2023-01-02 11:06:36.793587174</td>\n",
       "      <td>Sale</td>\n",
       "      <td>-35.376146</td>\n",
       "      <td>138.176560</td>\n",
       "      <td>315250.031739</td>\n",
       "    </tr>\n",
       "    <tr>\n",
       "      <th>2</th>\n",
       "      <td>Brisbane</td>\n",
       "      <td>House</td>\n",
       "      <td>3</td>\n",
       "      <td>2</td>\n",
       "      <td>2</td>\n",
       "      <td>1066.226764</td>\n",
       "      <td>83.241385</td>\n",
       "      <td>2023-01-03 22:13:13.587174348</td>\n",
       "      <td>Sale</td>\n",
       "      <td>-27.591173</td>\n",
       "      <td>153.116637</td>\n",
       "      <td>679247.236648</td>\n",
       "    </tr>\n",
       "    <tr>\n",
       "      <th>3</th>\n",
       "      <td>Adelaide</td>\n",
       "      <td>Unit</td>\n",
       "      <td>4</td>\n",
       "      <td>2</td>\n",
       "      <td>1</td>\n",
       "      <td>1794.472272</td>\n",
       "      <td>83.572076</td>\n",
       "      <td>2023-01-05 09:19:50.380761523</td>\n",
       "      <td>Sale</td>\n",
       "      <td>-35.478001</td>\n",
       "      <td>138.500754</td>\n",
       "      <td>414395.859432</td>\n",
       "    </tr>\n",
       "    <tr>\n",
       "      <th>4</th>\n",
       "      <td>Adelaide</td>\n",
       "      <td>House</td>\n",
       "      <td>4</td>\n",
       "      <td>3</td>\n",
       "      <td>3</td>\n",
       "      <td>183.556203</td>\n",
       "      <td>182.412887</td>\n",
       "      <td>2023-01-06 20:26:27.174348697</td>\n",
       "      <td>Sale</td>\n",
       "      <td>-35.033750</td>\n",
       "      <td>138.878368</td>\n",
       "      <td>426955.501280</td>\n",
       "    </tr>\n",
       "  </tbody>\n",
       "</table>\n",
       "</div>"
      ],
      "text/plain": [
       "     suburb property_type  bedrooms  bathrooms  parking    land_area  \\\n",
       "0     Perth         House         2          1        2   128.156151   \n",
       "1  Adelaide          Unit         3          3        0   258.605555   \n",
       "2  Brisbane         House         3          2        2  1066.226764   \n",
       "3  Adelaide          Unit         4          2        1  1794.472272   \n",
       "4  Adelaide         House         4          3        3   183.556203   \n",
       "\n",
       "   building_area                   date_listed listing_type   latitude  \\\n",
       "0     115.806524 2023-01-01 00:00:00.000000000         Sale -31.892061   \n",
       "1     173.498387 2023-01-02 11:06:36.793587174         Sale -35.376146   \n",
       "2      83.241385 2023-01-03 22:13:13.587174348         Sale -27.591173   \n",
       "3      83.572076 2023-01-05 09:19:50.380761523         Sale -35.478001   \n",
       "4     182.412887 2023-01-06 20:26:27.174348697         Sale -35.033750   \n",
       "\n",
       "    longitude          price  \n",
       "0  115.823034  289620.248712  \n",
       "1  138.176560  315250.031739  \n",
       "2  153.116637  679247.236648  \n",
       "3  138.500754  414395.859432  \n",
       "4  138.878368  426955.501280  "
      ]
     },
     "metadata": {},
     "output_type": "display_data"
    }
   ],
   "source": [
    "# Generate realistic property data based on Australian market patterns\n",
    "print(\"📊 Generating realistic property data based on Australian market patterns...\")\n",
    "print(\"🆓 No API calls required - using statistical models!\")\n",
    "\n",
    "# Use the enhanced data generation function\n",
    "property_data = create_realistic_property_data(\n",
    "    suburbs=CONFIG['ANALYSIS_SUBURBS'],\n",
    "    property_types=CONFIG['PROPERTY_TYPES'],\n",
    "    num_properties=CONFIG['NUM_PROPERTIES'],\n",
    "    random_state=CONFIG['RANDOM_STATE']\n",
    ")\n",
    "\n",
    "print(f\"✅ Generated {len(property_data)} property records\")\n",
    "print(f\"📈 Price range: ${property_data['price'].min():,.0f} - ${property_data['price'].max():,.0f}\")\n",
    "print(f\"🏠 Property types: {property_data['property_type'].value_counts().to_dict()}\")\n",
    "print(f\"🏙️ Suburbs: {property_data['suburb'].value_counts().to_dict()}\")\n",
    "\n",
    "# Display sample\n",
    "print(\"\\n📋 Sample property data:\")\n",
    "display(property_data.head())"
   ]
  },
  {
   "cell_type": "code",
   "execution_count": 5,
   "id": "24a9b210",
   "metadata": {},
   "outputs": [
    {
     "name": "stdout",
     "output_type": "stream",
     "text": [
      "🏛️ Loading socio-economic data based on ABS statistics...\n",
      "📊 Using Australian Bureau of Statistics patterns - no API required!\n",
      "✅ Loaded socio-economic data for 5 regions\n",
      "📋 Available metrics: ['SA2_CODE', 'SA2_NAME', 'MEDIAN_INCOME', 'UNEMPLOYMENT_RATE', 'POPULATION', 'EDUCATION_BACHELOR_PCT', 'MEDIAN_AGE', 'FAMILY_HOUSEHOLDS_PCT', 'SUBURB']\n",
      "\n",
      "📈 ABS-based socio-economic indicators:\n"
     ]
    },
    {
     "data": {
      "text/html": [
       "<div>\n",
       "<style scoped>\n",
       "    .dataframe tbody tr th:only-of-type {\n",
       "        vertical-align: middle;\n",
       "    }\n",
       "\n",
       "    .dataframe tbody tr th {\n",
       "        vertical-align: top;\n",
       "    }\n",
       "\n",
       "    .dataframe thead th {\n",
       "        text-align: right;\n",
       "    }\n",
       "</style>\n",
       "<table border=\"1\" class=\"dataframe\">\n",
       "  <thead>\n",
       "    <tr style=\"text-align: right;\">\n",
       "      <th></th>\n",
       "      <th>SA2_CODE</th>\n",
       "      <th>SA2_NAME</th>\n",
       "      <th>MEDIAN_INCOME</th>\n",
       "      <th>UNEMPLOYMENT_RATE</th>\n",
       "      <th>POPULATION</th>\n",
       "      <th>EDUCATION_BACHELOR_PCT</th>\n",
       "      <th>MEDIAN_AGE</th>\n",
       "      <th>FAMILY_HOUSEHOLDS_PCT</th>\n",
       "      <th>SUBURB</th>\n",
       "    </tr>\n",
       "  </thead>\n",
       "  <tbody>\n",
       "    <tr>\n",
       "      <th>0</th>\n",
       "      <td>101011001</td>\n",
       "      <td>Sydney - Harbour</td>\n",
       "      <td>95000</td>\n",
       "      <td>3.8</td>\n",
       "      <td>28000</td>\n",
       "      <td>68.2</td>\n",
       "      <td>34</td>\n",
       "      <td>65.2</td>\n",
       "      <td>Sydney</td>\n",
       "    </tr>\n",
       "    <tr>\n",
       "      <th>1</th>\n",
       "      <td>201011002</td>\n",
       "      <td>Melbourne - Inner East</td>\n",
       "      <td>78000</td>\n",
       "      <td>4.5</td>\n",
       "      <td>22000</td>\n",
       "      <td>62.4</td>\n",
       "      <td>36</td>\n",
       "      <td>68.9</td>\n",
       "      <td>Melbourne</td>\n",
       "    </tr>\n",
       "    <tr>\n",
       "      <th>2</th>\n",
       "      <td>301011003</td>\n",
       "      <td>Brisbane - Central</td>\n",
       "      <td>72000</td>\n",
       "      <td>4.2</td>\n",
       "      <td>25000</td>\n",
       "      <td>55.9</td>\n",
       "      <td>33</td>\n",
       "      <td>62.4</td>\n",
       "      <td>Brisbane</td>\n",
       "    </tr>\n",
       "    <tr>\n",
       "      <th>3</th>\n",
       "      <td>401011004</td>\n",
       "      <td>Perth - Inner</td>\n",
       "      <td>75000</td>\n",
       "      <td>4.8</td>\n",
       "      <td>18000</td>\n",
       "      <td>58.1</td>\n",
       "      <td>35</td>\n",
       "      <td>66.7</td>\n",
       "      <td>Perth</td>\n",
       "    </tr>\n",
       "    <tr>\n",
       "      <th>4</th>\n",
       "      <td>501011005</td>\n",
       "      <td>Adelaide - Central</td>\n",
       "      <td>68000</td>\n",
       "      <td>5.1</td>\n",
       "      <td>15000</td>\n",
       "      <td>52.6</td>\n",
       "      <td>38</td>\n",
       "      <td>71.2</td>\n",
       "      <td>Adelaide</td>\n",
       "    </tr>\n",
       "  </tbody>\n",
       "</table>\n",
       "</div>"
      ],
      "text/plain": [
       "    SA2_CODE                SA2_NAME  MEDIAN_INCOME  UNEMPLOYMENT_RATE  \\\n",
       "0  101011001        Sydney - Harbour          95000                3.8   \n",
       "1  201011002  Melbourne - Inner East          78000                4.5   \n",
       "2  301011003      Brisbane - Central          72000                4.2   \n",
       "3  401011004           Perth - Inner          75000                4.8   \n",
       "4  501011005      Adelaide - Central          68000                5.1   \n",
       "\n",
       "   POPULATION  EDUCATION_BACHELOR_PCT  MEDIAN_AGE  FAMILY_HOUSEHOLDS_PCT  \\\n",
       "0       28000                    68.2          34                   65.2   \n",
       "1       22000                    62.4          36                   68.9   \n",
       "2       25000                    55.9          33                   62.4   \n",
       "3       18000                    58.1          35                   66.7   \n",
       "4       15000                    52.6          38                   71.2   \n",
       "\n",
       "      SUBURB  \n",
       "0     Sydney  \n",
       "1  Melbourne  \n",
       "2   Brisbane  \n",
       "3      Perth  \n",
       "4   Adelaide  "
      ]
     },
     "metadata": {},
     "output_type": "display_data"
    }
   ],
   "source": [
    "# Fetch socio-economic data from ABS\n",
    "print(\"🏛️ Loading socio-economic data based on ABS statistics...\")\n",
    "print(\"📊 Using Australian Bureau of Statistics patterns - no API required!\")\n",
    "\n",
    "# Load enhanced socio-economic data\n",
    "socioeconomic_data = fetch_abs_socioeconomic_data(CONFIG['ANALYSIS_SUBURBS'])\n",
    "\n",
    "print(f\"✅ Loaded socio-economic data for {len(socioeconomic_data)} regions\")\n",
    "print(f\"📋 Available metrics: {list(socioeconomic_data.columns)}\")\n",
    "\n",
    "print(\"\\n📈 ABS-based socio-economic indicators:\")\n",
    "display(socioeconomic_data)"
   ]
  },
  {
   "cell_type": "markdown",
   "id": "48889bca",
   "metadata": {},
   "source": [
    "## 3. Data Processing and Cleaning\n",
    "\n",
    "Clean, normalize, and merge the datasets for analysis."
   ]
  },
  {
   "cell_type": "code",
   "execution_count": 6,
   "id": "c9a36e1b",
   "metadata": {},
   "outputs": [
    {
     "name": "stdout",
     "output_type": "stream",
     "text": [
      "🧹 Cleaning property data...\n",
      "🔗 Merging with ABS socio-economic data...\n",
      "🗺️ Creating geospatial features...\n",
      "✅ Data processing complete\n",
      "📊 Final dataset shape: (490, 23)\n",
      "📋 Columns: ['suburb', 'property_type', 'bedrooms', 'bathrooms', 'parking', 'land_area', 'building_area', 'date_listed', 'listing_type', 'latitude', 'longitude', 'price', 'SA2_CODE', 'SA2_NAME', 'MEDIAN_INCOME', 'UNEMPLOYMENT_RATE', 'POPULATION', 'EDUCATION_BACHELOR_PCT', 'MEDIAN_AGE', 'FAMILY_HOUSEHOLDS_PCT', 'SUBURB', 'geometry', 'distance_to_cbd_km']\n",
      "\n",
      "📋 Processed data sample:\n",
      "✅ Data processing complete\n",
      "📊 Final dataset shape: (490, 23)\n",
      "📋 Columns: ['suburb', 'property_type', 'bedrooms', 'bathrooms', 'parking', 'land_area', 'building_area', 'date_listed', 'listing_type', 'latitude', 'longitude', 'price', 'SA2_CODE', 'SA2_NAME', 'MEDIAN_INCOME', 'UNEMPLOYMENT_RATE', 'POPULATION', 'EDUCATION_BACHELOR_PCT', 'MEDIAN_AGE', 'FAMILY_HOUSEHOLDS_PCT', 'SUBURB', 'geometry', 'distance_to_cbd_km']\n",
      "\n",
      "📋 Processed data sample:\n"
     ]
    },
    {
     "data": {
      "text/html": [
       "<div>\n",
       "<style scoped>\n",
       "    .dataframe tbody tr th:only-of-type {\n",
       "        vertical-align: middle;\n",
       "    }\n",
       "\n",
       "    .dataframe tbody tr th {\n",
       "        vertical-align: top;\n",
       "    }\n",
       "\n",
       "    .dataframe thead th {\n",
       "        text-align: right;\n",
       "    }\n",
       "</style>\n",
       "<table border=\"1\" class=\"dataframe\">\n",
       "  <thead>\n",
       "    <tr style=\"text-align: right;\">\n",
       "      <th></th>\n",
       "      <th>suburb</th>\n",
       "      <th>property_type</th>\n",
       "      <th>price</th>\n",
       "      <th>bedrooms</th>\n",
       "      <th>MEDIAN_INCOME</th>\n",
       "      <th>distance_to_cbd_km</th>\n",
       "    </tr>\n",
       "  </thead>\n",
       "  <tbody>\n",
       "    <tr>\n",
       "      <th>0</th>\n",
       "      <td>Perth</td>\n",
       "      <td>House</td>\n",
       "      <td>289620.248712</td>\n",
       "      <td>2</td>\n",
       "      <td>NaN</td>\n",
       "      <td>7.705311</td>\n",
       "    </tr>\n",
       "    <tr>\n",
       "      <th>1</th>\n",
       "      <td>Adelaide</td>\n",
       "      <td>Unit</td>\n",
       "      <td>315250.031739</td>\n",
       "      <td>3</td>\n",
       "      <td>NaN</td>\n",
       "      <td>68.450373</td>\n",
       "    </tr>\n",
       "    <tr>\n",
       "      <th>2</th>\n",
       "      <td>Brisbane</td>\n",
       "      <td>House</td>\n",
       "      <td>679247.236648</td>\n",
       "      <td>3</td>\n",
       "      <td>NaN</td>\n",
       "      <td>16.874371</td>\n",
       "    </tr>\n",
       "    <tr>\n",
       "      <th>3</th>\n",
       "      <td>Adelaide</td>\n",
       "      <td>Unit</td>\n",
       "      <td>414395.859432</td>\n",
       "      <td>4</td>\n",
       "      <td>NaN</td>\n",
       "      <td>61.995316</td>\n",
       "    </tr>\n",
       "    <tr>\n",
       "      <th>4</th>\n",
       "      <td>Adelaide</td>\n",
       "      <td>House</td>\n",
       "      <td>426955.501280</td>\n",
       "      <td>4</td>\n",
       "      <td>NaN</td>\n",
       "      <td>32.960972</td>\n",
       "    </tr>\n",
       "  </tbody>\n",
       "</table>\n",
       "</div>"
      ],
      "text/plain": [
       "     suburb property_type          price  bedrooms  MEDIAN_INCOME  \\\n",
       "0     Perth         House  289620.248712         2            NaN   \n",
       "1  Adelaide          Unit  315250.031739         3            NaN   \n",
       "2  Brisbane         House  679247.236648         3            NaN   \n",
       "3  Adelaide          Unit  414395.859432         4            NaN   \n",
       "4  Adelaide         House  426955.501280         4            NaN   \n",
       "\n",
       "   distance_to_cbd_km  \n",
       "0            7.705311  \n",
       "1           68.450373  \n",
       "2           16.874371  \n",
       "3           61.995316  \n",
       "4           32.960972  "
      ]
     },
     "metadata": {},
     "output_type": "display_data"
    }
   ],
   "source": [
    "# Initialize data processor\n",
    "processor = PropertyDataProcessor()\n",
    "\n",
    "# Clean property data\n",
    "print(\"🧹 Cleaning property data...\")\n",
    "clean_property_data = processor.clean_property_data(property_data)\n",
    "\n",
    "# Merge with socio-economic data\n",
    "print(\"🔗 Merging with ABS socio-economic data...\")\n",
    "merged_data = processor.merge_with_socioeconomic_data(clean_property_data, socioeconomic_data)\n",
    "\n",
    "# Create geospatial features\n",
    "print(\"🗺️ Creating geospatial features...\")\n",
    "geo_data = processor.create_geospatial_features(merged_data)\n",
    "geo_data = processor.calculate_distance_features(geo_data)\n",
    "\n",
    "print(f\"✅ Data processing complete\")\n",
    "print(f\"📊 Final dataset shape: {geo_data.shape}\")\n",
    "print(f\"📋 Columns: {list(geo_data.columns)}\")\n",
    "\n",
    "# Display processed data sample\n",
    "print(\"\\n📋 Processed data sample:\")\n",
    "display(geo_data[['suburb', 'property_type', 'price', 'bedrooms', 'MEDIAN_INCOME', 'distance_to_cbd_km']].head())"
   ]
  },
  {
   "cell_type": "markdown",
   "id": "ac3493fa",
   "metadata": {},
   "source": [
    "## 4. KPI Computation\n",
    "\n",
    "Calculate key property market indicators and regional statistics."
   ]
  },
  {
   "cell_type": "code",
   "execution_count": 7,
   "id": "ccc7ca3e",
   "metadata": {},
   "outputs": [
    {
     "name": "stdout",
     "output_type": "stream",
     "text": [
      "📈 Calculating property market KPIs...\n",
      "\n",
      "🏠 OVERALL MARKET METRICS\n",
      "Median Price: $601,134\n",
      "Mean Price: $666,884\n",
      "Price Std Dev: $304,169\n",
      "\n",
      "🏙️ SUBURB-LEVEL ANALYSIS\n"
     ]
    },
    {
     "data": {
      "text/html": [
       "<div>\n",
       "<style scoped>\n",
       "    .dataframe tbody tr th:only-of-type {\n",
       "        vertical-align: middle;\n",
       "    }\n",
       "\n",
       "    .dataframe tbody tr th {\n",
       "        vertical-align: top;\n",
       "    }\n",
       "\n",
       "    .dataframe thead th {\n",
       "        text-align: right;\n",
       "    }\n",
       "</style>\n",
       "<table border=\"1\" class=\"dataframe\">\n",
       "  <thead>\n",
       "    <tr style=\"text-align: right;\">\n",
       "      <th></th>\n",
       "      <th>Count</th>\n",
       "      <th>Median_Price</th>\n",
       "      <th>Mean_Price</th>\n",
       "      <th>Median_Income</th>\n",
       "      <th>Unemployment_Rate</th>\n",
       "      <th>Affordability_Ratio</th>\n",
       "    </tr>\n",
       "    <tr>\n",
       "      <th>suburb</th>\n",
       "      <th></th>\n",
       "      <th></th>\n",
       "      <th></th>\n",
       "      <th></th>\n",
       "      <th></th>\n",
       "      <th></th>\n",
       "    </tr>\n",
       "  </thead>\n",
       "  <tbody>\n",
       "    <tr>\n",
       "      <th>Adelaide</th>\n",
       "      <td>90</td>\n",
       "      <td>426567.0</td>\n",
       "      <td>441644.0</td>\n",
       "      <td>NaN</td>\n",
       "      <td>NaN</td>\n",
       "      <td>NaN</td>\n",
       "    </tr>\n",
       "    <tr>\n",
       "      <th>Brisbane</th>\n",
       "      <td>91</td>\n",
       "      <td>591046.0</td>\n",
       "      <td>587647.0</td>\n",
       "      <td>NaN</td>\n",
       "      <td>NaN</td>\n",
       "      <td>NaN</td>\n",
       "    </tr>\n",
       "    <tr>\n",
       "      <th>Melbourne</th>\n",
       "      <td>95</td>\n",
       "      <td>702971.0</td>\n",
       "      <td>718722.0</td>\n",
       "      <td>NaN</td>\n",
       "      <td>NaN</td>\n",
       "      <td>NaN</td>\n",
       "    </tr>\n",
       "    <tr>\n",
       "      <th>Perth</th>\n",
       "      <td>110</td>\n",
       "      <td>477792.0</td>\n",
       "      <td>502639.0</td>\n",
       "      <td>NaN</td>\n",
       "      <td>NaN</td>\n",
       "      <td>NaN</td>\n",
       "    </tr>\n",
       "    <tr>\n",
       "      <th>Sydney</th>\n",
       "      <td>104</td>\n",
       "      <td>1027321.0</td>\n",
       "      <td>1057506.0</td>\n",
       "      <td>NaN</td>\n",
       "      <td>NaN</td>\n",
       "      <td>NaN</td>\n",
       "    </tr>\n",
       "  </tbody>\n",
       "</table>\n",
       "</div>"
      ],
      "text/plain": [
       "           Count  Median_Price  Mean_Price  Median_Income  Unemployment_Rate  \\\n",
       "suburb                                                                         \n",
       "Adelaide      90      426567.0    441644.0            NaN                NaN   \n",
       "Brisbane      91      591046.0    587647.0            NaN                NaN   \n",
       "Melbourne     95      702971.0    718722.0            NaN                NaN   \n",
       "Perth        110      477792.0    502639.0            NaN                NaN   \n",
       "Sydney       104     1027321.0   1057506.0            NaN                NaN   \n",
       "\n",
       "           Affordability_Ratio  \n",
       "suburb                          \n",
       "Adelaide                   NaN  \n",
       "Brisbane                   NaN  \n",
       "Melbourne                  NaN  \n",
       "Perth                      NaN  \n",
       "Sydney                     NaN  "
      ]
     },
     "metadata": {},
     "output_type": "display_data"
    },
    {
     "name": "stdout",
     "output_type": "stream",
     "text": [
      "\n",
      "🏠 PROPERTY TYPE ANALYSIS\n"
     ]
    },
    {
     "data": {
      "text/html": [
       "<div>\n",
       "<style scoped>\n",
       "    .dataframe tbody tr th:only-of-type {\n",
       "        vertical-align: middle;\n",
       "    }\n",
       "\n",
       "    .dataframe tbody tr th {\n",
       "        vertical-align: top;\n",
       "    }\n",
       "\n",
       "    .dataframe thead th {\n",
       "        text-align: right;\n",
       "    }\n",
       "</style>\n",
       "<table border=\"1\" class=\"dataframe\">\n",
       "  <thead>\n",
       "    <tr style=\"text-align: right;\">\n",
       "      <th></th>\n",
       "      <th>count</th>\n",
       "      <th>median</th>\n",
       "      <th>mean</th>\n",
       "    </tr>\n",
       "    <tr>\n",
       "      <th>property_type</th>\n",
       "      <th></th>\n",
       "      <th></th>\n",
       "      <th></th>\n",
       "    </tr>\n",
       "  </thead>\n",
       "  <tbody>\n",
       "    <tr>\n",
       "      <th>House</th>\n",
       "      <td>280</td>\n",
       "      <td>687576.0</td>\n",
       "      <td>766884.0</td>\n",
       "    </tr>\n",
       "    <tr>\n",
       "      <th>Townhouse</th>\n",
       "      <td>51</td>\n",
       "      <td>567807.0</td>\n",
       "      <td>596664.0</td>\n",
       "    </tr>\n",
       "    <tr>\n",
       "      <th>Unit</th>\n",
       "      <td>159</td>\n",
       "      <td>429624.0</td>\n",
       "      <td>513308.0</td>\n",
       "    </tr>\n",
       "  </tbody>\n",
       "</table>\n",
       "</div>"
      ],
      "text/plain": [
       "               count    median      mean\n",
       "property_type                           \n",
       "House            280  687576.0  766884.0\n",
       "Townhouse         51  567807.0  596664.0\n",
       "Unit             159  429624.0  513308.0"
      ]
     },
     "metadata": {},
     "output_type": "display_data"
    }
   ],
   "source": [
    "# Calculate property KPIs\n",
    "print(\"📈 Calculating property market KPIs...\")\n",
    "\n",
    "kpis = calculate_property_kpis(geo_data)\n",
    "\n",
    "# Display overall market metrics\n",
    "print(\"\\n🏠 OVERALL MARKET METRICS\")\n",
    "print(f\"Median Price: ${kpis['median_price']:,.0f}\")\n",
    "print(f\"Mean Price: ${kpis['mean_price']:,.0f}\")\n",
    "print(f\"Price Std Dev: ${kpis['price_std']:,.0f}\")\n",
    "\n",
    "# Suburb-level analysis\n",
    "print(\"\\n🏙️ SUBURB-LEVEL ANALYSIS\")\n",
    "suburb_stats = geo_data.groupby('suburb').agg({\n",
    "    'price': ['count', 'median', 'mean'],\n",
    "    'MEDIAN_INCOME': 'first',\n",
    "    'UNEMPLOYMENT_RATE': 'first'\n",
    "}).round(0)\n",
    "\n",
    "suburb_stats.columns = ['Count', 'Median_Price', 'Mean_Price', 'Median_Income', 'Unemployment_Rate']\n",
    "suburb_stats['Affordability_Ratio'] = suburb_stats['Median_Price'] / suburb_stats['Median_Income']\n",
    "\n",
    "display(suburb_stats)\n",
    "\n",
    "# Property type analysis\n",
    "print(\"\\n🏠 PROPERTY TYPE ANALYSIS\")\n",
    "type_stats = geo_data.groupby('property_type')['price'].agg(['count', 'median', 'mean']).round(0)\n",
    "display(type_stats)"
   ]
  },
  {
   "cell_type": "markdown",
   "id": "026786d5",
   "metadata": {},
   "source": [
    "## 5. Machine Learning Valuation Model\n",
    "\n",
    "Build and train XGBoost/Random Forest models for property valuation."
   ]
  },
  {
   "cell_type": "code",
   "execution_count": 8,
   "id": "631e9a69",
   "metadata": {},
   "outputs": [
    {
     "name": "stdout",
     "output_type": "stream",
     "text": [
      "🤖 Training xgboost valuation model...\n",
      "\n",
      "📊 MODEL PERFORMANCE METRICS\n",
      "Train R²: 0.999\n",
      "Test R²: 0.786\n",
      "Train RMSE: $10,531\n",
      "Test RMSE: $135,121\n",
      "Test MAE: $103,210\n",
      "Features used: 16\n",
      "\n",
      "🔍 TOP 10 MOST IMPORTANT FEATURES\n",
      "\n",
      "📊 MODEL PERFORMANCE METRICS\n",
      "Train R²: 0.999\n",
      "Test R²: 0.786\n",
      "Train RMSE: $10,531\n",
      "Test RMSE: $135,121\n",
      "Test MAE: $103,210\n",
      "Features used: 16\n",
      "\n",
      "🔍 TOP 10 MOST IMPORTANT FEATURES\n"
     ]
    },
    {
     "data": {
      "text/html": [
       "<div>\n",
       "<style scoped>\n",
       "    .dataframe tbody tr th:only-of-type {\n",
       "        vertical-align: middle;\n",
       "    }\n",
       "\n",
       "    .dataframe tbody tr th {\n",
       "        vertical-align: top;\n",
       "    }\n",
       "\n",
       "    .dataframe thead th {\n",
       "        text-align: right;\n",
       "    }\n",
       "</style>\n",
       "<table border=\"1\" class=\"dataframe\">\n",
       "  <thead>\n",
       "    <tr style=\"text-align: right;\">\n",
       "      <th></th>\n",
       "      <th>feature</th>\n",
       "      <th>importance</th>\n",
       "    </tr>\n",
       "  </thead>\n",
       "  <tbody>\n",
       "    <tr>\n",
       "      <th>13</th>\n",
       "      <td>suburb_encoded</td>\n",
       "      <td>0.764526</td>\n",
       "    </tr>\n",
       "    <tr>\n",
       "      <th>12</th>\n",
       "      <td>property_type_encoded</td>\n",
       "      <td>0.118220</td>\n",
       "    </tr>\n",
       "    <tr>\n",
       "      <th>0</th>\n",
       "      <td>bedrooms</td>\n",
       "      <td>0.029747</td>\n",
       "    </tr>\n",
       "    <tr>\n",
       "      <th>5</th>\n",
       "      <td>latitude</td>\n",
       "      <td>0.024679</td>\n",
       "    </tr>\n",
       "    <tr>\n",
       "      <th>6</th>\n",
       "      <td>longitude</td>\n",
       "      <td>0.012888</td>\n",
       "    </tr>\n",
       "    <tr>\n",
       "      <th>4</th>\n",
       "      <td>building_area</td>\n",
       "      <td>0.011385</td>\n",
       "    </tr>\n",
       "    <tr>\n",
       "      <th>1</th>\n",
       "      <td>bathrooms</td>\n",
       "      <td>0.010525</td>\n",
       "    </tr>\n",
       "    <tr>\n",
       "      <th>11</th>\n",
       "      <td>distance_to_cbd_km</td>\n",
       "      <td>0.007563</td>\n",
       "    </tr>\n",
       "    <tr>\n",
       "      <th>3</th>\n",
       "      <td>land_area</td>\n",
       "      <td>0.007154</td>\n",
       "    </tr>\n",
       "    <tr>\n",
       "      <th>14</th>\n",
       "      <td>bedroom_bathroom_ratio</td>\n",
       "      <td>0.005950</td>\n",
       "    </tr>\n",
       "  </tbody>\n",
       "</table>\n",
       "</div>"
      ],
      "text/plain": [
       "                   feature  importance\n",
       "13          suburb_encoded    0.764526\n",
       "12   property_type_encoded    0.118220\n",
       "0                 bedrooms    0.029747\n",
       "5                 latitude    0.024679\n",
       "6                longitude    0.012888\n",
       "4            building_area    0.011385\n",
       "1                bathrooms    0.010525\n",
       "11      distance_to_cbd_km    0.007563\n",
       "3                land_area    0.007154\n",
       "14  bedroom_bathroom_ratio    0.005950"
      ]
     },
     "metadata": {},
     "output_type": "display_data"
    }
   ],
   "source": [
    "# Initialize and train valuation model\n",
    "print(f\"🤖 Training {CONFIG['MODEL_TYPE']} valuation model...\")\n",
    "\n",
    "model = PropertyValuationModel(model_type=CONFIG['MODEL_TYPE'])\n",
    "\n",
    "# Train the model\n",
    "training_metrics = model.train(\n",
    "    geo_data, \n",
    "    target_col='price',\n",
    "    random_state=CONFIG['RANDOM_STATE']\n",
    ")\n",
    "\n",
    "print(\"\\n📊 MODEL PERFORMANCE METRICS\")\n",
    "print(f\"Train R²: {training_metrics['train_r2']:.3f}\")\n",
    "print(f\"Test R²: {training_metrics['test_r2']:.3f}\")\n",
    "print(f\"Train RMSE: ${training_metrics['train_rmse']:,.0f}\")\n",
    "print(f\"Test RMSE: ${training_metrics['test_rmse']:,.0f}\")\n",
    "print(f\"Test MAE: ${training_metrics['test_mae']:,.0f}\")\n",
    "print(f\"Features used: {training_metrics['feature_count']}\")\n",
    "\n",
    "# Feature importance\n",
    "print(\"\\n🔍 TOP 10 MOST IMPORTANT FEATURES\")\n",
    "feature_importance = model.get_feature_importance()\n",
    "if not feature_importance.empty:\n",
    "    display(feature_importance.head(10))\n",
    "else:\n",
    "    print(\"Feature importance not available for this model type\")"
   ]
  },
  {
   "cell_type": "code",
   "execution_count": 9,
   "id": "18a15306",
   "metadata": {},
   "outputs": [
    {
     "name": "stdout",
     "output_type": "stream",
     "text": [
      "🔍 Identifying over/undervalued properties...\n",
      "\n",
      "💰 VALUATION ANALYSIS SUMMARY\n",
      "Fair Value: 444 properties (90.6%)\n",
      "Overvalued: 26 properties (5.3%)\n",
      "Undervalued: 20 properties (4.1%)\n",
      "\n",
      "📋 SAMPLE OVERVALUED PROPERTIES\n"
     ]
    },
    {
     "data": {
      "text/html": [
       "<div>\n",
       "<style scoped>\n",
       "    .dataframe tbody tr th:only-of-type {\n",
       "        vertical-align: middle;\n",
       "    }\n",
       "\n",
       "    .dataframe tbody tr th {\n",
       "        vertical-align: top;\n",
       "    }\n",
       "\n",
       "    .dataframe thead th {\n",
       "        text-align: right;\n",
       "    }\n",
       "</style>\n",
       "<table border=\"1\" class=\"dataframe\">\n",
       "  <thead>\n",
       "    <tr style=\"text-align: right;\">\n",
       "      <th></th>\n",
       "      <th>suburb</th>\n",
       "      <th>property_type</th>\n",
       "      <th>price</th>\n",
       "      <th>predicted_price</th>\n",
       "      <th>price_difference_pct</th>\n",
       "    </tr>\n",
       "  </thead>\n",
       "  <tbody>\n",
       "    <tr>\n",
       "      <th>11</th>\n",
       "      <td>Brisbane</td>\n",
       "      <td>Unit</td>\n",
       "      <td>4.739251e+05</td>\n",
       "      <td>388896.15625</td>\n",
       "      <td>21.864173</td>\n",
       "    </tr>\n",
       "    <tr>\n",
       "      <th>18</th>\n",
       "      <td>Sydney</td>\n",
       "      <td>Unit</td>\n",
       "      <td>1.007457e+06</td>\n",
       "      <td>810520.31250</td>\n",
       "      <td>24.297569</td>\n",
       "    </tr>\n",
       "    <tr>\n",
       "      <th>30</th>\n",
       "      <td>Brisbane</td>\n",
       "      <td>Unit</td>\n",
       "      <td>6.292183e+05</td>\n",
       "      <td>527255.62500</td>\n",
       "      <td>19.338373</td>\n",
       "    </tr>\n",
       "    <tr>\n",
       "      <th>33</th>\n",
       "      <td>Sydney</td>\n",
       "      <td>Unit</td>\n",
       "      <td>9.306279e+05</td>\n",
       "      <td>659370.75000</td>\n",
       "      <td>41.138789</td>\n",
       "    </tr>\n",
       "    <tr>\n",
       "      <th>39</th>\n",
       "      <td>Melbourne</td>\n",
       "      <td>Townhouse</td>\n",
       "      <td>6.319054e+05</td>\n",
       "      <td>546252.87500</td>\n",
       "      <td>15.680014</td>\n",
       "    </tr>\n",
       "  </tbody>\n",
       "</table>\n",
       "</div>"
      ],
      "text/plain": [
       "       suburb property_type         price  predicted_price  \\\n",
       "11   Brisbane          Unit  4.739251e+05     388896.15625   \n",
       "18     Sydney          Unit  1.007457e+06     810520.31250   \n",
       "30   Brisbane          Unit  6.292183e+05     527255.62500   \n",
       "33     Sydney          Unit  9.306279e+05     659370.75000   \n",
       "39  Melbourne     Townhouse  6.319054e+05     546252.87500   \n",
       "\n",
       "    price_difference_pct  \n",
       "11             21.864173  \n",
       "18             24.297569  \n",
       "30             19.338373  \n",
       "33             41.138789  \n",
       "39             15.680014  "
      ]
     },
     "metadata": {},
     "output_type": "display_data"
    },
    {
     "name": "stdout",
     "output_type": "stream",
     "text": [
      "\n",
      "📋 SAMPLE UNDERVALUED PROPERTIES\n"
     ]
    },
    {
     "data": {
      "text/html": [
       "<div>\n",
       "<style scoped>\n",
       "    .dataframe tbody tr th:only-of-type {\n",
       "        vertical-align: middle;\n",
       "    }\n",
       "\n",
       "    .dataframe tbody tr th {\n",
       "        vertical-align: top;\n",
       "    }\n",
       "\n",
       "    .dataframe thead th {\n",
       "        text-align: right;\n",
       "    }\n",
       "</style>\n",
       "<table border=\"1\" class=\"dataframe\">\n",
       "  <thead>\n",
       "    <tr style=\"text-align: right;\">\n",
       "      <th></th>\n",
       "      <th>suburb</th>\n",
       "      <th>property_type</th>\n",
       "      <th>price</th>\n",
       "      <th>predicted_price</th>\n",
       "      <th>price_difference_pct</th>\n",
       "    </tr>\n",
       "  </thead>\n",
       "  <tbody>\n",
       "    <tr>\n",
       "      <th>0</th>\n",
       "      <td>Perth</td>\n",
       "      <td>House</td>\n",
       "      <td>289620.248712</td>\n",
       "      <td>4.483760e+05</td>\n",
       "      <td>-35.406835</td>\n",
       "    </tr>\n",
       "    <tr>\n",
       "      <th>9</th>\n",
       "      <td>Adelaide</td>\n",
       "      <td>Townhouse</td>\n",
       "      <td>331911.516307</td>\n",
       "      <td>3.985013e+05</td>\n",
       "      <td>-16.710057</td>\n",
       "    </tr>\n",
       "    <tr>\n",
       "      <th>15</th>\n",
       "      <td>Melbourne</td>\n",
       "      <td>House</td>\n",
       "      <td>653234.523670</td>\n",
       "      <td>1.048977e+06</td>\n",
       "      <td>-37.726494</td>\n",
       "    </tr>\n",
       "    <tr>\n",
       "      <th>70</th>\n",
       "      <td>Adelaide</td>\n",
       "      <td>Unit</td>\n",
       "      <td>231131.462524</td>\n",
       "      <td>2.947024e+05</td>\n",
       "      <td>-21.571242</td>\n",
       "    </tr>\n",
       "    <tr>\n",
       "      <th>72</th>\n",
       "      <td>Melbourne</td>\n",
       "      <td>Townhouse</td>\n",
       "      <td>567806.660817</td>\n",
       "      <td>7.030208e+05</td>\n",
       "      <td>-19.233300</td>\n",
       "    </tr>\n",
       "  </tbody>\n",
       "</table>\n",
       "</div>"
      ],
      "text/plain": [
       "       suburb property_type          price  predicted_price  \\\n",
       "0       Perth         House  289620.248712     4.483760e+05   \n",
       "9    Adelaide     Townhouse  331911.516307     3.985013e+05   \n",
       "15  Melbourne         House  653234.523670     1.048977e+06   \n",
       "70   Adelaide          Unit  231131.462524     2.947024e+05   \n",
       "72  Melbourne     Townhouse  567806.660817     7.030208e+05   \n",
       "\n",
       "    price_difference_pct  \n",
       "0             -35.406835  \n",
       "9             -16.710057  \n",
       "15            -37.726494  \n",
       "70            -21.571242  \n",
       "72            -19.233300  "
      ]
     },
     "metadata": {},
     "output_type": "display_data"
    }
   ],
   "source": [
    "# Identify over/undervalued properties\n",
    "print(\"🔍 Identifying over/undervalued properties...\")\n",
    "\n",
    "valuation_analysis = identify_overvalued_properties(\n",
    "    geo_data, \n",
    "    model, \n",
    "    threshold=0.15  # 15% threshold\n",
    ")\n",
    "\n",
    "# Valuation summary\n",
    "valuation_summary = valuation_analysis['valuation_status'].value_counts()\n",
    "print(\"\\n💰 VALUATION ANALYSIS SUMMARY\")\n",
    "for status, count in valuation_summary.items():\n",
    "    percentage = (count / len(valuation_analysis)) * 100\n",
    "    print(f\"{status}: {count} properties ({percentage:.1f}%)\")\n",
    "\n",
    "# Show some examples\n",
    "print(\"\\n📋 SAMPLE OVERVALUED PROPERTIES\")\n",
    "overvalued = valuation_analysis[valuation_analysis['valuation_status'] == 'Overvalued']\n",
    "if len(overvalued) > 0:\n",
    "    sample_overvalued = overvalued[['suburb', 'property_type', 'price', 'predicted_price', 'price_difference_pct']].head()\n",
    "    display(sample_overvalued)\n",
    "\n",
    "print(\"\\n📋 SAMPLE UNDERVALUED PROPERTIES\")\n",
    "undervalued = valuation_analysis[valuation_analysis['valuation_status'] == 'Undervalued']\n",
    "if len(undervalued) > 0:\n",
    "    sample_undervalued = undervalued[['suburb', 'property_type', 'price', 'predicted_price', 'price_difference_pct']].head()\n",
    "    display(sample_undervalued)\n",
    "else:\n",
    "    print(\"No undervalued properties found with current threshold\")"
   ]
  },
  {
   "cell_type": "markdown",
   "id": "5fbb695f",
   "metadata": {},
   "source": [
    "## 6. Monte Carlo Price Simulation\n",
    "\n",
    "Forecast future property prices using Monte Carlo simulation with economic variables."
   ]
  },
  {
   "cell_type": "code",
   "execution_count": 10,
   "id": "4134d24d",
   "metadata": {},
   "outputs": [
    {
     "name": "stdout",
     "output_type": "stream",
     "text": [
      "🎯 Running Monte Carlo simulation for property valued at $601,134\n",
      "⏱️ Simulation parameters: 5 years, 1000 runs\n",
      "\n",
      "📊 SIMULATION RESULTS\n",
      "Expected price after 5 years: $913,376\n",
      "Median forecast: $911,844\n",
      "Expected annual return: 8.73%\n",
      "Probability of gain: 100.0%\n",
      "Probability of loss: 0.0%\n",
      "\n",
      "📈 CONFIDENCE INTERVALS\n",
      "5th percentile: $754,448\n",
      "25th percentile: $845,749\n",
      "75th percentile: $981,252\n",
      "95th percentile: $1,078,896\n"
     ]
    }
   ],
   "source": [
    "# Monte Carlo simulation for a sample property\n",
    "sample_price = geo_data['price'].median()\n",
    "\n",
    "print(f\"🎯 Running Monte Carlo simulation for property valued at ${sample_price:,.0f}\")\n",
    "print(f\"⏱️ Simulation parameters: {CONFIG['SIMULATION_YEARS']} years, {CONFIG['SIMULATION_RUNS']} runs\")\n",
    "\n",
    "# Initialize simulator\n",
    "simulator = MonteCarloPropertySimulation(\n",
    "    base_price=sample_price,\n",
    "    simulation_years=CONFIG['SIMULATION_YEARS'],\n",
    "    num_simulations=CONFIG['SIMULATION_RUNS']\n",
    ")\n",
    "\n",
    "# Run simulation\n",
    "simulation_results = simulator.run_simulation()\n",
    "simulation_stats = simulator.get_simulation_statistics()\n",
    "\n",
    "print(\"\\n📊 SIMULATION RESULTS\")\n",
    "print(f\"Expected price after {CONFIG['SIMULATION_YEARS']} years: ${simulation_stats['final_price_mean']:,.0f}\")\n",
    "print(f\"Median forecast: ${simulation_stats['final_price_median']:,.0f}\")\n",
    "print(f\"Expected annual return: {simulation_stats['annual_return_pct']:.2f}%\")\n",
    "print(f\"Probability of gain: {simulation_stats['probability_gain']:.1%}\")\n",
    "print(f\"Probability of loss: {simulation_stats['probability_loss']:.1%}\")\n",
    "\n",
    "print(\"\\n📈 CONFIDENCE INTERVALS\")\n",
    "print(f\"5th percentile: ${simulation_stats['percentile_5']:,.0f}\")\n",
    "print(f\"25th percentile: ${simulation_stats['percentile_25']:,.0f}\")\n",
    "print(f\"75th percentile: ${simulation_stats['percentile_75']:,.0f}\")\n",
    "print(f\"95th percentile: ${simulation_stats['percentile_95']:,.0f}\")"
   ]
  },
  {
   "cell_type": "code",
   "execution_count": 11,
   "id": "ea838245",
   "metadata": {},
   "outputs": [
    {
     "name": "stdout",
     "output_type": "stream",
     "text": [
      "🏠 Running portfolio simulation...\n",
      "\n",
      "💼 PORTFOLIO SIMULATION RESULTS\n",
      "Initial portfolio value: $3,225,697\n",
      "Expected portfolio value after 5 years: $4,936,353\n",
      "Portfolio annual return: 8.88%\n",
      "Value at Risk (5%): $4,553,125\n",
      "\n",
      "🏘️ INDIVIDUAL PROPERTY RETURNS\n",
      "Sydney: 8.71% annual return\n",
      "Melbourne: 8.94% annual return\n",
      "Brisbane: 8.83% annual return\n",
      "Perth: 8.94% annual return\n",
      "Adelaide: 8.93% annual return\n"
     ]
    }
   ],
   "source": [
    "# Portfolio simulation example\n",
    "print(\"🏠 Running portfolio simulation...\")\n",
    "\n",
    "# Select sample portfolio (median prices by suburb)\n",
    "portfolio_prices = geo_data.groupby('suburb')['price'].median().values\n",
    "\n",
    "portfolio_stats = run_portfolio_simulation(\n",
    "    portfolio_prices.tolist(),  # Convert numpy array to list\n",
    "    simulation_years=CONFIG['SIMULATION_YEARS'],\n",
    "    num_simulations=500  # Reduced for faster computation\n",
    ")\n",
    "\n",
    "print(\"\\n💼 PORTFOLIO SIMULATION RESULTS\")\n",
    "print(f\"Initial portfolio value: ${portfolio_stats['initial_portfolio_value']:,.0f}\")\n",
    "print(f\"Expected portfolio value after {CONFIG['SIMULATION_YEARS']} years: ${portfolio_stats['final_portfolio_mean']:,.0f}\")\n",
    "print(f\"Portfolio annual return: {portfolio_stats['annual_return_pct']:.2f}%\")\n",
    "print(f\"Value at Risk (5%): ${portfolio_stats['value_at_risk_5pct']:,.0f}\")\n",
    "\n",
    "print(\"\\n🏘️ INDIVIDUAL PROPERTY RETURNS\")\n",
    "for i, (prop_id, stats) in enumerate(portfolio_stats['individual_properties'].items()):\n",
    "    if i < len(CONFIG['ANALYSIS_SUBURBS']):\n",
    "        suburb = CONFIG['ANALYSIS_SUBURBS'][i]\n",
    "        print(f\"{suburb}: {stats['annual_return_pct']:.2f}% annual return\")"
   ]
  },
  {
   "cell_type": "markdown",
   "id": "3048c54c",
   "metadata": {},
   "source": [
    "## 7. Interactive Visualizations\n",
    "\n",
    "Create interactive charts, maps, and dashboards for data exploration."
   ]
  },
  {
   "cell_type": "code",
   "execution_count": 12,
   "id": "e3e0b844",
   "metadata": {},
   "outputs": [
    {
     "name": "stdout",
     "output_type": "stream",
     "text": [
      "📊 Creating visualizations...\n"
     ]
    },
    {
     "data": {
      "application/vnd.plotly.v1+json": {
       "config": {
        "plotlyServerURL": "https://plot.ly"
       },
       "data": [
        {
         "alignmentgroup": "True",
         "hovertemplate": "Property_Type=%{x}<br>Price ($)=%{y}<extra></extra>",
         "legendgroup": "",
         "marker": {
          "color": "#636efa"
         },
         "name": "",
         "notched": false,
         "offsetgroup": "",
         "orientation": "v",
         "showlegend": false,
         "type": "box",
         "x": [
          "House",
          "Unit",
          "House",
          "Unit",
          "House",
          "House",
          "Townhouse",
          "House",
          "House",
          "Townhouse",
          "Townhouse",
          "Unit",
          "Unit",
          "House",
          "House",
          "House",
          "Unit",
          "Unit",
          "Unit",
          "Unit",
          "House",
          "House",
          "House",
          "House",
          "House",
          "Unit",
          "House",
          "House",
          "House",
          "Unit",
          "Unit",
          "House",
          "House",
          "Unit",
          "House",
          "Unit",
          "Unit",
          "House",
          "House",
          "Townhouse",
          "House",
          "House",
          "Unit",
          "Townhouse",
          "Townhouse",
          "Unit",
          "House",
          "House",
          "Unit",
          "Unit",
          "House",
          "Townhouse",
          "House",
          "House",
          "House",
          "House",
          "House",
          "House",
          "House",
          "Unit",
          "Unit",
          "Unit",
          "Townhouse",
          "House",
          "House",
          "House",
          "Townhouse",
          "House",
          "Townhouse",
          "House",
          "Unit",
          "House",
          "Townhouse",
          "House",
          "Unit",
          "Townhouse",
          "House",
          "Unit",
          "Unit",
          "House",
          "Unit",
          "Unit",
          "Townhouse",
          "House",
          "House",
          "Townhouse",
          "Unit",
          "House",
          "Unit",
          "House",
          "House",
          "House",
          "House",
          "Unit",
          "House",
          "Townhouse",
          "Townhouse",
          "Unit",
          "House",
          "Unit",
          "Unit",
          "House",
          "Unit",
          "Townhouse",
          "Unit",
          "Unit",
          "House",
          "Unit",
          "House",
          "House",
          "House",
          "Unit",
          "Townhouse",
          "House",
          "Unit",
          "House",
          "Townhouse",
          "Unit",
          "Unit",
          "House",
          "House",
          "House",
          "House",
          "Unit",
          "Townhouse",
          "Townhouse",
          "Unit",
          "Unit",
          "Townhouse",
          "Unit",
          "House",
          "House",
          "House",
          "Townhouse",
          "Unit",
          "House",
          "Unit",
          "Unit",
          "House",
          "House",
          "Unit",
          "House",
          "Unit",
          "House",
          "Unit",
          "Unit",
          "Unit",
          "Unit",
          "House",
          "House",
          "House",
          "Unit",
          "Unit",
          "Unit",
          "House",
          "House",
          "House",
          "House",
          "Unit",
          "House",
          "House",
          "Townhouse",
          "House",
          "House",
          "Unit",
          "House",
          "Unit",
          "Unit",
          "Townhouse",
          "House",
          "Townhouse",
          "House",
          "House",
          "House",
          "Townhouse",
          "House",
          "House",
          "Unit",
          "House",
          "House",
          "House",
          "House",
          "House",
          "House",
          "Unit",
          "House",
          "House",
          "Unit",
          "House",
          "Unit",
          "House",
          "House",
          "House",
          "House",
          "House",
          "House",
          "House",
          "House",
          "House",
          "House",
          "House",
          "House",
          "Unit",
          "House",
          "Unit",
          "Unit",
          "House",
          "Unit",
          "Townhouse",
          "House",
          "House",
          "Unit",
          "Unit",
          "House",
          "House",
          "House",
          "House",
          "Unit",
          "House",
          "House",
          "Unit",
          "House",
          "House",
          "Unit",
          "Unit",
          "House",
          "House",
          "House",
          "House",
          "House",
          "House",
          "House",
          "House",
          "House",
          "House",
          "House",
          "House",
          "Unit",
          "Unit",
          "Unit",
          "Unit",
          "House",
          "House",
          "House",
          "Unit",
          "Unit",
          "House",
          "House",
          "House",
          "House",
          "Unit",
          "Unit",
          "House",
          "Townhouse",
          "Unit",
          "House",
          "House",
          "House",
          "House",
          "House",
          "House",
          "House",
          "Unit",
          "House",
          "House",
          "House",
          "Townhouse",
          "House",
          "House",
          "Townhouse",
          "Unit",
          "Unit",
          "House",
          "House",
          "Unit",
          "Townhouse",
          "Unit",
          "Unit",
          "House",
          "Unit",
          "House",
          "House",
          "House",
          "House",
          "House",
          "House",
          "Unit",
          "House",
          "Unit",
          "House",
          "House",
          "House",
          "House",
          "House",
          "House",
          "House",
          "Townhouse",
          "House",
          "Unit",
          "House",
          "Unit",
          "Unit",
          "Unit",
          "House",
          "House",
          "House",
          "Townhouse",
          "Unit",
          "Townhouse",
          "House",
          "Unit",
          "Townhouse",
          "House",
          "House",
          "Unit",
          "Unit",
          "Unit",
          "House",
          "Unit",
          "House",
          "House",
          "House",
          "Unit",
          "Unit",
          "House",
          "House",
          "Unit",
          "House",
          "Unit",
          "House",
          "House",
          "House",
          "House",
          "Unit",
          "House",
          "House",
          "Unit",
          "House",
          "House",
          "Townhouse",
          "Unit",
          "House",
          "Townhouse",
          "Unit",
          "House",
          "House",
          "Unit",
          "Unit",
          "House",
          "Unit",
          "House",
          "House",
          "House",
          "Unit",
          "House",
          "Unit",
          "Unit",
          "Unit",
          "House",
          "Unit",
          "House",
          "Unit",
          "House",
          "House",
          "Unit",
          "House",
          "House",
          "Unit",
          "Unit",
          "Unit",
          "Unit",
          "House",
          "House",
          "House",
          "House",
          "Townhouse",
          "Unit",
          "House",
          "House",
          "Townhouse",
          "House",
          "Unit",
          "House",
          "Unit",
          "House",
          "Unit",
          "Townhouse",
          "Townhouse",
          "Unit",
          "House",
          "Unit",
          "Unit",
          "House",
          "Unit",
          "Townhouse",
          "Townhouse",
          "House",
          "House",
          "Townhouse",
          "Unit",
          "House",
          "Townhouse",
          "Unit",
          "House",
          "Unit",
          "House",
          "House",
          "House",
          "Unit",
          "House",
          "House",
          "House",
          "House",
          "Townhouse",
          "House",
          "House",
          "Unit",
          "House",
          "House",
          "House",
          "House",
          "House",
          "House",
          "House",
          "Townhouse",
          "House",
          "Unit",
          "Unit",
          "House",
          "Unit",
          "House",
          "Townhouse",
          "House",
          "House",
          "House",
          "Townhouse",
          "House",
          "Unit",
          "House",
          "Unit",
          "House",
          "Unit",
          "House",
          "House",
          "House",
          "House",
          "Unit",
          "House",
          "Unit",
          "House",
          "House",
          "House",
          "House",
          "Unit",
          "House",
          "House",
          "Unit",
          "Townhouse",
          "House",
          "House",
          "Unit",
          "House",
          "House",
          "House",
          "Unit",
          "Unit",
          "House",
          "House",
          "House",
          "Unit",
          "House",
          "House",
          "Unit",
          "House",
          "Unit",
          "House",
          "House",
          "House",
          "Unit",
          "Unit",
          "Unit",
          "House",
          "Unit",
          "House",
          "House",
          "Unit",
          "House",
          "House",
          "House",
          "House"
         ],
         "x0": " ",
         "xaxis": "x",
         "y": {
          "bdata": "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",
          "dtype": "f8"
         },
         "y0": " ",
         "yaxis": "y"
        }
       ],
       "layout": {
        "boxmode": "group",
        "legend": {
         "tracegroupgap": 0
        },
        "template": {
         "data": {
          "bar": [
           {
            "error_x": {
             "color": "#2a3f5f"
            },
            "error_y": {
             "color": "#2a3f5f"
            },
            "marker": {
             "line": {
              "color": "white",
              "width": 0.5
             },
             "pattern": {
              "fillmode": "overlay",
              "size": 10,
              "solidity": 0.2
             }
            },
            "type": "bar"
           }
          ],
          "barpolar": [
           {
            "marker": {
             "line": {
              "color": "white",
              "width": 0.5
             },
             "pattern": {
              "fillmode": "overlay",
              "size": 10,
              "solidity": 0.2
             }
            },
            "type": "barpolar"
           }
          ],
          "carpet": [
           {
            "aaxis": {
             "endlinecolor": "#2a3f5f",
             "gridcolor": "#C8D4E3",
             "linecolor": "#C8D4E3",
             "minorgridcolor": "#C8D4E3",
             "startlinecolor": "#2a3f5f"
            },
            "baxis": {
             "endlinecolor": "#2a3f5f",
             "gridcolor": "#C8D4E3",
             "linecolor": "#C8D4E3",
             "minorgridcolor": "#C8D4E3",
             "startlinecolor": "#2a3f5f"
            },
            "type": "carpet"
           }
          ],
          "choropleth": [
           {
            "colorbar": {
             "outlinewidth": 0,
             "ticks": ""
            },
            "type": "choropleth"
           }
          ],
          "contour": [
           {
            "colorbar": {
             "outlinewidth": 0,
             "ticks": ""
            },
            "colorscale": [
             [
              0,
              "#0d0887"
             ],
             [
              0.1111111111111111,
              "#46039f"
             ],
             [
              0.2222222222222222,
              "#7201a8"
             ],
             [
              0.3333333333333333,
              "#9c179e"
             ],
             [
              0.4444444444444444,
              "#bd3786"
             ],
             [
              0.5555555555555556,
              "#d8576b"
             ],
             [
              0.6666666666666666,
              "#ed7953"
             ],
             [
              0.7777777777777778,
              "#fb9f3a"
             ],
             [
              0.8888888888888888,
              "#fdca26"
             ],
             [
              1,
              "#f0f921"
             ]
            ],
            "type": "contour"
           }
          ],
          "contourcarpet": [
           {
            "colorbar": {
             "outlinewidth": 0,
             "ticks": ""
            },
            "type": "contourcarpet"
           }
          ],
          "heatmap": [
           {
            "colorbar": {
             "outlinewidth": 0,
             "ticks": ""
            },
            "colorscale": [
             [
              0,
              "#0d0887"
             ],
             [
              0.1111111111111111,
              "#46039f"
             ],
             [
              0.2222222222222222,
              "#7201a8"
             ],
             [
              0.3333333333333333,
              "#9c179e"
             ],
             [
              0.4444444444444444,
              "#bd3786"
             ],
             [
              0.5555555555555556,
              "#d8576b"
             ],
             [
              0.6666666666666666,
              "#ed7953"
             ],
             [
              0.7777777777777778,
              "#fb9f3a"
             ],
             [
              0.8888888888888888,
              "#fdca26"
             ],
             [
              1,
              "#f0f921"
             ]
            ],
            "type": "heatmap"
           }
          ],
          "histogram": [
           {
            "marker": {
             "pattern": {
              "fillmode": "overlay",
              "size": 10,
              "solidity": 0.2
             }
            },
            "type": "histogram"
           }
          ],
          "histogram2d": [
           {
            "colorbar": {
             "outlinewidth": 0,
             "ticks": ""
            },
            "colorscale": [
             [
              0,
              "#0d0887"
             ],
             [
              0.1111111111111111,
              "#46039f"
             ],
             [
              0.2222222222222222,
              "#7201a8"
             ],
             [
              0.3333333333333333,
              "#9c179e"
             ],
             [
              0.4444444444444444,
              "#bd3786"
             ],
             [
              0.5555555555555556,
              "#d8576b"
             ],
             [
              0.6666666666666666,
              "#ed7953"
             ],
             [
              0.7777777777777778,
              "#fb9f3a"
             ],
             [
              0.8888888888888888,
              "#fdca26"
             ],
             [
              1,
              "#f0f921"
             ]
            ],
            "type": "histogram2d"
           }
          ],
          "histogram2dcontour": [
           {
            "colorbar": {
             "outlinewidth": 0,
             "ticks": ""
            },
            "colorscale": [
             [
              0,
              "#0d0887"
             ],
             [
              0.1111111111111111,
              "#46039f"
             ],
             [
              0.2222222222222222,
              "#7201a8"
             ],
             [
              0.3333333333333333,
              "#9c179e"
             ],
             [
              0.4444444444444444,
              "#bd3786"
             ],
             [
              0.5555555555555556,
              "#d8576b"
             ],
             [
              0.6666666666666666,
              "#ed7953"
             ],
             [
              0.7777777777777778,
              "#fb9f3a"
             ],
             [
              0.8888888888888888,
              "#fdca26"
             ],
             [
              1,
              "#f0f921"
             ]
            ],
            "type": "histogram2dcontour"
           }
          ],
          "mesh3d": [
           {
            "colorbar": {
             "outlinewidth": 0,
             "ticks": ""
            },
            "type": "mesh3d"
           }
          ],
          "parcoords": [
           {
            "line": {
             "colorbar": {
              "outlinewidth": 0,
              "ticks": ""
             }
            },
            "type": "parcoords"
           }
          ],
          "pie": [
           {
            "automargin": true,
            "type": "pie"
           }
          ],
          "scatter": [
           {
            "fillpattern": {
             "fillmode": "overlay",
             "size": 10,
             "solidity": 0.2
            },
            "type": "scatter"
           }
          ],
          "scatter3d": [
           {
            "line": {
             "colorbar": {
              "outlinewidth": 0,
              "ticks": ""
             }
            },
            "marker": {
             "colorbar": {
              "outlinewidth": 0,
              "ticks": ""
             }
            },
            "type": "scatter3d"
           }
          ],
          "scattercarpet": [
           {
            "marker": {
             "colorbar": {
              "outlinewidth": 0,
              "ticks": ""
             }
            },
            "type": "scattercarpet"
           }
          ],
          "scattergeo": [
           {
            "marker": {
             "colorbar": {
              "outlinewidth": 0,
              "ticks": ""
             }
            },
            "type": "scattergeo"
           }
          ],
          "scattergl": [
           {
            "marker": {
             "colorbar": {
              "outlinewidth": 0,
              "ticks": ""
             }
            },
            "type": "scattergl"
           }
          ],
          "scattermap": [
           {
            "marker": {
             "colorbar": {
              "outlinewidth": 0,
              "ticks": ""
             }
            },
            "type": "scattermap"
           }
          ],
          "scattermapbox": [
           {
            "marker": {
             "colorbar": {
              "outlinewidth": 0,
              "ticks": ""
             }
            },
            "type": "scattermapbox"
           }
          ],
          "scatterpolar": [
           {
            "marker": {
             "colorbar": {
              "outlinewidth": 0,
              "ticks": ""
             }
            },
            "type": "scatterpolar"
           }
          ],
          "scatterpolargl": [
           {
            "marker": {
             "colorbar": {
              "outlinewidth": 0,
              "ticks": ""
             }
            },
            "type": "scatterpolargl"
           }
          ],
          "scatterternary": [
           {
            "marker": {
             "colorbar": {
              "outlinewidth": 0,
              "ticks": ""
             }
            },
            "type": "scatterternary"
           }
          ],
          "surface": [
           {
            "colorbar": {
             "outlinewidth": 0,
             "ticks": ""
            },
            "colorscale": [
             [
              0,
              "#0d0887"
             ],
             [
              0.1111111111111111,
              "#46039f"
             ],
             [
              0.2222222222222222,
              "#7201a8"
             ],
             [
              0.3333333333333333,
              "#9c179e"
             ],
             [
              0.4444444444444444,
              "#bd3786"
             ],
             [
              0.5555555555555556,
              "#d8576b"
             ],
             [
              0.6666666666666666,
              "#ed7953"
             ],
             [
              0.7777777777777778,
              "#fb9f3a"
             ],
             [
              0.8888888888888888,
              "#fdca26"
             ],
             [
              1,
              "#f0f921"
             ]
            ],
            "type": "surface"
           }
          ],
          "table": [
           {
            "cells": {
             "fill": {
              "color": "#EBF0F8"
             },
             "line": {
              "color": "white"
             }
            },
            "header": {
             "fill": {
              "color": "#C8D4E3"
             },
             "line": {
              "color": "white"
             }
            },
            "type": "table"
           }
          ]
         },
         "layout": {
          "annotationdefaults": {
           "arrowcolor": "#2a3f5f",
           "arrowhead": 0,
           "arrowwidth": 1
          },
          "autotypenumbers": "strict",
          "coloraxis": {
           "colorbar": {
            "outlinewidth": 0,
            "ticks": ""
           }
          },
          "colorscale": {
           "diverging": [
            [
             0,
             "#8e0152"
            ],
            [
             0.1,
             "#c51b7d"
            ],
            [
             0.2,
             "#de77ae"
            ],
            [
             0.3,
             "#f1b6da"
            ],
            [
             0.4,
             "#fde0ef"
            ],
            [
             0.5,
             "#f7f7f7"
            ],
            [
             0.6,
             "#e6f5d0"
            ],
            [
             0.7,
             "#b8e186"
            ],
            [
             0.8,
             "#7fbc41"
            ],
            [
             0.9,
             "#4d9221"
            ],
            [
             1,
             "#276419"
            ]
           ],
           "sequential": [
            [
             0,
             "#0d0887"
            ],
            [
             0.1111111111111111,
             "#46039f"
            ],
            [
             0.2222222222222222,
             "#7201a8"
            ],
            [
             0.3333333333333333,
             "#9c179e"
            ],
            [
             0.4444444444444444,
             "#bd3786"
            ],
            [
             0.5555555555555556,
             "#d8576b"
            ],
            [
             0.6666666666666666,
             "#ed7953"
            ],
            [
             0.7777777777777778,
             "#fb9f3a"
            ],
            [
             0.8888888888888888,
             "#fdca26"
            ],
            [
             1,
             "#f0f921"
            ]
           ],
           "sequentialminus": [
            [
             0,
             "#0d0887"
            ],
            [
             0.1111111111111111,
             "#46039f"
            ],
            [
             0.2222222222222222,
             "#7201a8"
            ],
            [
             0.3333333333333333,
             "#9c179e"
            ],
            [
             0.4444444444444444,
             "#bd3786"
            ],
            [
             0.5555555555555556,
             "#d8576b"
            ],
            [
             0.6666666666666666,
             "#ed7953"
            ],
            [
             0.7777777777777778,
             "#fb9f3a"
            ],
            [
             0.8888888888888888,
             "#fdca26"
            ],
            [
             1,
             "#f0f921"
            ]
           ]
          },
          "colorway": [
           "#636efa",
           "#EF553B",
           "#00cc96",
           "#ab63fa",
           "#FFA15A",
           "#19d3f3",
           "#FF6692",
           "#B6E880",
           "#FF97FF",
           "#FECB52"
          ],
          "font": {
           "color": "#2a3f5f"
          },
          "geo": {
           "bgcolor": "white",
           "lakecolor": "white",
           "landcolor": "white",
           "showlakes": true,
           "showland": true,
           "subunitcolor": "#C8D4E3"
          },
          "hoverlabel": {
           "align": "left"
          },
          "hovermode": "closest",
          "mapbox": {
           "style": "light"
          },
          "paper_bgcolor": "white",
          "plot_bgcolor": "white",
          "polar": {
           "angularaxis": {
            "gridcolor": "#EBF0F8",
            "linecolor": "#EBF0F8",
            "ticks": ""
           },
           "bgcolor": "white",
           "radialaxis": {
            "gridcolor": "#EBF0F8",
            "linecolor": "#EBF0F8",
            "ticks": ""
           }
          },
          "scene": {
           "xaxis": {
            "backgroundcolor": "white",
            "gridcolor": "#DFE8F3",
            "gridwidth": 2,
            "linecolor": "#EBF0F8",
            "showbackground": true,
            "ticks": "",
            "zerolinecolor": "#EBF0F8"
           },
           "yaxis": {
            "backgroundcolor": "white",
            "gridcolor": "#DFE8F3",
            "gridwidth": 2,
            "linecolor": "#EBF0F8",
            "showbackground": true,
            "ticks": "",
            "zerolinecolor": "#EBF0F8"
           },
           "zaxis": {
            "backgroundcolor": "white",
            "gridcolor": "#DFE8F3",
            "gridwidth": 2,
            "linecolor": "#EBF0F8",
            "showbackground": true,
            "ticks": "",
            "zerolinecolor": "#EBF0F8"
           }
          },
          "shapedefaults": {
           "line": {
            "color": "#2a3f5f"
           }
          },
          "ternary": {
           "aaxis": {
            "gridcolor": "#DFE8F3",
            "linecolor": "#A2B1C6",
            "ticks": ""
           },
           "baxis": {
            "gridcolor": "#DFE8F3",
            "linecolor": "#A2B1C6",
            "ticks": ""
           },
           "bgcolor": "white",
           "caxis": {
            "gridcolor": "#DFE8F3",
            "linecolor": "#A2B1C6",
            "ticks": ""
           }
          },
          "title": {
           "x": 0.05
          },
          "xaxis": {
           "automargin": true,
           "gridcolor": "#EBF0F8",
           "linecolor": "#EBF0F8",
           "ticks": "",
           "title": {
            "standoff": 15
           },
           "zerolinecolor": "#EBF0F8",
           "zerolinewidth": 2
          },
          "yaxis": {
           "automargin": true,
           "gridcolor": "#EBF0F8",
           "linecolor": "#EBF0F8",
           "ticks": "",
           "title": {
            "standoff": 15
           },
           "zerolinecolor": "#EBF0F8",
           "zerolinewidth": 2
          }
         }
        },
        "title": {
         "text": "Price Distribution by Property_Type"
        },
        "xaxis": {
         "anchor": "y",
         "domain": [
          0,
          1
         ],
         "title": {
          "text": "Property_Type"
         }
        },
        "yaxis": {
         "anchor": "x",
         "domain": [
          0,
          1
         ],
         "title": {
          "text": "Price ($)"
         }
        }
       }
      }
     },
     "metadata": {},
     "output_type": "display_data"
    },
    {
     "name": "stdout",
     "output_type": "stream",
     "text": [
      "✅ Interactive plotly charts created successfully\n"
     ]
    }
   ],
   "source": [
    "# Create visualizations\n",
    "print(\"📊 Creating visualizations...\")\n",
    "\n",
    "try:\n",
    "    import plotly.express as px\n",
    "    import plotly.graph_objects as go\n",
    "    \n",
    "    # Initialize visualization suite\n",
    "    viz = PropertyVisualizationSuite()\n",
    "    \n",
    "    # Price distribution by property type\n",
    "    price_dist_fig = viz.create_price_distribution_chart(\n",
    "        geo_data, \n",
    "        group_by='property_type',\n",
    "        price_col='price'\n",
    "    )\n",
    "    price_dist_fig.show()\n",
    "    \n",
    "    print(\"✅ Interactive plotly charts created successfully\")\n",
    "    \n",
    "except ImportError:\n",
    "    print(\"⚠️ Plotly not available. Creating matplotlib visualizations...\")\n",
    "    \n",
    "    # Create simple matplotlib visualization as fallback\n",
    "    import matplotlib.pyplot as plt\n",
    "    \n",
    "    fig, axes = plt.subplots(2, 2, figsize=(15, 10))\n",
    "    \n",
    "    # Price by suburb\n",
    "    geo_data.boxplot(column='price', by='suburb', ax=axes[0,0])\n",
    "    axes[0,0].set_title('Price Distribution by Suburb')\n",
    "    axes[0,0].tick_params(axis='x', rotation=45)\n",
    "    \n",
    "    # Price by property type\n",
    "    geo_data.boxplot(column='price', by='property_type', ax=axes[0,1])\n",
    "    axes[0,1].set_title('Price Distribution by Property Type')\n",
    "    \n",
    "    # Price vs bedrooms\n",
    "    geo_data.groupby('bedrooms')['price'].median().plot(kind='bar', ax=axes[1,0])\n",
    "    axes[1,0].set_title('Median Price by Bedrooms')\n",
    "    \n",
    "    # Price vs distance to CBD\n",
    "    axes[1,1].scatter(geo_data['distance_to_cbd_km'], geo_data['price'], alpha=0.6)\n",
    "    axes[1,1].set_xlabel('Distance to CBD (km)')\n",
    "    axes[1,1].set_ylabel('Price ($)')\n",
    "    axes[1,1].set_title('Price vs Distance to CBD')\n",
    "    \n",
    "    plt.tight_layout()\n",
    "    plt.show()\n",
    "    \n",
    "    print(\"✅ Matplotlib charts created successfully\")"
   ]
  },
  {
   "cell_type": "code",
   "execution_count": 13,
   "id": "3aab3b2f",
   "metadata": {},
   "outputs": [
    {
     "data": {
      "application/vnd.plotly.v1+json": {
       "config": {
        "plotlyServerURL": "https://plot.ly"
       },
       "data": [
        {
         "delta": {
          "reference": 0,
          "suffix": "%"
         },
         "domain": {
          "x": [
           0,
           1
          ],
          "y": [
           0,
           1
          ]
         },
         "gauge": {
          "axis": {
           "range": [
            -50,
            50
           ]
          },
          "bar": {
           "color": "green"
          },
          "steps": [
           {
            "color": "lightgreen",
            "range": [
             -50,
             -15
            ]
           },
           {
            "color": "lightyellow",
            "range": [
             -15,
             15
            ]
           },
           {
            "color": "lightcoral",
            "range": [
             15,
             50
            ]
           }
          ],
          "threshold": {
           "line": {
            "color": "black",
            "width": 4
           },
           "thickness": 0.75,
           "value": 0
          }
         },
         "mode": "gauge+number+delta",
         "title": {
          "text": "Valuation Analysis<br>Perth - House"
         },
         "type": "indicator",
         "value": -35.40683517573741
        }
       ],
       "layout": {
        "annotations": [
         {
          "showarrow": false,
          "text": "Status: Undervalued<br>Actual: $289,620<br>Predicted: $448,376",
          "x": 0.5,
          "xanchor": "center",
          "y": 0.1
         }
        ],
        "template": {
         "data": {
          "bar": [
           {
            "error_x": {
             "color": "#2a3f5f"
            },
            "error_y": {
             "color": "#2a3f5f"
            },
            "marker": {
             "line": {
              "color": "white",
              "width": 0.5
             },
             "pattern": {
              "fillmode": "overlay",
              "size": 10,
              "solidity": 0.2
             }
            },
            "type": "bar"
           }
          ],
          "barpolar": [
           {
            "marker": {
             "line": {
              "color": "white",
              "width": 0.5
             },
             "pattern": {
              "fillmode": "overlay",
              "size": 10,
              "solidity": 0.2
             }
            },
            "type": "barpolar"
           }
          ],
          "carpet": [
           {
            "aaxis": {
             "endlinecolor": "#2a3f5f",
             "gridcolor": "#C8D4E3",
             "linecolor": "#C8D4E3",
             "minorgridcolor": "#C8D4E3",
             "startlinecolor": "#2a3f5f"
            },
            "baxis": {
             "endlinecolor": "#2a3f5f",
             "gridcolor": "#C8D4E3",
             "linecolor": "#C8D4E3",
             "minorgridcolor": "#C8D4E3",
             "startlinecolor": "#2a3f5f"
            },
            "type": "carpet"
           }
          ],
          "choropleth": [
           {
            "colorbar": {
             "outlinewidth": 0,
             "ticks": ""
            },
            "type": "choropleth"
           }
          ],
          "contour": [
           {
            "colorbar": {
             "outlinewidth": 0,
             "ticks": ""
            },
            "colorscale": [
             [
              0,
              "#0d0887"
             ],
             [
              0.1111111111111111,
              "#46039f"
             ],
             [
              0.2222222222222222,
              "#7201a8"
             ],
             [
              0.3333333333333333,
              "#9c179e"
             ],
             [
              0.4444444444444444,
              "#bd3786"
             ],
             [
              0.5555555555555556,
              "#d8576b"
             ],
             [
              0.6666666666666666,
              "#ed7953"
             ],
             [
              0.7777777777777778,
              "#fb9f3a"
             ],
             [
              0.8888888888888888,
              "#fdca26"
             ],
             [
              1,
              "#f0f921"
             ]
            ],
            "type": "contour"
           }
          ],
          "contourcarpet": [
           {
            "colorbar": {
             "outlinewidth": 0,
             "ticks": ""
            },
            "type": "contourcarpet"
           }
          ],
          "heatmap": [
           {
            "colorbar": {
             "outlinewidth": 0,
             "ticks": ""
            },
            "colorscale": [
             [
              0,
              "#0d0887"
             ],
             [
              0.1111111111111111,
              "#46039f"
             ],
             [
              0.2222222222222222,
              "#7201a8"
             ],
             [
              0.3333333333333333,
              "#9c179e"
             ],
             [
              0.4444444444444444,
              "#bd3786"
             ],
             [
              0.5555555555555556,
              "#d8576b"
             ],
             [
              0.6666666666666666,
              "#ed7953"
             ],
             [
              0.7777777777777778,
              "#fb9f3a"
             ],
             [
              0.8888888888888888,
              "#fdca26"
             ],
             [
              1,
              "#f0f921"
             ]
            ],
            "type": "heatmap"
           }
          ],
          "histogram": [
           {
            "marker": {
             "pattern": {
              "fillmode": "overlay",
              "size": 10,
              "solidity": 0.2
             }
            },
            "type": "histogram"
           }
          ],
          "histogram2d": [
           {
            "colorbar": {
             "outlinewidth": 0,
             "ticks": ""
            },
            "colorscale": [
             [
              0,
              "#0d0887"
             ],
             [
              0.1111111111111111,
              "#46039f"
             ],
             [
              0.2222222222222222,
              "#7201a8"
             ],
             [
              0.3333333333333333,
              "#9c179e"
             ],
             [
              0.4444444444444444,
              "#bd3786"
             ],
             [
              0.5555555555555556,
              "#d8576b"
             ],
             [
              0.6666666666666666,
              "#ed7953"
             ],
             [
              0.7777777777777778,
              "#fb9f3a"
             ],
             [
              0.8888888888888888,
              "#fdca26"
             ],
             [
              1,
              "#f0f921"
             ]
            ],
            "type": "histogram2d"
           }
          ],
          "histogram2dcontour": [
           {
            "colorbar": {
             "outlinewidth": 0,
             "ticks": ""
            },
            "colorscale": [
             [
              0,
              "#0d0887"
             ],
             [
              0.1111111111111111,
              "#46039f"
             ],
             [
              0.2222222222222222,
              "#7201a8"
             ],
             [
              0.3333333333333333,
              "#9c179e"
             ],
             [
              0.4444444444444444,
              "#bd3786"
             ],
             [
              0.5555555555555556,
              "#d8576b"
             ],
             [
              0.6666666666666666,
              "#ed7953"
             ],
             [
              0.7777777777777778,
              "#fb9f3a"
             ],
             [
              0.8888888888888888,
              "#fdca26"
             ],
             [
              1,
              "#f0f921"
             ]
            ],
            "type": "histogram2dcontour"
           }
          ],
          "mesh3d": [
           {
            "colorbar": {
             "outlinewidth": 0,
             "ticks": ""
            },
            "type": "mesh3d"
           }
          ],
          "parcoords": [
           {
            "line": {
             "colorbar": {
              "outlinewidth": 0,
              "ticks": ""
             }
            },
            "type": "parcoords"
           }
          ],
          "pie": [
           {
            "automargin": true,
            "type": "pie"
           }
          ],
          "scatter": [
           {
            "fillpattern": {
             "fillmode": "overlay",
             "size": 10,
             "solidity": 0.2
            },
            "type": "scatter"
           }
          ],
          "scatter3d": [
           {
            "line": {
             "colorbar": {
              "outlinewidth": 0,
              "ticks": ""
             }
            },
            "marker": {
             "colorbar": {
              "outlinewidth": 0,
              "ticks": ""
             }
            },
            "type": "scatter3d"
           }
          ],
          "scattercarpet": [
           {
            "marker": {
             "colorbar": {
              "outlinewidth": 0,
              "ticks": ""
             }
            },
            "type": "scattercarpet"
           }
          ],
          "scattergeo": [
           {
            "marker": {
             "colorbar": {
              "outlinewidth": 0,
              "ticks": ""
             }
            },
            "type": "scattergeo"
           }
          ],
          "scattergl": [
           {
            "marker": {
             "colorbar": {
              "outlinewidth": 0,
              "ticks": ""
             }
            },
            "type": "scattergl"
           }
          ],
          "scattermap": [
           {
            "marker": {
             "colorbar": {
              "outlinewidth": 0,
              "ticks": ""
             }
            },
            "type": "scattermap"
           }
          ],
          "scattermapbox": [
           {
            "marker": {
             "colorbar": {
              "outlinewidth": 0,
              "ticks": ""
             }
            },
            "type": "scattermapbox"
           }
          ],
          "scatterpolar": [
           {
            "marker": {
             "colorbar": {
              "outlinewidth": 0,
              "ticks": ""
             }
            },
            "type": "scatterpolar"
           }
          ],
          "scatterpolargl": [
           {
            "marker": {
             "colorbar": {
              "outlinewidth": 0,
              "ticks": ""
             }
            },
            "type": "scatterpolargl"
           }
          ],
          "scatterternary": [
           {
            "marker": {
             "colorbar": {
              "outlinewidth": 0,
              "ticks": ""
             }
            },
            "type": "scatterternary"
           }
          ],
          "surface": [
           {
            "colorbar": {
             "outlinewidth": 0,
             "ticks": ""
            },
            "colorscale": [
             [
              0,
              "#0d0887"
             ],
             [
              0.1111111111111111,
              "#46039f"
             ],
             [
              0.2222222222222222,
              "#7201a8"
             ],
             [
              0.3333333333333333,
              "#9c179e"
             ],
             [
              0.4444444444444444,
              "#bd3786"
             ],
             [
              0.5555555555555556,
              "#d8576b"
             ],
             [
              0.6666666666666666,
              "#ed7953"
             ],
             [
              0.7777777777777778,
              "#fb9f3a"
             ],
             [
              0.8888888888888888,
              "#fdca26"
             ],
             [
              1,
              "#f0f921"
             ]
            ],
            "type": "surface"
           }
          ],
          "table": [
           {
            "cells": {
             "fill": {
              "color": "#EBF0F8"
             },
             "line": {
              "color": "white"
             }
            },
            "header": {
             "fill": {
              "color": "#C8D4E3"
             },
             "line": {
              "color": "white"
             }
            },
            "type": "table"
           }
          ]
         },
         "layout": {
          "annotationdefaults": {
           "arrowcolor": "#2a3f5f",
           "arrowhead": 0,
           "arrowwidth": 1
          },
          "autotypenumbers": "strict",
          "coloraxis": {
           "colorbar": {
            "outlinewidth": 0,
            "ticks": ""
           }
          },
          "colorscale": {
           "diverging": [
            [
             0,
             "#8e0152"
            ],
            [
             0.1,
             "#c51b7d"
            ],
            [
             0.2,
             "#de77ae"
            ],
            [
             0.3,
             "#f1b6da"
            ],
            [
             0.4,
             "#fde0ef"
            ],
            [
             0.5,
             "#f7f7f7"
            ],
            [
             0.6,
             "#e6f5d0"
            ],
            [
             0.7,
             "#b8e186"
            ],
            [
             0.8,
             "#7fbc41"
            ],
            [
             0.9,
             "#4d9221"
            ],
            [
             1,
             "#276419"
            ]
           ],
           "sequential": [
            [
             0,
             "#0d0887"
            ],
            [
             0.1111111111111111,
             "#46039f"
            ],
            [
             0.2222222222222222,
             "#7201a8"
            ],
            [
             0.3333333333333333,
             "#9c179e"
            ],
            [
             0.4444444444444444,
             "#bd3786"
            ],
            [
             0.5555555555555556,
             "#d8576b"
            ],
            [
             0.6666666666666666,
             "#ed7953"
            ],
            [
             0.7777777777777778,
             "#fb9f3a"
            ],
            [
             0.8888888888888888,
             "#fdca26"
            ],
            [
             1,
             "#f0f921"
            ]
           ],
           "sequentialminus": [
            [
             0,
             "#0d0887"
            ],
            [
             0.1111111111111111,
             "#46039f"
            ],
            [
             0.2222222222222222,
             "#7201a8"
            ],
            [
             0.3333333333333333,
             "#9c179e"
            ],
            [
             0.4444444444444444,
             "#bd3786"
            ],
            [
             0.5555555555555556,
             "#d8576b"
            ],
            [
             0.6666666666666666,
             "#ed7953"
            ],
            [
             0.7777777777777778,
             "#fb9f3a"
            ],
            [
             0.8888888888888888,
             "#fdca26"
            ],
            [
             1,
             "#f0f921"
            ]
           ]
          },
          "colorway": [
           "#636efa",
           "#EF553B",
           "#00cc96",
           "#ab63fa",
           "#FFA15A",
           "#19d3f3",
           "#FF6692",
           "#B6E880",
           "#FF97FF",
           "#FECB52"
          ],
          "font": {
           "color": "#2a3f5f"
          },
          "geo": {
           "bgcolor": "white",
           "lakecolor": "white",
           "landcolor": "white",
           "showlakes": true,
           "showland": true,
           "subunitcolor": "#C8D4E3"
          },
          "hoverlabel": {
           "align": "left"
          },
          "hovermode": "closest",
          "mapbox": {
           "style": "light"
          },
          "paper_bgcolor": "white",
          "plot_bgcolor": "white",
          "polar": {
           "angularaxis": {
            "gridcolor": "#EBF0F8",
            "linecolor": "#EBF0F8",
            "ticks": ""
           },
           "bgcolor": "white",
           "radialaxis": {
            "gridcolor": "#EBF0F8",
            "linecolor": "#EBF0F8",
            "ticks": ""
           }
          },
          "scene": {
           "xaxis": {
            "backgroundcolor": "white",
            "gridcolor": "#DFE8F3",
            "gridwidth": 2,
            "linecolor": "#EBF0F8",
            "showbackground": true,
            "ticks": "",
            "zerolinecolor": "#EBF0F8"
           },
           "yaxis": {
            "backgroundcolor": "white",
            "gridcolor": "#DFE8F3",
            "gridwidth": 2,
            "linecolor": "#EBF0F8",
            "showbackground": true,
            "ticks": "",
            "zerolinecolor": "#EBF0F8"
           },
           "zaxis": {
            "backgroundcolor": "white",
            "gridcolor": "#DFE8F3",
            "gridwidth": 2,
            "linecolor": "#EBF0F8",
            "showbackground": true,
            "ticks": "",
            "zerolinecolor": "#EBF0F8"
           }
          },
          "shapedefaults": {
           "line": {
            "color": "#2a3f5f"
           }
          },
          "ternary": {
           "aaxis": {
            "gridcolor": "#DFE8F3",
            "linecolor": "#A2B1C6",
            "ticks": ""
           },
           "baxis": {
            "gridcolor": "#DFE8F3",
            "linecolor": "#A2B1C6",
            "ticks": ""
           },
           "bgcolor": "white",
           "caxis": {
            "gridcolor": "#DFE8F3",
            "linecolor": "#A2B1C6",
            "ticks": ""
           }
          },
          "title": {
           "x": 0.05
          },
          "xaxis": {
           "automargin": true,
           "gridcolor": "#EBF0F8",
           "linecolor": "#EBF0F8",
           "ticks": "",
           "title": {
            "standoff": 15
           },
           "zerolinecolor": "#EBF0F8",
           "zerolinewidth": 2
          },
          "yaxis": {
           "automargin": true,
           "gridcolor": "#EBF0F8",
           "linecolor": "#EBF0F8",
           "ticks": "",
           "title": {
            "standoff": 15
           },
           "zerolinecolor": "#EBF0F8",
           "zerolinewidth": 2
          }
         }
        }
       }
      }
     },
     "metadata": {},
     "output_type": "display_data"
    }
   ],
   "source": [
    "# Valuation gauge for a sample property\n",
    "try:\n",
    "    sample_property = valuation_analysis.iloc[0]\n",
    "    \n",
    "    gauge_fig = viz.create_valuation_gauge(\n",
    "        actual_price=sample_property['price'],\n",
    "        predicted_price=sample_property['predicted_price'],\n",
    "        property_address=f\"{sample_property['suburb']} - {sample_property['property_type']}\"\n",
    "    )\n",
    "    gauge_fig.show()\n",
    "    \n",
    "except (NameError, ImportError):\n",
    "    print(\"📊 Creating text-based valuation summary...\")\n",
    "    \n",
    "    # Text-based valuation summary\n",
    "    sample_property = valuation_analysis.iloc[0]\n",
    "    valuation_pct = sample_property['price_difference_pct']\n",
    "    \n",
    "    print(f\"\\n🏠 SAMPLE PROPERTY VALUATION\")\n",
    "    print(f\"Location: {sample_property['suburb']}\")\n",
    "    print(f\"Type: {sample_property['property_type']}\")\n",
    "    print(f\"Actual Price: ${sample_property['price']:,.0f}\")\n",
    "    print(f\"Model Prediction: ${sample_property['predicted_price']:,.0f}\")\n",
    "    print(f\"Difference: {valuation_pct:.1f}%\")\n",
    "    print(f\"Status: {sample_property['valuation_status']}\")"
   ]
  },
  {
   "cell_type": "code",
   "execution_count": 14,
   "id": "e66cebaa",
   "metadata": {},
   "outputs": [
    {
     "data": {
      "application/vnd.plotly.v1+json": {
       "config": {
        "plotlyServerURL": "https://plot.ly"
       },
       "data": [
        {
         "fill": "toself",
         "fillcolor": "rgba(0,100,80,0.2)",
         "hoverinfo": "skip",
         "line": {
          "color": "rgba(255,255,255,0)"
         },
         "name": "90% Confidence Band",
         "type": "scatter",
         "x": [
          0,
          1,
          2,
          3,
          4,
          5,
          5,
          4,
          3,
          2,
          1,
          0
         ],
         "y": [
          601134.4167871205,
          703678.8136908958,
          786848.2523309847,
          875821.6860486767,
          978258.278856166,
          1078895.7918201028,
          754448.168374958,
          713267.922875629,
          663402.3740307143,
          633351.6297771904,
          604421.9292082225,
          601134.4167871205
         ]
        },
        {
         "fill": "toself",
         "fillcolor": "rgba(0,100,80,0.4)",
         "hoverinfo": "skip",
         "line": {
          "color": "rgba(255,255,255,0)"
         },
         "name": "50% Confidence Band",
         "type": "scatter",
         "x": [
          0,
          1,
          2,
          3,
          4,
          5,
          5,
          4,
          3,
          2,
          1,
          0
         ],
         "y": [
          601134.4167871205,
          673082.9678464336,
          741833.1819513037,
          813307.8746559025,
          890530.4987410628,
          981252.163147522,
          845748.9548666375,
          781031.7090898647,
          726496.7777394868,
          676359.1007317286,
          633394.8803739984,
          601134.4167871205
         ]
        },
        {
         "line": {
          "color": "blue",
          "width": 3
         },
         "mode": "lines",
         "name": "Median Forecast",
         "type": "scatter",
         "x": [
          0,
          1,
          2,
          3,
          4,
          5
         ],
         "y": [
          601134.4167871205,
          653420.0932968134,
          708341.9285712505,
          774795.8573114064,
          841236.3556104791,
          911844.1072595068
         ]
        },
        {
         "line": {
          "color": "red",
          "dash": "dash",
          "width": 2
         },
         "mode": "lines",
         "name": "Mean Forecast",
         "type": "scatter",
         "x": [
          0,
          1,
          2,
          3,
          4,
          5
         ],
         "y": [
          601134.4167871206,
          653421.649434303,
          709321.1275246473,
          771989.2901661432,
          840403.9366194146,
          913376.0547847701
         ]
        }
       ],
       "layout": {
        "hovermode": "x unified",
        "template": {
         "data": {
          "bar": [
           {
            "error_x": {
             "color": "#2a3f5f"
            },
            "error_y": {
             "color": "#2a3f5f"
            },
            "marker": {
             "line": {
              "color": "white",
              "width": 0.5
             },
             "pattern": {
              "fillmode": "overlay",
              "size": 10,
              "solidity": 0.2
             }
            },
            "type": "bar"
           }
          ],
          "barpolar": [
           {
            "marker": {
             "line": {
              "color": "white",
              "width": 0.5
             },
             "pattern": {
              "fillmode": "overlay",
              "size": 10,
              "solidity": 0.2
             }
            },
            "type": "barpolar"
           }
          ],
          "carpet": [
           {
            "aaxis": {
             "endlinecolor": "#2a3f5f",
             "gridcolor": "#C8D4E3",
             "linecolor": "#C8D4E3",
             "minorgridcolor": "#C8D4E3",
             "startlinecolor": "#2a3f5f"
            },
            "baxis": {
             "endlinecolor": "#2a3f5f",
             "gridcolor": "#C8D4E3",
             "linecolor": "#C8D4E3",
             "minorgridcolor": "#C8D4E3",
             "startlinecolor": "#2a3f5f"
            },
            "type": "carpet"
           }
          ],
          "choropleth": [
           {
            "colorbar": {
             "outlinewidth": 0,
             "ticks": ""
            },
            "type": "choropleth"
           }
          ],
          "contour": [
           {
            "colorbar": {
             "outlinewidth": 0,
             "ticks": ""
            },
            "colorscale": [
             [
              0,
              "#0d0887"
             ],
             [
              0.1111111111111111,
              "#46039f"
             ],
             [
              0.2222222222222222,
              "#7201a8"
             ],
             [
              0.3333333333333333,
              "#9c179e"
             ],
             [
              0.4444444444444444,
              "#bd3786"
             ],
             [
              0.5555555555555556,
              "#d8576b"
             ],
             [
              0.6666666666666666,
              "#ed7953"
             ],
             [
              0.7777777777777778,
              "#fb9f3a"
             ],
             [
              0.8888888888888888,
              "#fdca26"
             ],
             [
              1,
              "#f0f921"
             ]
            ],
            "type": "contour"
           }
          ],
          "contourcarpet": [
           {
            "colorbar": {
             "outlinewidth": 0,
             "ticks": ""
            },
            "type": "contourcarpet"
           }
          ],
          "heatmap": [
           {
            "colorbar": {
             "outlinewidth": 0,
             "ticks": ""
            },
            "colorscale": [
             [
              0,
              "#0d0887"
             ],
             [
              0.1111111111111111,
              "#46039f"
             ],
             [
              0.2222222222222222,
              "#7201a8"
             ],
             [
              0.3333333333333333,
              "#9c179e"
             ],
             [
              0.4444444444444444,
              "#bd3786"
             ],
             [
              0.5555555555555556,
              "#d8576b"
             ],
             [
              0.6666666666666666,
              "#ed7953"
             ],
             [
              0.7777777777777778,
              "#fb9f3a"
             ],
             [
              0.8888888888888888,
              "#fdca26"
             ],
             [
              1,
              "#f0f921"
             ]
            ],
            "type": "heatmap"
           }
          ],
          "histogram": [
           {
            "marker": {
             "pattern": {
              "fillmode": "overlay",
              "size": 10,
              "solidity": 0.2
             }
            },
            "type": "histogram"
           }
          ],
          "histogram2d": [
           {
            "colorbar": {
             "outlinewidth": 0,
             "ticks": ""
            },
            "colorscale": [
             [
              0,
              "#0d0887"
             ],
             [
              0.1111111111111111,
              "#46039f"
             ],
             [
              0.2222222222222222,
              "#7201a8"
             ],
             [
              0.3333333333333333,
              "#9c179e"
             ],
             [
              0.4444444444444444,
              "#bd3786"
             ],
             [
              0.5555555555555556,
              "#d8576b"
             ],
             [
              0.6666666666666666,
              "#ed7953"
             ],
             [
              0.7777777777777778,
              "#fb9f3a"
             ],
             [
              0.8888888888888888,
              "#fdca26"
             ],
             [
              1,
              "#f0f921"
             ]
            ],
            "type": "histogram2d"
           }
          ],
          "histogram2dcontour": [
           {
            "colorbar": {
             "outlinewidth": 0,
             "ticks": ""
            },
            "colorscale": [
             [
              0,
              "#0d0887"
             ],
             [
              0.1111111111111111,
              "#46039f"
             ],
             [
              0.2222222222222222,
              "#7201a8"
             ],
             [
              0.3333333333333333,
              "#9c179e"
             ],
             [
              0.4444444444444444,
              "#bd3786"
             ],
             [
              0.5555555555555556,
              "#d8576b"
             ],
             [
              0.6666666666666666,
              "#ed7953"
             ],
             [
              0.7777777777777778,
              "#fb9f3a"
             ],
             [
              0.8888888888888888,
              "#fdca26"
             ],
             [
              1,
              "#f0f921"
             ]
            ],
            "type": "histogram2dcontour"
           }
          ],
          "mesh3d": [
           {
            "colorbar": {
             "outlinewidth": 0,
             "ticks": ""
            },
            "type": "mesh3d"
           }
          ],
          "parcoords": [
           {
            "line": {
             "colorbar": {
              "outlinewidth": 0,
              "ticks": ""
             }
            },
            "type": "parcoords"
           }
          ],
          "pie": [
           {
            "automargin": true,
            "type": "pie"
           }
          ],
          "scatter": [
           {
            "fillpattern": {
             "fillmode": "overlay",
             "size": 10,
             "solidity": 0.2
            },
            "type": "scatter"
           }
          ],
          "scatter3d": [
           {
            "line": {
             "colorbar": {
              "outlinewidth": 0,
              "ticks": ""
             }
            },
            "marker": {
             "colorbar": {
              "outlinewidth": 0,
              "ticks": ""
             }
            },
            "type": "scatter3d"
           }
          ],
          "scattercarpet": [
           {
            "marker": {
             "colorbar": {
              "outlinewidth": 0,
              "ticks": ""
             }
            },
            "type": "scattercarpet"
           }
          ],
          "scattergeo": [
           {
            "marker": {
             "colorbar": {
              "outlinewidth": 0,
              "ticks": ""
             }
            },
            "type": "scattergeo"
           }
          ],
          "scattergl": [
           {
            "marker": {
             "colorbar": {
              "outlinewidth": 0,
              "ticks": ""
             }
            },
            "type": "scattergl"
           }
          ],
          "scattermap": [
           {
            "marker": {
             "colorbar": {
              "outlinewidth": 0,
              "ticks": ""
             }
            },
            "type": "scattermap"
           }
          ],
          "scattermapbox": [
           {
            "marker": {
             "colorbar": {
              "outlinewidth": 0,
              "ticks": ""
             }
            },
            "type": "scattermapbox"
           }
          ],
          "scatterpolar": [
           {
            "marker": {
             "colorbar": {
              "outlinewidth": 0,
              "ticks": ""
             }
            },
            "type": "scatterpolar"
           }
          ],
          "scatterpolargl": [
           {
            "marker": {
             "colorbar": {
              "outlinewidth": 0,
              "ticks": ""
             }
            },
            "type": "scatterpolargl"
           }
          ],
          "scatterternary": [
           {
            "marker": {
             "colorbar": {
              "outlinewidth": 0,
              "ticks": ""
             }
            },
            "type": "scatterternary"
           }
          ],
          "surface": [
           {
            "colorbar": {
             "outlinewidth": 0,
             "ticks": ""
            },
            "colorscale": [
             [
              0,
              "#0d0887"
             ],
             [
              0.1111111111111111,
              "#46039f"
             ],
             [
              0.2222222222222222,
              "#7201a8"
             ],
             [
              0.3333333333333333,
              "#9c179e"
             ],
             [
              0.4444444444444444,
              "#bd3786"
             ],
             [
              0.5555555555555556,
              "#d8576b"
             ],
             [
              0.6666666666666666,
              "#ed7953"
             ],
             [
              0.7777777777777778,
              "#fb9f3a"
             ],
             [
              0.8888888888888888,
              "#fdca26"
             ],
             [
              1,
              "#f0f921"
             ]
            ],
            "type": "surface"
           }
          ],
          "table": [
           {
            "cells": {
             "fill": {
              "color": "#EBF0F8"
             },
             "line": {
              "color": "white"
             }
            },
            "header": {
             "fill": {
              "color": "#C8D4E3"
             },
             "line": {
              "color": "white"
             }
            },
            "type": "table"
           }
          ]
         },
         "layout": {
          "annotationdefaults": {
           "arrowcolor": "#2a3f5f",
           "arrowhead": 0,
           "arrowwidth": 1
          },
          "autotypenumbers": "strict",
          "coloraxis": {
           "colorbar": {
            "outlinewidth": 0,
            "ticks": ""
           }
          },
          "colorscale": {
           "diverging": [
            [
             0,
             "#8e0152"
            ],
            [
             0.1,
             "#c51b7d"
            ],
            [
             0.2,
             "#de77ae"
            ],
            [
             0.3,
             "#f1b6da"
            ],
            [
             0.4,
             "#fde0ef"
            ],
            [
             0.5,
             "#f7f7f7"
            ],
            [
             0.6,
             "#e6f5d0"
            ],
            [
             0.7,
             "#b8e186"
            ],
            [
             0.8,
             "#7fbc41"
            ],
            [
             0.9,
             "#4d9221"
            ],
            [
             1,
             "#276419"
            ]
           ],
           "sequential": [
            [
             0,
             "#0d0887"
            ],
            [
             0.1111111111111111,
             "#46039f"
            ],
            [
             0.2222222222222222,
             "#7201a8"
            ],
            [
             0.3333333333333333,
             "#9c179e"
            ],
            [
             0.4444444444444444,
             "#bd3786"
            ],
            [
             0.5555555555555556,
             "#d8576b"
            ],
            [
             0.6666666666666666,
             "#ed7953"
            ],
            [
             0.7777777777777778,
             "#fb9f3a"
            ],
            [
             0.8888888888888888,
             "#fdca26"
            ],
            [
             1,
             "#f0f921"
            ]
           ],
           "sequentialminus": [
            [
             0,
             "#0d0887"
            ],
            [
             0.1111111111111111,
             "#46039f"
            ],
            [
             0.2222222222222222,
             "#7201a8"
            ],
            [
             0.3333333333333333,
             "#9c179e"
            ],
            [
             0.4444444444444444,
             "#bd3786"
            ],
            [
             0.5555555555555556,
             "#d8576b"
            ],
            [
             0.6666666666666666,
             "#ed7953"
            ],
            [
             0.7777777777777778,
             "#fb9f3a"
            ],
            [
             0.8888888888888888,
             "#fdca26"
            ],
            [
             1,
             "#f0f921"
            ]
           ]
          },
          "colorway": [
           "#636efa",
           "#EF553B",
           "#00cc96",
           "#ab63fa",
           "#FFA15A",
           "#19d3f3",
           "#FF6692",
           "#B6E880",
           "#FF97FF",
           "#FECB52"
          ],
          "font": {
           "color": "#2a3f5f"
          },
          "geo": {
           "bgcolor": "white",
           "lakecolor": "white",
           "landcolor": "white",
           "showlakes": true,
           "showland": true,
           "subunitcolor": "#C8D4E3"
          },
          "hoverlabel": {
           "align": "left"
          },
          "hovermode": "closest",
          "mapbox": {
           "style": "light"
          },
          "paper_bgcolor": "white",
          "plot_bgcolor": "white",
          "polar": {
           "angularaxis": {
            "gridcolor": "#EBF0F8",
            "linecolor": "#EBF0F8",
            "ticks": ""
           },
           "bgcolor": "white",
           "radialaxis": {
            "gridcolor": "#EBF0F8",
            "linecolor": "#EBF0F8",
            "ticks": ""
           }
          },
          "scene": {
           "xaxis": {
            "backgroundcolor": "white",
            "gridcolor": "#DFE8F3",
            "gridwidth": 2,
            "linecolor": "#EBF0F8",
            "showbackground": true,
            "ticks": "",
            "zerolinecolor": "#EBF0F8"
           },
           "yaxis": {
            "backgroundcolor": "white",
            "gridcolor": "#DFE8F3",
            "gridwidth": 2,
            "linecolor": "#EBF0F8",
            "showbackground": true,
            "ticks": "",
            "zerolinecolor": "#EBF0F8"
           },
           "zaxis": {
            "backgroundcolor": "white",
            "gridcolor": "#DFE8F3",
            "gridwidth": 2,
            "linecolor": "#EBF0F8",
            "showbackground": true,
            "ticks": "",
            "zerolinecolor": "#EBF0F8"
           }
          },
          "shapedefaults": {
           "line": {
            "color": "#2a3f5f"
           }
          },
          "ternary": {
           "aaxis": {
            "gridcolor": "#DFE8F3",
            "linecolor": "#A2B1C6",
            "ticks": ""
           },
           "baxis": {
            "gridcolor": "#DFE8F3",
            "linecolor": "#A2B1C6",
            "ticks": ""
           },
           "bgcolor": "white",
           "caxis": {
            "gridcolor": "#DFE8F3",
            "linecolor": "#A2B1C6",
            "ticks": ""
           }
          },
          "title": {
           "x": 0.05
          },
          "xaxis": {
           "automargin": true,
           "gridcolor": "#EBF0F8",
           "linecolor": "#EBF0F8",
           "ticks": "",
           "title": {
            "standoff": 15
           },
           "zerolinecolor": "#EBF0F8",
           "zerolinewidth": 2
          },
          "yaxis": {
           "automargin": true,
           "gridcolor": "#EBF0F8",
           "linecolor": "#EBF0F8",
           "ticks": "",
           "title": {
            "standoff": 15
           },
           "zerolinecolor": "#EBF0F8",
           "zerolinewidth": 2
          }
         }
        },
        "title": {
         "text": "Property Price Forecast - 5 Year Monte Carlo Simulation"
        },
        "xaxis": {
         "title": {
          "text": "Years"
         }
        },
        "yaxis": {
         "title": {
          "text": "Property Price ($)"
         }
        }
       }
      }
     },
     "metadata": {},
     "output_type": "display_data"
    },
    {
     "data": {
      "application/vnd.plotly.v1+json": {
       "config": {
        "plotlyServerURL": "https://plot.ly"
       },
       "data": [
        {
         "name": "Price Distribution",
         "nbinsx": 50,
         "opacity": 0.7,
         "type": "histogram",
         "x": {
          "bdata": "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",
          "dtype": "f8"
         }
        }
       ],
       "layout": {
        "annotations": [
         {
          "showarrow": false,
          "text": "Mean: $913,376",
          "x": 913376.0547847701,
          "xanchor": "left",
          "xref": "x",
          "y": 1,
          "yanchor": "top",
          "yref": "y domain"
         },
         {
          "showarrow": false,
          "text": "Median: $911,844",
          "x": 911844.1072595068,
          "xanchor": "left",
          "xref": "x",
          "y": 1,
          "yanchor": "top",
          "yref": "y domain"
         },
         {
          "showarrow": false,
          "text": "Current: $601,134",
          "x": 601134.4167871205,
          "xanchor": "left",
          "xref": "x",
          "y": 1,
          "yanchor": "top",
          "yref": "y domain"
         }
        ],
        "shapes": [
         {
          "line": {
           "color": "red",
           "dash": "dash"
          },
          "type": "line",
          "x0": 913376.0547847701,
          "x1": 913376.0547847701,
          "xref": "x",
          "y0": 0,
          "y1": 1,
          "yref": "y domain"
         },
         {
          "line": {
           "color": "blue",
           "dash": "dot"
          },
          "type": "line",
          "x0": 911844.1072595068,
          "x1": 911844.1072595068,
          "xref": "x",
          "y0": 0,
          "y1": 1,
          "yref": "y domain"
         },
         {
          "line": {
           "color": "green",
           "dash": "solid"
          },
          "type": "line",
          "x0": 601134.4167871205,
          "x1": 601134.4167871205,
          "xref": "x",
          "y0": 0,
          "y1": 1,
          "yref": "y domain"
         }
        ],
        "template": {
         "data": {
          "bar": [
           {
            "error_x": {
             "color": "#2a3f5f"
            },
            "error_y": {
             "color": "#2a3f5f"
            },
            "marker": {
             "line": {
              "color": "white",
              "width": 0.5
             },
             "pattern": {
              "fillmode": "overlay",
              "size": 10,
              "solidity": 0.2
             }
            },
            "type": "bar"
           }
          ],
          "barpolar": [
           {
            "marker": {
             "line": {
              "color": "white",
              "width": 0.5
             },
             "pattern": {
              "fillmode": "overlay",
              "size": 10,
              "solidity": 0.2
             }
            },
            "type": "barpolar"
           }
          ],
          "carpet": [
           {
            "aaxis": {
             "endlinecolor": "#2a3f5f",
             "gridcolor": "#C8D4E3",
             "linecolor": "#C8D4E3",
             "minorgridcolor": "#C8D4E3",
             "startlinecolor": "#2a3f5f"
            },
            "baxis": {
             "endlinecolor": "#2a3f5f",
             "gridcolor": "#C8D4E3",
             "linecolor": "#C8D4E3",
             "minorgridcolor": "#C8D4E3",
             "startlinecolor": "#2a3f5f"
            },
            "type": "carpet"
           }
          ],
          "choropleth": [
           {
            "colorbar": {
             "outlinewidth": 0,
             "ticks": ""
            },
            "type": "choropleth"
           }
          ],
          "contour": [
           {
            "colorbar": {
             "outlinewidth": 0,
             "ticks": ""
            },
            "colorscale": [
             [
              0,
              "#0d0887"
             ],
             [
              0.1111111111111111,
              "#46039f"
             ],
             [
              0.2222222222222222,
              "#7201a8"
             ],
             [
              0.3333333333333333,
              "#9c179e"
             ],
             [
              0.4444444444444444,
              "#bd3786"
             ],
             [
              0.5555555555555556,
              "#d8576b"
             ],
             [
              0.6666666666666666,
              "#ed7953"
             ],
             [
              0.7777777777777778,
              "#fb9f3a"
             ],
             [
              0.8888888888888888,
              "#fdca26"
             ],
             [
              1,
              "#f0f921"
             ]
            ],
            "type": "contour"
           }
          ],
          "contourcarpet": [
           {
            "colorbar": {
             "outlinewidth": 0,
             "ticks": ""
            },
            "type": "contourcarpet"
           }
          ],
          "heatmap": [
           {
            "colorbar": {
             "outlinewidth": 0,
             "ticks": ""
            },
            "colorscale": [
             [
              0,
              "#0d0887"
             ],
             [
              0.1111111111111111,
              "#46039f"
             ],
             [
              0.2222222222222222,
              "#7201a8"
             ],
             [
              0.3333333333333333,
              "#9c179e"
             ],
             [
              0.4444444444444444,
              "#bd3786"
             ],
             [
              0.5555555555555556,
              "#d8576b"
             ],
             [
              0.6666666666666666,
              "#ed7953"
             ],
             [
              0.7777777777777778,
              "#fb9f3a"
             ],
             [
              0.8888888888888888,
              "#fdca26"
             ],
             [
              1,
              "#f0f921"
             ]
            ],
            "type": "heatmap"
           }
          ],
          "histogram": [
           {
            "marker": {
             "pattern": {
              "fillmode": "overlay",
              "size": 10,
              "solidity": 0.2
             }
            },
            "type": "histogram"
           }
          ],
          "histogram2d": [
           {
            "colorbar": {
             "outlinewidth": 0,
             "ticks": ""
            },
            "colorscale": [
             [
              0,
              "#0d0887"
             ],
             [
              0.1111111111111111,
              "#46039f"
             ],
             [
              0.2222222222222222,
              "#7201a8"
             ],
             [
              0.3333333333333333,
              "#9c179e"
             ],
             [
              0.4444444444444444,
              "#bd3786"
             ],
             [
              0.5555555555555556,
              "#d8576b"
             ],
             [
              0.6666666666666666,
              "#ed7953"
             ],
             [
              0.7777777777777778,
              "#fb9f3a"
             ],
             [
              0.8888888888888888,
              "#fdca26"
             ],
             [
              1,
              "#f0f921"
             ]
            ],
            "type": "histogram2d"
           }
          ],
          "histogram2dcontour": [
           {
            "colorbar": {
             "outlinewidth": 0,
             "ticks": ""
            },
            "colorscale": [
             [
              0,
              "#0d0887"
             ],
             [
              0.1111111111111111,
              "#46039f"
             ],
             [
              0.2222222222222222,
              "#7201a8"
             ],
             [
              0.3333333333333333,
              "#9c179e"
             ],
             [
              0.4444444444444444,
              "#bd3786"
             ],
             [
              0.5555555555555556,
              "#d8576b"
             ],
             [
              0.6666666666666666,
              "#ed7953"
             ],
             [
              0.7777777777777778,
              "#fb9f3a"
             ],
             [
              0.8888888888888888,
              "#fdca26"
             ],
             [
              1,
              "#f0f921"
             ]
            ],
            "type": "histogram2dcontour"
           }
          ],
          "mesh3d": [
           {
            "colorbar": {
             "outlinewidth": 0,
             "ticks": ""
            },
            "type": "mesh3d"
           }
          ],
          "parcoords": [
           {
            "line": {
             "colorbar": {
              "outlinewidth": 0,
              "ticks": ""
             }
            },
            "type": "parcoords"
           }
          ],
          "pie": [
           {
            "automargin": true,
            "type": "pie"
           }
          ],
          "scatter": [
           {
            "fillpattern": {
             "fillmode": "overlay",
             "size": 10,
             "solidity": 0.2
            },
            "type": "scatter"
           }
          ],
          "scatter3d": [
           {
            "line": {
             "colorbar": {
              "outlinewidth": 0,
              "ticks": ""
             }
            },
            "marker": {
             "colorbar": {
              "outlinewidth": 0,
              "ticks": ""
             }
            },
            "type": "scatter3d"
           }
          ],
          "scattercarpet": [
           {
            "marker": {
             "colorbar": {
              "outlinewidth": 0,
              "ticks": ""
             }
            },
            "type": "scattercarpet"
           }
          ],
          "scattergeo": [
           {
            "marker": {
             "colorbar": {
              "outlinewidth": 0,
              "ticks": ""
             }
            },
            "type": "scattergeo"
           }
          ],
          "scattergl": [
           {
            "marker": {
             "colorbar": {
              "outlinewidth": 0,
              "ticks": ""
             }
            },
            "type": "scattergl"
           }
          ],
          "scattermap": [
           {
            "marker": {
             "colorbar": {
              "outlinewidth": 0,
              "ticks": ""
             }
            },
            "type": "scattermap"
           }
          ],
          "scattermapbox": [
           {
            "marker": {
             "colorbar": {
              "outlinewidth": 0,
              "ticks": ""
             }
            },
            "type": "scattermapbox"
           }
          ],
          "scatterpolar": [
           {
            "marker": {
             "colorbar": {
              "outlinewidth": 0,
              "ticks": ""
             }
            },
            "type": "scatterpolar"
           }
          ],
          "scatterpolargl": [
           {
            "marker": {
             "colorbar": {
              "outlinewidth": 0,
              "ticks": ""
             }
            },
            "type": "scatterpolargl"
           }
          ],
          "scatterternary": [
           {
            "marker": {
             "colorbar": {
              "outlinewidth": 0,
              "ticks": ""
             }
            },
            "type": "scatterternary"
           }
          ],
          "surface": [
           {
            "colorbar": {
             "outlinewidth": 0,
             "ticks": ""
            },
            "colorscale": [
             [
              0,
              "#0d0887"
             ],
             [
              0.1111111111111111,
              "#46039f"
             ],
             [
              0.2222222222222222,
              "#7201a8"
             ],
             [
              0.3333333333333333,
              "#9c179e"
             ],
             [
              0.4444444444444444,
              "#bd3786"
             ],
             [
              0.5555555555555556,
              "#d8576b"
             ],
             [
              0.6666666666666666,
              "#ed7953"
             ],
             [
              0.7777777777777778,
              "#fb9f3a"
             ],
             [
              0.8888888888888888,
              "#fdca26"
             ],
             [
              1,
              "#f0f921"
             ]
            ],
            "type": "surface"
           }
          ],
          "table": [
           {
            "cells": {
             "fill": {
              "color": "#EBF0F8"
             },
             "line": {
              "color": "white"
             }
            },
            "header": {
             "fill": {
              "color": "#C8D4E3"
             },
             "line": {
              "color": "white"
             }
            },
            "type": "table"
           }
          ]
         },
         "layout": {
          "annotationdefaults": {
           "arrowcolor": "#2a3f5f",
           "arrowhead": 0,
           "arrowwidth": 1
          },
          "autotypenumbers": "strict",
          "coloraxis": {
           "colorbar": {
            "outlinewidth": 0,
            "ticks": ""
           }
          },
          "colorscale": {
           "diverging": [
            [
             0,
             "#8e0152"
            ],
            [
             0.1,
             "#c51b7d"
            ],
            [
             0.2,
             "#de77ae"
            ],
            [
             0.3,
             "#f1b6da"
            ],
            [
             0.4,
             "#fde0ef"
            ],
            [
             0.5,
             "#f7f7f7"
            ],
            [
             0.6,
             "#e6f5d0"
            ],
            [
             0.7,
             "#b8e186"
            ],
            [
             0.8,
             "#7fbc41"
            ],
            [
             0.9,
             "#4d9221"
            ],
            [
             1,
             "#276419"
            ]
           ],
           "sequential": [
            [
             0,
             "#0d0887"
            ],
            [
             0.1111111111111111,
             "#46039f"
            ],
            [
             0.2222222222222222,
             "#7201a8"
            ],
            [
             0.3333333333333333,
             "#9c179e"
            ],
            [
             0.4444444444444444,
             "#bd3786"
            ],
            [
             0.5555555555555556,
             "#d8576b"
            ],
            [
             0.6666666666666666,
             "#ed7953"
            ],
            [
             0.7777777777777778,
             "#fb9f3a"
            ],
            [
             0.8888888888888888,
             "#fdca26"
            ],
            [
             1,
             "#f0f921"
            ]
           ],
           "sequentialminus": [
            [
             0,
             "#0d0887"
            ],
            [
             0.1111111111111111,
             "#46039f"
            ],
            [
             0.2222222222222222,
             "#7201a8"
            ],
            [
             0.3333333333333333,
             "#9c179e"
            ],
            [
             0.4444444444444444,
             "#bd3786"
            ],
            [
             0.5555555555555556,
             "#d8576b"
            ],
            [
             0.6666666666666666,
             "#ed7953"
            ],
            [
             0.7777777777777778,
             "#fb9f3a"
            ],
            [
             0.8888888888888888,
             "#fdca26"
            ],
            [
             1,
             "#f0f921"
            ]
           ]
          },
          "colorway": [
           "#636efa",
           "#EF553B",
           "#00cc96",
           "#ab63fa",
           "#FFA15A",
           "#19d3f3",
           "#FF6692",
           "#B6E880",
           "#FF97FF",
           "#FECB52"
          ],
          "font": {
           "color": "#2a3f5f"
          },
          "geo": {
           "bgcolor": "white",
           "lakecolor": "white",
           "landcolor": "white",
           "showlakes": true,
           "showland": true,
           "subunitcolor": "#C8D4E3"
          },
          "hoverlabel": {
           "align": "left"
          },
          "hovermode": "closest",
          "mapbox": {
           "style": "light"
          },
          "paper_bgcolor": "white",
          "plot_bgcolor": "white",
          "polar": {
           "angularaxis": {
            "gridcolor": "#EBF0F8",
            "linecolor": "#EBF0F8",
            "ticks": ""
           },
           "bgcolor": "white",
           "radialaxis": {
            "gridcolor": "#EBF0F8",
            "linecolor": "#EBF0F8",
            "ticks": ""
           }
          },
          "scene": {
           "xaxis": {
            "backgroundcolor": "white",
            "gridcolor": "#DFE8F3",
            "gridwidth": 2,
            "linecolor": "#EBF0F8",
            "showbackground": true,
            "ticks": "",
            "zerolinecolor": "#EBF0F8"
           },
           "yaxis": {
            "backgroundcolor": "white",
            "gridcolor": "#DFE8F3",
            "gridwidth": 2,
            "linecolor": "#EBF0F8",
            "showbackground": true,
            "ticks": "",
            "zerolinecolor": "#EBF0F8"
           },
           "zaxis": {
            "backgroundcolor": "white",
            "gridcolor": "#DFE8F3",
            "gridwidth": 2,
            "linecolor": "#EBF0F8",
            "showbackground": true,
            "ticks": "",
            "zerolinecolor": "#EBF0F8"
           }
          },
          "shapedefaults": {
           "line": {
            "color": "#2a3f5f"
           }
          },
          "ternary": {
           "aaxis": {
            "gridcolor": "#DFE8F3",
            "linecolor": "#A2B1C6",
            "ticks": ""
           },
           "baxis": {
            "gridcolor": "#DFE8F3",
            "linecolor": "#A2B1C6",
            "ticks": ""
           },
           "bgcolor": "white",
           "caxis": {
            "gridcolor": "#DFE8F3",
            "linecolor": "#A2B1C6",
            "ticks": ""
           }
          },
          "title": {
           "x": 0.05
          },
          "xaxis": {
           "automargin": true,
           "gridcolor": "#EBF0F8",
           "linecolor": "#EBF0F8",
           "ticks": "",
           "title": {
            "standoff": 15
           },
           "zerolinecolor": "#EBF0F8",
           "zerolinewidth": 2
          },
          "yaxis": {
           "automargin": true,
           "gridcolor": "#EBF0F8",
           "linecolor": "#EBF0F8",
           "ticks": "",
           "title": {
            "standoff": 15
           },
           "zerolinecolor": "#EBF0F8",
           "zerolinewidth": 2
          }
         }
        },
        "title": {
         "text": "Final Price Distribution After 5 Years"
        },
        "xaxis": {
         "title": {
          "text": "Property Price ($)"
         }
        },
        "yaxis": {
         "title": {
          "text": "Frequency"
         }
        }
       }
      }
     },
     "metadata": {},
     "output_type": "display_data"
    },
    {
     "name": "stdout",
     "output_type": "stream",
     "text": [
      "✅ Interactive simulation charts created\n"
     ]
    }
   ],
   "source": [
    "# Monte Carlo simulation visualization\n",
    "try:\n",
    "    # Simulation forecast chart\n",
    "    forecast_fig = simulator.plot_simulation_results()\n",
    "    forecast_fig.show()\n",
    "    \n",
    "    # Final price distribution\n",
    "    dist_fig = simulator.plot_final_price_distribution()\n",
    "    dist_fig.show()\n",
    "    \n",
    "    print(\"✅ Interactive simulation charts created\")\n",
    "    \n",
    "except (NameError, ImportError):\n",
    "    print(\"📊 Creating matplotlib simulation charts...\")\n",
    "    \n",
    "    # Simple matplotlib version\n",
    "    import matplotlib.pyplot as plt\n",
    "    \n",
    "    final_year_col = f'Year_{CONFIG[\"SIMULATION_YEARS\"]}'\n",
    "    final_prices = simulation_results[final_year_col]\n",
    "    \n",
    "    plt.figure(figsize=(12, 5))\n",
    "    \n",
    "    # Histogram of final prices\n",
    "    plt.subplot(1, 2, 1)\n",
    "    plt.hist(final_prices, bins=50, alpha=0.7, edgecolor='black')\n",
    "    plt.axvline(sample_price, color='green', linestyle='--', label='Current Price')\n",
    "    plt.axvline(final_prices.mean(), color='red', linestyle='--', label='Expected Price')\n",
    "    plt.xlabel('Property Price ($)')\n",
    "    plt.ylabel('Frequency')\n",
    "    plt.title(f'Price Distribution After {CONFIG[\"SIMULATION_YEARS\"]} Years')\n",
    "    plt.legend()\n",
    "    \n",
    "    # Simulation paths (sample)\n",
    "    plt.subplot(1, 2, 2)\n",
    "    years = list(range(CONFIG['SIMULATION_YEARS'] + 1))\n",
    "    for i in range(min(50, len(simulation_results))):\n",
    "        prices = [simulation_results.iloc[i][f'Year_{year}'] for year in years]\n",
    "        plt.plot(years, prices, alpha=0.1, color='blue')\n",
    "    \n",
    "    # Add mean forecast\n",
    "    mean_prices = [simulation_results[f'Year_{year}'].mean() for year in years]\n",
    "    plt.plot(years, mean_prices, color='red', linewidth=3, label='Mean Forecast')\n",
    "    \n",
    "    plt.xlabel('Years')\n",
    "    plt.ylabel('Property Price ($)')\n",
    "    plt.title('Monte Carlo Price Forecasts')\n",
    "    plt.legend()\n",
    "    \n",
    "    plt.tight_layout()\n",
    "    plt.show()\n",
    "    \n",
    "    print(\"✅ Matplotlib simulation charts created\")"
   ]
  },
  {
   "cell_type": "markdown",
   "id": "6e259710",
   "metadata": {},
   "source": [
    "## 8. Summary and Export Results\n",
    "\n",
    "Generate comprehensive summary report and export results for further analysis."
   ]
  },
  {
   "cell_type": "code",
   "execution_count": 15,
   "id": "7f7383ea",
   "metadata": {},
   "outputs": [
    {
     "name": "stdout",
     "output_type": "stream",
     "text": [
      "📝 PROPERTY ANALYTICS SUMMARY REPORT\n",
      "============================================================\n",
      "\n",
      "📊 DATASET OVERVIEW\n",
      "Total properties analyzed: 490\n",
      "Analysis period: 2023-01-01 to 2024-12-31\n",
      "Suburbs covered: Sydney, Melbourne, Brisbane, Perth, Adelaide\n",
      "Property types: House, Unit, Townhouse\n",
      "Data source: 🆓 Free - ABS statistics + realistic generation\n",
      "\n",
      "💰 MARKET OVERVIEW\n",
      "Overall median price: $601,134\n",
      "Price range: $231,131 - $1,701,624\n",
      "Most expensive suburb: Sydney\n",
      "Most affordable suburb: Adelaide\n",
      "\n",
      "🤖 MODEL PERFORMANCE\n",
      "Model type: Xgboost\n",
      "Test R² Score: 0.786\n",
      "Test RMSE: $135,121\n",
      "Mean Absolute Error: $103,210\n",
      "\n",
      "🔍 VALUATION INSIGHTS\n",
      "Overvalued properties: 26 (5.3%)\n",
      "Undervalued properties: 20 (4.1%)\n",
      "Fair value properties: 444 (90.6%)\n",
      "\n",
      "🔮 FORECAST SUMMARY\n",
      "Simulation period: 5 years\n",
      "Expected annual return: 8.73%\n",
      "Probability of gain: 100.0%\n",
      "95% confidence interval: $754,448 - $1,078,896\n",
      "\n",
      "📈 TOP PERFORMING SUBURBS (by median price)\n",
      "Sydney: $1,027,321\n",
      "Melbourne: $702,971\n",
      "Brisbane: $591,046\n",
      "Perth: $477,792\n",
      "Adelaide: $426,567\n"
     ]
    }
   ],
   "source": [
    "# Generate comprehensive summary report\n",
    "print(\"📝 PROPERTY ANALYTICS SUMMARY REPORT\")\n",
    "print(\"=\" * 60)\n",
    "\n",
    "print(f\"\\n📊 DATASET OVERVIEW\")\n",
    "print(f\"Total properties analyzed: {len(geo_data):,}\")\n",
    "print(f\"Analysis period: {geo_data['date_listed'].min().strftime('%Y-%m-%d')} to {geo_data['date_listed'].max().strftime('%Y-%m-%d')}\")\n",
    "print(f\"Suburbs covered: {', '.join(CONFIG['ANALYSIS_SUBURBS'])}\")\n",
    "print(f\"Property types: {', '.join(CONFIG['PROPERTY_TYPES'])}\")\n",
    "print(f\"Data source: 🆓 Free - ABS statistics + realistic generation\")\n",
    "\n",
    "print(f\"\\n💰 MARKET OVERVIEW\")\n",
    "print(f\"Overall median price: ${geo_data['price'].median():,.0f}\")\n",
    "print(f\"Price range: ${geo_data['price'].min():,.0f} - ${geo_data['price'].max():,.0f}\")\n",
    "print(f\"Most expensive suburb: {geo_data.groupby('suburb')['price'].median().idxmax()}\")\n",
    "print(f\"Most affordable suburb: {geo_data.groupby('suburb')['price'].median().idxmin()}\")\n",
    "\n",
    "print(f\"\\n🤖 MODEL PERFORMANCE\")\n",
    "print(f\"Model type: {CONFIG['MODEL_TYPE'].title()}\")\n",
    "print(f\"Test R² Score: {training_metrics['test_r2']:.3f}\")\n",
    "print(f\"Test RMSE: ${training_metrics['test_rmse']:,.0f}\")\n",
    "print(f\"Mean Absolute Error: ${training_metrics['test_mae']:,.0f}\")\n",
    "\n",
    "print(f\"\\n🔍 VALUATION INSIGHTS\")\n",
    "overvalued_count = len(valuation_analysis[valuation_analysis['valuation_status'] == 'Overvalued'])\n",
    "undervalued_count = len(valuation_analysis[valuation_analysis['valuation_status'] == 'Undervalued'])\n",
    "fair_value_count = len(valuation_analysis[valuation_analysis['valuation_status'] == 'Fair Value'])\n",
    "\n",
    "print(f\"Overvalued properties: {overvalued_count} ({overvalued_count/len(valuation_analysis)*100:.1f}%)\")\n",
    "print(f\"Undervalued properties: {undervalued_count} ({undervalued_count/len(valuation_analysis)*100:.1f}%)\")\n",
    "print(f\"Fair value properties: {fair_value_count} ({fair_value_count/len(valuation_analysis)*100:.1f}%)\")\n",
    "\n",
    "print(f\"\\n🔮 FORECAST SUMMARY\")\n",
    "print(f\"Simulation period: {CONFIG['SIMULATION_YEARS']} years\")\n",
    "print(f\"Expected annual return: {simulation_stats['annual_return_pct']:.2f}%\")\n",
    "print(f\"Probability of gain: {simulation_stats['probability_gain']:.1%}\")\n",
    "print(f\"95% confidence interval: ${simulation_stats['percentile_5']:,.0f} - ${simulation_stats['percentile_95']:,.0f}\")\n",
    "\n",
    "print(f\"\\n📈 TOP PERFORMING SUBURBS (by median price)\")\n",
    "top_suburbs = geo_data.groupby('suburb')['price'].median().sort_values(ascending=False)\n",
    "for suburb, price in top_suburbs.items():\n",
    "    print(f\"{suburb}: ${price:,.0f}\")"
   ]
  },
  {
   "cell_type": "code",
   "execution_count": 16,
   "id": "bb509032",
   "metadata": {},
   "outputs": [
    {
     "name": "stdout",
     "output_type": "stream",
     "text": [
      "💾 Exporting analysis results...\n",
      "✅ Results exported successfully!\n",
      "\n",
      "📁 OUTPUT FILES:\n",
      "- ../data/processed/property_data_processed.csv\n",
      "- ../data/outputs/valuation_analysis.csv\n",
      "- ../data/outputs/monte_carlo_simulation.csv\n",
      "- ../data/outputs/analysis_summary.json\n",
      "- ../models/property_valuation_model.joblib\n",
      "\n",
      "🆓 All analysis completed using free data sources only!\n"
     ]
    }
   ],
   "source": [
    "# Export results\n",
    "print(\"💾 Exporting analysis results...\")\n",
    "\n",
    "# Save processed data\n",
    "geo_data.to_csv('../data/processed/property_data_processed.csv', index=False)\n",
    "valuation_analysis.to_csv('../data/outputs/valuation_analysis.csv', index=False)\n",
    "simulation_results.to_csv('../data/outputs/monte_carlo_simulation.csv', index=False)\n",
    "\n",
    "# Save model\n",
    "model.save_model('../models/property_valuation_model.joblib')\n",
    "\n",
    "# Create summary statistics file\n",
    "summary_stats = {\n",
    "    'analysis_date': datetime.now().isoformat(),\n",
    "    'data_source': 'Free - ABS statistics + realistic generation',\n",
    "    'api_required': False,\n",
    "    'total_properties': len(geo_data),\n",
    "    'model_performance': training_metrics,\n",
    "    'simulation_stats': simulation_stats,\n",
    "    'suburb_medians': geo_data.groupby('suburb')['price'].median().to_dict()\n",
    "}\n",
    "\n",
    "import json\n",
    "with open('../data/outputs/analysis_summary.json', 'w') as f:\n",
    "    json.dump(summary_stats, f, indent=2, default=str)\n",
    "\n",
    "print(\"✅ Results exported successfully!\")\n",
    "print(\"\\n📁 OUTPUT FILES:\")\n",
    "print(\"- ../data/processed/property_data_processed.csv\")\n",
    "print(\"- ../data/outputs/valuation_analysis.csv\")\n",
    "print(\"- ../data/outputs/monte_carlo_simulation.csv\")\n",
    "print(\"- ../data/outputs/analysis_summary.json\")\n",
    "print(\"- ../models/property_valuation_model.joblib\")\n",
    "print(\"\\n🆓 All analysis completed using free data sources only!\")"
   ]
  },
  {
   "cell_type": "markdown",
   "id": "3afeea9e",
   "metadata": {},
   "source": [
    "## Conclusion\n",
    "\n",
    "This **completely free** property analytics tool provides a comprehensive framework for analyzing the Australian property market without requiring any paid APIs or services.\n",
    "\n",
    "### ✅ What This Tool Accomplishes:\n",
    "\n",
    "1. **🆓 Free Data Sources**: Uses ABS statistics and realistic data generation - no API keys needed\n",
    "2. **📊 Advanced Analytics**: Calculates key market indicators and regional statistics\n",
    "3. **🤖 Machine Learning**: Builds accurate valuation models for price prediction\n",
    "4. **🔍 Risk Assessment**: Identifies over/undervalued properties\n",
    "5. **🔮 Forecasting**: Uses Monte Carlo simulation for future price predictions\n",
    "6. **📊 Visualization**: Creates interactive charts and maps for data exploration\n",
    "\n",
    "### 🚀 Key Benefits:\n",
    "\n",
    "- **No API Keys Required**: 100% free to use\n",
    "- **Realistic Data**: Based on actual Australian market patterns\n",
    "- **Complete Workflow**: From data generation to final analysis\n",
    "- **Production Ready**: Exportable results and saved models\n",
    "- **Extensible**: Easy to modify for different regions or requirements\n",
    "\n",
    "### 📈 Next Steps:\n",
    "\n",
    "1. **Enhanced Features**: Add more sophisticated economic variables\n",
    "2. **Real-time Updates**: Implement automated data refresh mechanisms\n",
    "3. **Web Dashboard**: Deploy as a web application for broader access\n",
    "4. **Advanced Models**: Experiment with deep learning approaches\n",
    "5. **Regional Expansion**: Extend to other Australian cities or international markets\n",
    "\n",
    "### 🛠️ Usage Notes:\n",
    "\n",
    "- Install required packages: `pip install -r requirements.txt`\n",
    "- No configuration needed - runs out of the box\n",
    "- Results are automatically saved in the `data/outputs/` directory\n",
    "- Modify CONFIG section for different analysis parameters\n",
    "\n",
    "---\n",
    "\n",
    "**🎉 Congratulations! You now have a fully functional, free property analytics system!**"
   ]
  }
 ],
 "metadata": {
  "kernelspec": {
   "display_name": "Python 3",
   "language": "python",
   "name": "python3"
  },
  "language_info": {
   "codemirror_mode": {
    "name": "ipython",
    "version": 3
   },
   "file_extension": ".py",
   "mimetype": "text/x-python",
   "name": "python",
   "nbconvert_exporter": "python",
   "pygments_lexer": "ipython3",
   "version": "3.11.9"
  }
 },
 "nbformat": 4,
 "nbformat_minor": 5
}

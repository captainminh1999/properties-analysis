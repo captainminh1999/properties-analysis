{
 "cells": [
  {
   "cell_type": "markdown",
   "id": "d2c170cf",
   "metadata": {},
   "source": [
    "# Australian Property Price Heat Map Analysis\n",
    "\n",
    "## Geospatial Visualization of Housing Prices\n",
    "\n",
    "This notebook creates interactive heat maps showing property price distributions across Australian suburbs and regions.\n",
    "\n",
    "### 📊 Features:\n",
    "1. **🗺️ Interactive Heat Maps**: Property prices by location\n",
    "2. **📅 Timestamped Data**: Clear data collection periods (e.g., Dec 2024)\n",
    "3. **🏙️ Suburb Analysis**: Detailed regional breakdowns\n",
    "4. **📈 Price Trends**: Historical and current market patterns\n",
    "5. **🎨 Multiple Visualizations**: Folium, Plotly, and Matplotlib options\n",
    "\n",
    "**🆓 Data Source**: Synthetic data based on real Australian market patterns (Dec 2024 baseline)\n",
    "\n",
    "---"
   ]
  },
  {
   "cell_type": "markdown",
   "id": "d00d7a37",
   "metadata": {},
   "source": [
    "## 1. Setup and Imports"
   ]
  },
  {
   "cell_type": "code",
   "execution_count": 23,
   "id": "4248b418",
   "metadata": {},
   "outputs": [
    {
     "name": "stdout",
     "output_type": "stream",
     "text": [
      "✅ Core libraries imported successfully\n",
      "📅 Analysis Date: 2025-07-08 16:15:35\n",
      "🗺️ Ready for heat map visualization!\n"
     ]
    }
   ],
   "source": [
    "# Core libraries\n",
    "import pandas as pd\n",
    "import numpy as np\n",
    "import warnings\n",
    "import os\n",
    "import sys\n",
    "from datetime import datetime, timedelta\n",
    "\n",
    "# Visualization libraries\n",
    "import matplotlib.pyplot as plt\n",
    "import seaborn as sns\n",
    "\n",
    "# Add scripts directory to path\n",
    "sys.path.append('../scripts')\n",
    "\n",
    "# Suppress warnings for cleaner output\n",
    "warnings.filterwarnings('ignore')\n",
    "\n",
    "# Display settings\n",
    "pd.set_option('display.max_columns', None)\n",
    "pd.set_option('display.max_rows', 100)\n",
    "plt.style.use('default')\n",
    "sns.set_palette(\"viridis\")\n",
    "\n",
    "print(\"✅ Core libraries imported successfully\")\n",
    "print(f\"📅 Analysis Date: {datetime.now().strftime('%Y-%m-%d %H:%M:%S')}\")\n",
    "print(\"🗺️ Ready for heat map visualization!\")"
   ]
  },
  {
   "cell_type": "code",
   "execution_count": 24,
   "id": "8a3b285c",
   "metadata": {},
   "outputs": [
    {
     "name": "stdout",
     "output_type": "stream",
     "text": [
      "✅ Plotly imported - interactive maps available\n",
      "✅ Folium imported - geographic heat maps available\n",
      "⚠️ Import warning: cannot import name 'create_realistic_property_data_v2' from 'data_fetcher' (c:\\Users\\minh.nguyen\\Downloads\\Git Res\\property-analysis\\notebooks\\../scripts\\data_fetcher.py)\n",
      "Some features may not be available.\n",
      "✅ Basic modules imported as fallback\n"
     ]
    }
   ],
   "source": [
    "# Try to import advanced visualization libraries\n",
    "try:\n",
    "    import plotly.express as px\n",
    "    import plotly.graph_objects as go\n",
    "    import plotly.figure_factory as ff\n",
    "    from plotly.subplots import make_subplots\n",
    "    plotly_available = True\n",
    "    print(\"✅ Plotly imported - interactive maps available\")\n",
    "except ImportError:\n",
    "    plotly_available = False\n",
    "    print(\"⚠️ Plotly not available - using matplotlib/seaborn\")\n",
    "\n",
    "try:\n",
    "    import folium\n",
    "    from folium.plugins import HeatMap\n",
    "    folium_available = True\n",
    "    print(\"✅ Folium imported - geographic heat maps available\")\n",
    "except ImportError:\n",
    "    folium_available = False\n",
    "    print(\"⚠️ Folium not available - install with: pip install folium\")\n",
    "\n",
    "# Import custom modules including enhanced functions\n",
    "try:\n",
    "    from data_fetcher import (create_realistic_property_data, \n",
    "                             fetch_abs_socioeconomic_data,\n",
    "                             create_realistic_property_data_v2,\n",
    "                             get_accurate_suburb_coordinates,\n",
    "                             download_abs_suburb_data)\n",
    "    from data_processor import PropertyDataProcessor\n",
    "    print(\"✅ Custom modules imported successfully\")\n",
    "    print(\"✅ Enhanced coordinate functions available\")\n",
    "except ImportError as e:\n",
    "    print(f\"⚠️ Import warning: {e}\")\n",
    "    print(\"Some features may not be available.\")\n",
    "    # Try basic imports as fallback\n",
    "    try:\n",
    "        from data_fetcher import create_realistic_property_data, fetch_abs_socioeconomic_data\n",
    "        from data_processor import PropertyDataProcessor\n",
    "        print(\"✅ Basic modules imported as fallback\")\n",
    "    except ImportError as e2:\n",
    "        print(f\"❌ Critical import error: {e2}\")"
   ]
  },
  {
   "cell_type": "markdown",
   "id": "2293611f",
   "metadata": {},
   "source": [
    "## 2. Data Generation with Timestamps"
   ]
  },
  {
   "cell_type": "markdown",
   "id": "25119532",
   "metadata": {},
   "source": [
    "### 📦 Optional: Real ABS Data Integration\n",
    "\n",
    "For even more accurate analysis, you can integrate real ABS (Australian Bureau of Statistics) data:\n",
    "\n",
    "**🏛️ Available ABS Datasets:**\n",
    "- **ASGS (Australian Statistical Geography Standard)**: Suburb boundaries and codes\n",
    "- **Census 2021**: Population, dwellings, income by Statistical Area Level 2 (SA2)\n",
    "- **Regional Population**: Annual population estimates by Local Government Area\n",
    "- **Building Approvals**: New dwelling construction data\n",
    "- **Property Price Indexes**: Quarterly price movement indicators\n",
    "\n",
    "**📋 How to Access:**\n",
    "1. **ABS Data API**: `https://api.data.abs.gov.au/data/`\n",
    "2. **ABS DataPacks**: Free CSV downloads from `abs.gov.au`\n",
    "3. **Census TableBuilder**: Custom data extracts by geography\n",
    "\n",
    "**🔧 Integration Steps:**\n",
    "```python\n",
    "# Example: Download ABS Statistical Areas\n",
    "from data_fetcher import download_abs_suburb_data\n",
    "abs_data = download_abs_suburb_data()\n",
    "```\n",
    "\n",
    "For this demonstration, we'll use **enhanced synthetic data** with accurate suburb coordinates based on real geographic boundaries."
   ]
  },
  {
   "cell_type": "code",
   "execution_count": 25,
   "id": "a564c0e0",
   "metadata": {},
   "outputs": [
    {
     "name": "stdout",
     "output_type": "stream",
     "text": [
      "📊 HEAT MAP ANALYSIS CONFIGURATION\n",
      "Data baseline period: December 2024\n",
      "Analysis date: 2025-07-08\n",
      "Suburbs to analyze: 25\n",
      "Property sample size: 1,000\n",
      "Property types: House, Unit, Townhouse\n"
     ]
    }
   ],
   "source": [
    "# Configuration with timestamp information\n",
    "DATA_TIMESTAMP = \"December 2024\"  # Baseline data period\n",
    "ANALYSIS_DATE = datetime.now().strftime('%Y-%m-%d')\n",
    "\n",
    "CONFIG = {\n",
    "    'ANALYSIS_SUBURBS': [\n",
    "        'Sydney CBD', 'Bondi', 'Parramatta', 'Manly', 'Chatswood',\n",
    "        'Melbourne CBD', 'St Kilda', 'Richmond', 'Carlton', 'Brighton',\n",
    "        'Brisbane CBD', 'Fortitude Valley', 'New Farm', 'Paddington', 'Kangaroo Point',\n",
    "        'Perth CBD', 'Fremantle', 'Subiaco', 'Cottesloe', 'Leederville',\n",
    "        'Adelaide CBD', 'Glenelg', 'North Adelaide', 'Unley', 'Norwood'\n",
    "    ],\n",
    "    'PROPERTY_TYPES': ['House', 'Unit', 'Townhouse'],  # Fixed: matches data_fetcher function\n",
    "    'RANDOM_STATE': 42,\n",
    "    'NUM_PROPERTIES': 1000,  # Larger dataset for heat map\n",
    "    'DATA_PERIOD': DATA_TIMESTAMP\n",
    "}\n",
    "\n",
    "print(f\"📊 HEAT MAP ANALYSIS CONFIGURATION\")\n",
    "print(f\"Data baseline period: {CONFIG['DATA_PERIOD']}\")\n",
    "print(f\"Analysis date: {ANALYSIS_DATE}\")\n",
    "print(f\"Suburbs to analyze: {len(CONFIG['ANALYSIS_SUBURBS'])}\")\n",
    "print(f\"Property sample size: {CONFIG['NUM_PROPERTIES']:,}\")\n",
    "print(f\"Property types: {', '.join(CONFIG['PROPERTY_TYPES'])}\")"
   ]
  },
  {
   "cell_type": "code",
   "execution_count": 26,
   "id": "bd7f98cf",
   "metadata": {},
   "outputs": [
    {
     "name": "stdout",
     "output_type": "stream",
     "text": [
      "📊 Generating property data with accurate coordinates (baseline: December 2024)...\n",
      "🆓 Using enhanced synthetic data with real suburb boundaries!\n",
      "⚠️ Enhanced function not available, using fallback...\n",
      "✅ Generated 1,000 property records\n",
      "📈 Price range: $222,749 - $1,622,968\n",
      "📅 Data period: December 2024\n",
      "🏙️ Suburbs covered: 25\n",
      "\n",
      "🗺️ COORDINATE QUALITY CHECK:\n",
      "Latitude range: -34.5197° to -33.2135°\n",
      "Longitude range: 150.5015° to 151.7760°\n",
      "\n",
      "🏙️ PROPERTIES BY CITY:\n",
      "Sydney: 226 properties\n",
      "Adelaide: 213 properties\n",
      "Perth: 202 properties\n",
      "Brisbane: 183 properties\n",
      "Melbourne: 176 properties\n",
      "\n",
      "📋 Sample data (from December 2024) with accurate coordinates:\n"
     ]
    },
    {
     "data": {
      "text/html": [
       "<div>\n",
       "<style scoped>\n",
       "    .dataframe tbody tr th:only-of-type {\n",
       "        vertical-align: middle;\n",
       "    }\n",
       "\n",
       "    .dataframe tbody tr th {\n",
       "        vertical-align: top;\n",
       "    }\n",
       "\n",
       "    .dataframe thead th {\n",
       "        text-align: right;\n",
       "    }\n",
       "</style>\n",
       "<table border=\"1\" class=\"dataframe\">\n",
       "  <thead>\n",
       "    <tr style=\"text-align: right;\">\n",
       "      <th></th>\n",
       "      <th>suburb</th>\n",
       "      <th>city</th>\n",
       "      <th>property_type</th>\n",
       "      <th>price</th>\n",
       "      <th>latitude</th>\n",
       "      <th>longitude</th>\n",
       "      <th>data_period</th>\n",
       "    </tr>\n",
       "  </thead>\n",
       "  <tbody>\n",
       "    <tr>\n",
       "      <th>0</th>\n",
       "      <td>St Kilda</td>\n",
       "      <td>Melbourne</td>\n",
       "      <td>House</td>\n",
       "      <td>508417.445427</td>\n",
       "      <td>-33.861100</td>\n",
       "      <td>150.731642</td>\n",
       "      <td>December 2024</td>\n",
       "    </tr>\n",
       "    <tr>\n",
       "      <th>1</th>\n",
       "      <td>Leederville</td>\n",
       "      <td>Perth</td>\n",
       "      <td>House</td>\n",
       "      <td>559043.238432</td>\n",
       "      <td>-33.632817</td>\n",
       "      <td>151.623305</td>\n",
       "      <td>December 2024</td>\n",
       "    </tr>\n",
       "    <tr>\n",
       "      <th>2</th>\n",
       "      <td>Kangaroo Point</td>\n",
       "      <td>Brisbane</td>\n",
       "      <td>House</td>\n",
       "      <td>965544.062277</td>\n",
       "      <td>-33.611992</td>\n",
       "      <td>150.501528</td>\n",
       "      <td>December 2024</td>\n",
       "    </tr>\n",
       "    <tr>\n",
       "      <th>3</th>\n",
       "      <td>Brisbane CBD</td>\n",
       "      <td>Brisbane</td>\n",
       "      <td>House</td>\n",
       "      <td>891231.719323</td>\n",
       "      <td>-33.778582</td>\n",
       "      <td>151.115951</td>\n",
       "      <td>December 2024</td>\n",
       "    </tr>\n",
       "    <tr>\n",
       "      <th>4</th>\n",
       "      <td>Richmond</td>\n",
       "      <td>Melbourne</td>\n",
       "      <td>House</td>\n",
       "      <td>705645.598388</td>\n",
       "      <td>-34.085649</td>\n",
       "      <td>151.233846</td>\n",
       "      <td>December 2024</td>\n",
       "    </tr>\n",
       "    <tr>\n",
       "      <th>5</th>\n",
       "      <td>Adelaide CBD</td>\n",
       "      <td>Adelaide</td>\n",
       "      <td>House</td>\n",
       "      <td>768994.183782</td>\n",
       "      <td>-33.898589</td>\n",
       "      <td>151.311032</td>\n",
       "      <td>December 2024</td>\n",
       "    </tr>\n",
       "    <tr>\n",
       "      <th>6</th>\n",
       "      <td>St Kilda</td>\n",
       "      <td>Melbourne</td>\n",
       "      <td>Unit</td>\n",
       "      <td>528124.275757</td>\n",
       "      <td>-33.857484</td>\n",
       "      <td>150.985138</td>\n",
       "      <td>December 2024</td>\n",
       "    </tr>\n",
       "    <tr>\n",
       "      <th>7</th>\n",
       "      <td>Cottesloe</td>\n",
       "      <td>Perth</td>\n",
       "      <td>House</td>\n",
       "      <td>697867.413150</td>\n",
       "      <td>-33.984120</td>\n",
       "      <td>151.061708</td>\n",
       "      <td>December 2024</td>\n",
       "    </tr>\n",
       "    <tr>\n",
       "      <th>8</th>\n",
       "      <td>North Adelaide</td>\n",
       "      <td>Adelaide</td>\n",
       "      <td>House</td>\n",
       "      <td>547596.735746</td>\n",
       "      <td>-34.212097</td>\n",
       "      <td>150.934971</td>\n",
       "      <td>December 2024</td>\n",
       "    </tr>\n",
       "    <tr>\n",
       "      <th>9</th>\n",
       "      <td>Brisbane CBD</td>\n",
       "      <td>Brisbane</td>\n",
       "      <td>House</td>\n",
       "      <td>835975.564020</td>\n",
       "      <td>-33.911014</td>\n",
       "      <td>151.494051</td>\n",
       "      <td>December 2024</td>\n",
       "    </tr>\n",
       "  </tbody>\n",
       "</table>\n",
       "</div>"
      ],
      "text/plain": [
       "           suburb       city property_type          price   latitude  \\\n",
       "0        St Kilda  Melbourne         House  508417.445427 -33.861100   \n",
       "1     Leederville      Perth         House  559043.238432 -33.632817   \n",
       "2  Kangaroo Point   Brisbane         House  965544.062277 -33.611992   \n",
       "3    Brisbane CBD   Brisbane         House  891231.719323 -33.778582   \n",
       "4        Richmond  Melbourne         House  705645.598388 -34.085649   \n",
       "5    Adelaide CBD   Adelaide         House  768994.183782 -33.898589   \n",
       "6        St Kilda  Melbourne          Unit  528124.275757 -33.857484   \n",
       "7       Cottesloe      Perth         House  697867.413150 -33.984120   \n",
       "8  North Adelaide   Adelaide         House  547596.735746 -34.212097   \n",
       "9    Brisbane CBD   Brisbane         House  835975.564020 -33.911014   \n",
       "\n",
       "    longitude    data_period  \n",
       "0  150.731642  December 2024  \n",
       "1  151.623305  December 2024  \n",
       "2  150.501528  December 2024  \n",
       "3  151.115951  December 2024  \n",
       "4  151.233846  December 2024  \n",
       "5  151.311032  December 2024  \n",
       "6  150.985138  December 2024  \n",
       "7  151.061708  December 2024  \n",
       "8  150.934971  December 2024  \n",
       "9  151.494051  December 2024  "
      ]
     },
     "metadata": {},
     "output_type": "display_data"
    }
   ],
   "source": [
    "# Generate realistic property data with ACCURATE geographic coordinates\n",
    "print(f\"📊 Generating property data with accurate coordinates (baseline: {CONFIG['DATA_PERIOD']})...\")\n",
    "print(\"🆓 Using enhanced synthetic data with real suburb boundaries!\")\n",
    "\n",
    "# Import the enhanced function\n",
    "try:\n",
    "    from data_fetcher import create_realistic_property_data_v2\n",
    "    \n",
    "    # Use the enhanced data generation function with accurate coordinates\n",
    "    property_data = create_realistic_property_data_v2(\n",
    "        suburbs=CONFIG['ANALYSIS_SUBURBS'],\n",
    "        property_types=CONFIG['PROPERTY_TYPES'],\n",
    "        num_properties=CONFIG['NUM_PROPERTIES'],\n",
    "        random_state=CONFIG['RANDOM_STATE']\n",
    "    )\n",
    "    print(\"✅ Using enhanced coordinate generation with real suburb boundaries\")\n",
    "    \n",
    "except ImportError:\n",
    "    print(\"⚠️ Enhanced function not available, using fallback...\")\n",
    "    # Fallback to original function\n",
    "    property_data = create_realistic_property_data(\n",
    "        suburbs=CONFIG['ANALYSIS_SUBURBS'],\n",
    "        property_types=CONFIG['PROPERTY_TYPES'],\n",
    "        num_properties=CONFIG['NUM_PROPERTIES'],\n",
    "        random_state=CONFIG['RANDOM_STATE']\n",
    "    )\n",
    "\n",
    "# Add timestamp metadata\n",
    "property_data['data_period'] = CONFIG['DATA_PERIOD']\n",
    "property_data['analysis_date'] = ANALYSIS_DATE\n",
    "\n",
    "print(f\"✅ Generated {len(property_data):,} property records\")\n",
    "print(f\"📈 Price range: ${property_data['price'].min():,.0f} - ${property_data['price'].max():,.0f}\")\n",
    "print(f\"📅 Data period: {CONFIG['DATA_PERIOD']}\")\n",
    "print(f\"🏙️ Suburbs covered: {property_data['suburb'].nunique()}\")\n",
    "\n",
    "# Check coordinate distribution\n",
    "print(f\"\\n🗺️ COORDINATE QUALITY CHECK:\")\n",
    "print(f\"Latitude range: {property_data['latitude'].min():.4f}° to {property_data['latitude'].max():.4f}°\")\n",
    "print(f\"Longitude range: {property_data['longitude'].min():.4f}° to {property_data['longitude'].max():.4f}°\")\n",
    "\n",
    "# Check distribution by city\n",
    "city_mapping = {\n",
    "    'Sydney CBD': 'Sydney', 'Bondi': 'Sydney', 'Parramatta': 'Sydney', \n",
    "    'Manly': 'Sydney', 'Chatswood': 'Sydney',\n",
    "    'Melbourne CBD': 'Melbourne', 'St Kilda': 'Melbourne', 'Richmond': 'Melbourne',\n",
    "    'Carlton': 'Melbourne', 'Brighton': 'Melbourne',\n",
    "    'Brisbane CBD': 'Brisbane', 'Fortitude Valley': 'Brisbane', 'New Farm': 'Brisbane',\n",
    "    'Paddington': 'Brisbane', 'Kangaroo Point': 'Brisbane',\n",
    "    'Perth CBD': 'Perth', 'Fremantle': 'Perth', 'Subiaco': 'Perth',\n",
    "    'Cottesloe': 'Perth', 'Leederville': 'Perth',\n",
    "    'Adelaide CBD': 'Adelaide', 'Glenelg': 'Adelaide', 'North Adelaide': 'Adelaide',\n",
    "    'Unley': 'Adelaide', 'Norwood': 'Adelaide'\n",
    "}\n",
    "\n",
    "property_data['city'] = property_data['suburb'].map(city_mapping)\n",
    "city_counts = property_data['city'].value_counts()\n",
    "print(f\"\\n🏙️ PROPERTIES BY CITY:\")\n",
    "for city, count in city_counts.items():\n",
    "    print(f\"{city}: {count:,} properties\")\n",
    "\n",
    "# Display sample with timestamp and coordinates\n",
    "print(f\"\\n📋 Sample data (from {CONFIG['DATA_PERIOD']}) with accurate coordinates:\")\n",
    "display(property_data[['suburb', 'city', 'property_type', 'price', 'latitude', 'longitude', 'data_period']].head(10))"
   ]
  },
  {
   "cell_type": "code",
   "execution_count": 27,
   "id": "c1394760",
   "metadata": {},
   "outputs": [
    {
     "name": "stdout",
     "output_type": "stream",
     "text": [
      "✅ Data processed for heat map visualization\n",
      "📊 Price categories: {'$500K-750K': 450, '<$500K': 332, '$750K-1M': 161, '$1M-1.5M': 37, '$1.5M-2M': 0, '>$2M': 0}\n",
      "🏙️ Cities: {'Adelaide': 169, 'Sydney': 168, 'Perth': 157, 'Brisbane': 150, 'Melbourne': 142}\n"
     ]
    }
   ],
   "source": [
    "# Process data for heat map visualization\n",
    "processor = PropertyDataProcessor()\n",
    "clean_data = processor.clean_property_data(property_data)\n",
    "\n",
    "# Create price bins for heat map categories\n",
    "clean_data['price_millions'] = clean_data['price'] / 1_000_000\n",
    "clean_data['price_category'] = pd.cut(\n",
    "    clean_data['price'],\n",
    "    bins=[0, 500000, 750000, 1000000, 1500000, 2000000, float('inf')],\n",
    "    labels=['<$500K', '$500K-750K', '$750K-1M', '$1M-1.5M', '$1.5M-2M', '>$2M']\n",
    ")\n",
    "\n",
    "# City-level grouping for broader analysis\n",
    "city_mapping = {\n",
    "    'Sydney CBD': 'Sydney', 'Bondi': 'Sydney', 'Parramatta': 'Sydney', \n",
    "    'Manly': 'Sydney', 'Chatswood': 'Sydney',\n",
    "    'Melbourne CBD': 'Melbourne', 'St Kilda': 'Melbourne', 'Richmond': 'Melbourne',\n",
    "    'Carlton': 'Melbourne', 'Brighton': 'Melbourne',\n",
    "    'Brisbane CBD': 'Brisbane', 'Fortitude Valley': 'Brisbane', 'New Farm': 'Brisbane',\n",
    "    'Paddington': 'Brisbane', 'Kangaroo Point': 'Brisbane',\n",
    "    'Perth CBD': 'Perth', 'Fremantle': 'Perth', 'Subiaco': 'Perth',\n",
    "    'Cottesloe': 'Perth', 'Leederville': 'Perth',\n",
    "    'Adelaide CBD': 'Adelaide', 'Glenelg': 'Adelaide', 'North Adelaide': 'Adelaide',\n",
    "    'Unley': 'Adelaide', 'Norwood': 'Adelaide'\n",
    "}\n",
    "\n",
    "clean_data['city'] = clean_data['suburb'].map(city_mapping)\n",
    "\n",
    "print(f\"✅ Data processed for heat map visualization\")\n",
    "print(f\"📊 Price categories: {clean_data['price_category'].value_counts().to_dict()}\")\n",
    "print(f\"🏙️ Cities: {clean_data['city'].value_counts().to_dict()}\")"
   ]
  },
  {
   "cell_type": "code",
   "execution_count": 28,
   "id": "035bbc94",
   "metadata": {},
   "outputs": [
    {
     "data": {
      "image/png": "[encoded data removed]",
      "text/plain": [
       "<Figure size 1500x1000 with 1 Axes>"
      ]
     },
     "metadata": {},
     "output_type": "display_data"
    },
    {
     "name": "stdout",
     "output_type": "stream",
     "text": [
      "✅ Coordinate verification complete\n",
      "🎯 Properties should now cluster around actual city centers\n",
      "🌊 No more properties in the ocean!\n"
     ]
    }
   ],
   "source": [
    "# Quick visualization to verify coordinate accuracy\n",
    "plt.figure(figsize=(15, 10))\n",
    "\n",
    "# Plot all properties colored by city\n",
    "cities = property_data['city'].unique()\n",
    "colors = plt.cm.Set1(np.linspace(0, 1, len(cities)))\n",
    "\n",
    "for i, city in enumerate(cities):\n",
    "    city_data = property_data[property_data['city'] == city]\n",
    "    plt.scatter(city_data['longitude'], city_data['latitude'], \n",
    "               c=[colors[i]], label=f'{city} ({len(city_data)} properties)', \n",
    "               alpha=0.7, s=30)\n",
    "\n",
    "plt.xlabel('Longitude', fontsize=12, fontweight='bold')\n",
    "plt.ylabel('Latitude', fontsize=12, fontweight='bold')\n",
    "plt.title(f'Property Coordinate Distribution Verification\\nData Period: {CONFIG[\"DATA_PERIOD\"]} | Analysis: {ANALYSIS_DATE}', \n",
    "          fontsize=14, fontweight='bold')\n",
    "plt.legend(bbox_to_anchor=(1.05, 1), loc='upper left')\n",
    "plt.grid(True, alpha=0.3)\n",
    "\n",
    "# Add expected city centers as stars\n",
    "city_centers = {\n",
    "    'Sydney': [-33.8688, 151.2093],\n",
    "    'Melbourne': [-37.8136, 144.9631], \n",
    "    'Brisbane': [-27.4698, 153.0251],\n",
    "    'Perth': [-31.9505, 115.8605],\n",
    "    'Adelaide': [-34.9285, 138.6007]\n",
    "}\n",
    "\n",
    "for city, (lat, lon) in city_centers.items():\n",
    "    plt.scatter(lon, lat, marker='*', s=200, c='red', edgecolors='black', \n",
    "               linewidth=2, label=f'{city} Center' if city == 'Sydney' else \"\")\n",
    "\n",
    "if len(cities) > 0:\n",
    "    plt.legend(bbox_to_anchor=(1.05, 1), loc='upper left')\n",
    "\n",
    "plt.tight_layout()\n",
    "plt.show()\n",
    "\n",
    "print(f\"✅ Coordinate verification complete\")\n",
    "print(f\"🎯 Properties should now cluster around actual city centers\")\n",
    "print(f\"🌊 No more properties in the ocean!\")"
   ]
  },
  {
   "cell_type": "markdown",
   "id": "18bd5ae0",
   "metadata": {},
   "source": [
    "## 3. Heat Map Visualizations"
   ]
  },
  {
   "cell_type": "markdown",
   "id": "2635529a",
   "metadata": {},
   "source": [
    "### 3.1 Basic Heat Map - Price by Location"
   ]
  },
  {
   "cell_type": "code",
   "execution_count": 29,
   "id": "8c6de705",
   "metadata": {},
   "outputs": [
    {
     "data": {
      "image/png": "[encoded data removed]",
      "text/plain": [
       "<Figure size 1600x1200 with 2 Axes>"
      ]
     },
     "metadata": {},
     "output_type": "display_data"
    },
    {
     "name": "stdout",
     "output_type": "stream",
     "text": [
      "📊 Heat map shows median prices by city and property type\n",
      "📅 Data baseline: December 2024\n",
      "🏆 Highest median price: $699,277 (House)\n",
      "💰 Lowest median price: $437,190 (Unit)\n"
     ]
    }
   ],
   "source": [
    "# Create basic matplotlib/seaborn heat map\n",
    "plt.figure(figsize=(16, 12))\n",
    "\n",
    "# Create pivot table for heat map\n",
    "pivot_data = clean_data.pivot_table(\n",
    "    values='price', \n",
    "    index='city', \n",
    "    columns='property_type', \n",
    "    aggfunc='median'\n",
    ")\n",
    "\n",
    "# Create heat map\n",
    "sns.heatmap(\n",
    "    pivot_data / 1000,  # Convert to thousands\n",
    "    annot=True, \n",
    "    fmt='.0f',\n",
    "    cmap='RdYlBu_r',\n",
    "    cbar_kws={'label': 'Median Price ($000s)'},\n",
    "    linewidths=0.5\n",
    ")\n",
    "\n",
    "plt.title(f'Australian Property Price Heat Map by City & Type\\nData Period: {CONFIG[\"DATA_PERIOD\"]} | Analysis: {ANALYSIS_DATE}', \n",
    "          fontsize=16, fontweight='bold', pad=20)\n",
    "plt.xlabel('Property Type', fontsize=12, fontweight='bold')\n",
    "plt.ylabel('City', fontsize=12, fontweight='bold')\n",
    "plt.xticks(rotation=45)\n",
    "plt.yticks(rotation=0)\n",
    "\n",
    "# Add data source annotation\n",
    "plt.figtext(0.02, 0.02, f'Data Source: Synthetic data based on {CONFIG[\"DATA_PERIOD\"]} market patterns', \n",
    "           fontsize=8, style='italic')\n",
    "\n",
    "plt.tight_layout()\n",
    "plt.show()\n",
    "\n",
    "print(f\"📊 Heat map shows median prices by city and property type\")\n",
    "print(f\"📅 Data baseline: {CONFIG['DATA_PERIOD']}\")\n",
    "print(f\"🏆 Highest median price: ${pivot_data.max().max():,.0f} ({pivot_data.max().idxmax()})\")\n",
    "print(f\"💰 Lowest median price: ${pivot_data.min().min():,.0f} ({pivot_data.min().idxmin()})\")"
   ]
  },
  {
   "cell_type": "markdown",
   "id": "4b211634",
   "metadata": {},
   "source": [
    "### 3.2 Suburb-Level Detailed Heat Map"
   ]
  },
  {
   "cell_type": "code",
   "execution_count": 30,
   "id": "bc9432dd",
   "metadata": {},
   "outputs": [
    {
     "data": {
      "image/png": "[encoded data removed]",
      "text/plain": [
       "<Figure size 2000x1600 with 2 Axes>"
      ]
     },
     "metadata": {},
     "output_type": "display_data"
    },
    {
     "name": "stdout",
     "output_type": "stream",
     "text": [
      "📊 Detailed suburb analysis showing price variations\n",
      "📅 Data baseline: December 2024\n",
      "\n",
      "🏆 TOP 5 MOST EXPENSIVE SUBURBS:\n",
      "1. Subiaco: $642,547\n",
      "2. New Farm: $641,700\n",
      "3. Brighton: $637,083\n",
      "4. Fremantle: $636,632\n",
      "5. Perth Cbd: $626,464\n"
     ]
    }
   ],
   "source": [
    "# Detailed suburb-level heat map\n",
    "plt.figure(figsize=(20, 16))\n",
    "\n",
    "# Create suburb pivot table\n",
    "suburb_pivot = clean_data.pivot_table(\n",
    "    values='price', \n",
    "    index='suburb', \n",
    "    columns='property_type', \n",
    "    aggfunc='median'\n",
    ")\n",
    "\n",
    "# Sort by overall median price\n",
    "suburb_medians = clean_data.groupby('suburb')['price'].median().sort_values(ascending=False)\n",
    "suburb_pivot = suburb_pivot.reindex(suburb_medians.index)\n",
    "\n",
    "# Create heat map\n",
    "sns.heatmap(\n",
    "    suburb_pivot / 1000,  # Convert to thousands\n",
    "    annot=True, \n",
    "    fmt='.0f',\n",
    "    cmap='RdYlBu_r',\n",
    "    cbar_kws={'label': 'Median Price ($000s)'},\n",
    "    linewidths=0.5,\n",
    "    square=False\n",
    ")\n",
    "\n",
    "plt.title(f'Detailed Suburb Property Price Heat Map\\nData Period: {CONFIG[\"DATA_PERIOD\"]} | Analysis: {ANALYSIS_DATE}', \n",
    "          fontsize=18, fontweight='bold', pad=20)\n",
    "plt.xlabel('Property Type', fontsize=14, fontweight='bold')\n",
    "plt.ylabel('Suburb (Ranked by Median Price)', fontsize=14, fontweight='bold')\n",
    "plt.xticks(rotation=45, fontsize=10)\n",
    "plt.yticks(rotation=0, fontsize=8)\n",
    "\n",
    "# Add data source annotation\n",
    "plt.figtext(0.02, 0.02, f'Data Source: Synthetic data based on {CONFIG[\"DATA_PERIOD\"]} Australian market patterns', \n",
    "           fontsize=10, style='italic')\n",
    "\n",
    "plt.tight_layout()\n",
    "plt.show()\n",
    "\n",
    "print(f\"📊 Detailed suburb analysis showing price variations\")\n",
    "print(f\"📅 Data baseline: {CONFIG['DATA_PERIOD']}\")\n",
    "print(f\"\\n🏆 TOP 5 MOST EXPENSIVE SUBURBS:\")\n",
    "for i, (suburb, price) in enumerate(suburb_medians.head().items(), 1):\n",
    "    print(f\"{i}. {suburb}: ${price:,.0f}\")"
   ]
  },
  {
   "cell_type": "markdown",
   "id": "cb7f9191",
   "metadata": {},
   "source": [
    "### 3.3 Interactive Geographic Heat Map (if Folium available)"
   ]
  },
  {
   "cell_type": "code",
   "execution_count": 35,
   "id": "a2746e75",
   "metadata": {},
   "outputs": [
    {
     "name": "stdout",
     "output_type": "stream",
     "text": [
      "🗺️ Creating interactive geographic heat map...\n",
      "✅ Interactive map saved: ../data/outputs/property_heatmap_20250708.html\n",
      "📅 Data period: December 2024\n",
      "🗺️ Map shows 980 property data points\n"
     ]
    }
   ],
   "source": [
    "if folium_available:\n",
    "    print(\"🗺️ Creating interactive geographic heat map...\")\n",
    "    \n",
    "    # Create base map centered on Australia\n",
    "    australia_center = [-25.2744, 133.7751]\n",
    "    m = folium.Map(\n",
    "        location=australia_center,\n",
    "        zoom_start=5,\n",
    "        tiles='OpenStreetMap'\n",
    "    )\n",
    "    \n",
    "    # Prepare data for heat map\n",
    "    heat_data = []\n",
    "    for _, row in clean_data.iterrows():\n",
    "        # Use price as intensity (normalized)\n",
    "        intensity = row['price'] / clean_data['price'].max()\n",
    "        heat_data.append([row['latitude'], row['longitude'], intensity])\n",
    "    \n",
    "    # Add heat map layer\n",
    "    HeatMap(\n",
    "        heat_data,\n",
    "        min_opacity=0.3,\n",
    "        radius=25,\n",
    "        blur=15,\n",
    "        max_zoom=1,\n",
    "        gradient={0.2: 'blue', 0.4: 'cyan', 0.6: 'lime', 0.8: 'yellow', 1.0: 'red'}\n",
    "    ).add_to(m)\n",
    "    \n",
    "    # Add markers for major cities\n",
    "    city_coords = {\n",
    "        'Sydney': [-33.8688, 151.2093],\n",
    "        'Melbourne': [-37.8136, 144.9631],\n",
    "        'Brisbane': [-27.4698, 153.0251],\n",
    "        'Perth': [-31.9505, 115.8605],\n",
    "        'Adelaide': [-34.9285, 138.6007]\n",
    "    }\n",
    "    \n",
    "    for city, coords in city_coords.items():\n",
    "        city_median = clean_data[clean_data['city'] == city]['price'].median()\n",
    "        folium.Marker(\n",
    "            coords,\n",
    "            popup=f\"{city}<br>Median: ${city_median:,.0f}<br>Data: {CONFIG['DATA_PERIOD']}\",\n",
    "            tooltip=city,\n",
    "            icon=folium.Icon(color='darkred', icon='info-sign')\n",
    "        ).add_to(m)\n",
    "    \n",
    "    # Add title\n",
    "    title_html = f'''\n",
    "                 <h3 align=\"center\" style=\"font-size:20px\"><b>Australian Property Price Heat Map</b></h3>\n",
    "                 <p align=\"center\" style=\"font-size:14px\">Data Period: {CONFIG['DATA_PERIOD']} | Analysis: {ANALYSIS_DATE}</p>\n",
    "                 <p align=\"center\" style=\"font-size:12px; font-style:italic\">Red = Higher Prices, Blue = Lower Prices</p>\n",
    "                 '''\n",
    "    m.get_root().html.add_child(folium.Element(title_html))\n",
    "    \n",
    "    # Save map\n",
    "    map_filename = f'../data/outputs/property_heatmap_{ANALYSIS_DATE.replace(\"-\", \"\")}.html'\n",
    "    m.save(map_filename)\n",
    "    \n",
    "    print(f\"✅ Interactive map saved: {map_filename}\")\n",
    "    print(f\"📅 Data period: {CONFIG['DATA_PERIOD']}\")\n",
    "    print(f\"🗺️ Map shows {len(heat_data):,} property data points\")\n",
    "    \n",
    "    # Display the map\n",
    "    m\n",
    "    \n",
    "else:\n",
    "    print(\"⚠️ Folium not available. Install with: pip install folium\")\n",
    "    print(\"Creating alternative geographic visualization...\")\n",
    "    \n",
    "    # Alternative scatter plot\n",
    "    plt.figure(figsize=(15, 10))\n",
    "    \n",
    "    scatter = plt.scatter(\n",
    "        clean_data['longitude'], \n",
    "        clean_data['latitude'],\n",
    "        c=clean_data['price'],\n",
    "        cmap='RdYlBu_r',\n",
    "        s=50,\n",
    "        alpha=0.7,\n",
    "        edgecolors='black',\n",
    "        linewidth=0.5\n",
    "    )\n",
    "    \n",
    "    plt.colorbar(scatter, label='Property Price ($)', shrink=0.8)\n",
    "    plt.xlabel('Longitude', fontsize=12, fontweight='bold')\n",
    "    plt.ylabel('Latitude', fontsize=12, fontweight='bold')\n",
    "    plt.title(f'Property Price Geographic Distribution\\nData Period: {CONFIG[\"DATA_PERIOD\"]} | Analysis: {ANALYSIS_DATE}', \n",
    "              fontsize=14, fontweight='bold')\n",
    "    \n",
    "    # Add city labels\n",
    "    city_coords = {\n",
    "        'Sydney': [-33.8688, 151.2093],\n",
    "        'Melbourne': [-37.8136, 144.9631],\n",
    "        'Brisbane': [-27.4698, 153.0251],\n",
    "        'Perth': [-31.9505, 115.8605],\n",
    "        'Adelaide': [-34.9285, 138.6007]\n",
    "    }\n",
    "    \n",
    "    for city, (lat, lon) in city_coords.items():\n",
    "        plt.annotate(city, (lon, lat), fontsize=10, fontweight='bold',\n",
    "                    bbox=dict(boxstyle=\"round,pad=0.3\", facecolor='white', alpha=0.8))\n",
    "    \n",
    "    plt.grid(True, alpha=0.3)\n",
    "    plt.tight_layout()\n",
    "    plt.show()\n",
    "    \n",
    "    print(f\"📊 Geographic scatter plot created\")\n",
    "    print(f\"📅 Data period: {CONFIG['DATA_PERIOD']}\")"
   ]
  },
  {
   "cell_type": "markdown",
   "id": "493a1a54",
   "metadata": {},
   "source": [
    "### 3.4 Interactive Plotly Heat Maps (if available)"
   ]
  },
  {
   "cell_type": "code",
   "execution_count": 32,
   "id": "eed3b590",
   "metadata": {},
   "outputs": [
    {
     "name": "stdout",
     "output_type": "stream",
     "text": [
      "📊 Creating interactive Plotly heat maps...\n"
     ]
    },
    {
     "data": {
      "application/vnd.plotly.v1+json": {
       "config": {
        "plotlyServerURL": "https://plot.ly"
       },
       "data": [
        {
         "coloraxis": "coloraxis",
         "hovertemplate": "Property Type: %{x}<br>City: %{y}<br>Median Price ($): %{z}<extra></extra>",
         "name": "0",
         "type": "heatmap",
         "x": [
          "House",
          "Townhouse",
          "Unit"
         ],
         "xaxis": "x",
         "y": [
          "Adelaide",
          "Brisbane",
          "Melbourne",
          "Perth",
          "Sydney"
         ],
         "yaxis": "y",
         "z": {
          "bdata": "MY9nzcIfJEE+OPQI0awgQat24Fkr/xxBjfFcUk5vJEEe9EwPWjkgQUvCz2jrYR1BxLNXfBpXJUFyWoP9ld4hQab3eS7B/x1BEhhXLmocJUHTDTcCP1kgQb3FcaQp/BpBZiO4UfdsI0G+QIXH/sMdQUZNJqwWrxpB",
          "dtype": "f8",
          "shape": "5, 3"
         }
        }
       ],
       "layout": {
        "coloraxis": {
         "colorbar": {
          "title": {
           "text": "Median Price ($)"
          }
         },
         "colorscale": [
          [
           0,
           "rgb(49,54,149)"
          ],
          [
           0.1,
           "rgb(69,117,180)"
          ],
          [
           0.2,
           "rgb(116,173,209)"
          ],
          [
           0.3,
           "rgb(171,217,233)"
          ],
          [
           0.4,
           "rgb(224,243,248)"
          ],
          [
           0.5,
           "rgb(255,255,191)"
          ],
          [
           0.6,
           "rgb(254,224,144)"
          ],
          [
           0.7,
           "rgb(253,174,97)"
          ],
          [
           0.8,
           "rgb(244,109,67)"
          ],
          [
           0.9,
           "rgb(215,48,39)"
          ],
          [
           1,
           "rgb(165,0,38)"
          ]
         ]
        },
        "height": 500,
        "template": {
         "data": {
          "bar": [
           {
            "error_x": {
             "color": "#2a3f5f"
            },
            "error_y": {
             "color": "#2a3f5f"
            },
            "marker": {
             "line": {
              "color": "#E5ECF6",
              "width": 0.5
             },
             "pattern": {
              "fillmode": "overlay",
              "size": 10,
              "solidity": 0.2
             }
            },
            "type": "bar"
           }
          ],
          "barpolar": [
           {
            "marker": {
             "line": {
              "color": "#E5ECF6",
              "width": 0.5
             },
             "pattern": {
              "fillmode": "overlay",
              "size": 10,
              "solidity": 0.2
             }
            },
            "type": "barpolar"
           }
          ],
          "carpet": [
           {
            "aaxis": {
             "endlinecolor": "#2a3f5f",
             "gridcolor": "white",
             "linecolor": "white",
             "minorgridcolor": "white",
             "startlinecolor": "#2a3f5f"
            },
            "baxis": {
             "endlinecolor": "#2a3f5f",
             "gridcolor": "white",
             "linecolor": "white",
             "minorgridcolor": "white",
             "startlinecolor": "#2a3f5f"
            },
            "type": "carpet"
           }
          ],
          "choropleth": [
           {
            "colorbar": {
             "outlinewidth": 0,
             "ticks": ""
            },
            "type": "choropleth"
           }
          ],
          "contour": [
           {
            "colorbar": {
             "outlinewidth": 0,
             "ticks": ""
            },
            "colorscale": [
             [
              0,
              "#0d0887"
             ],
             [
              0.1111111111111111,
              "#46039f"
             ],
             [
              0.2222222222222222,
              "#7201a8"
             ],
             [
              0.3333333333333333,
              "#9c179e"
             ],
             [
              0.4444444444444444,
              "#bd3786"
             ],
             [
              0.5555555555555556,
              "#d8576b"
             ],
             [
              0.6666666666666666,
              "#ed7953"
             ],
             [
              0.7777777777777778,
              "#fb9f3a"
             ],
             [
              0.8888888888888888,
              "#fdca26"
             ],
             [
              1,
              "#f0f921"
             ]
            ],
            "type": "contour"
           }
          ],
          "contourcarpet": [
           {
            "colorbar": {
             "outlinewidth": 0,
             "ticks": ""
            },
            "type": "contourcarpet"
           }
          ],
          "heatmap": [
           {
            "colorbar": {
             "outlinewidth": 0,
             "ticks": ""
            },
            "colorscale": [
             [
              0,
              "#0d0887"
             ],
             [
              0.1111111111111111,
              "#46039f"
             ],
             [
              0.2222222222222222,
              "#7201a8"
             ],
             [
              0.3333333333333333,
              "#9c179e"
             ],
             [
              0.4444444444444444,
              "#bd3786"
             ],
             [
              0.5555555555555556,
              "#d8576b"
             ],
             [
              0.6666666666666666,
              "#ed7953"
             ],
             [
              0.7777777777777778,
              "#fb9f3a"
             ],
             [
              0.8888888888888888,
              "#fdca26"
             ],
             [
              1,
              "#f0f921"
             ]
            ],
            "type": "heatmap"
           }
          ],
          "histogram": [
           {
            "marker": {
             "pattern": {
              "fillmode": "overlay",
              "size": 10,
              "solidity": 0.2
             }
            },
            "type": "histogram"
           }
          ],
          "histogram2d": [
           {
            "colorbar": {
             "outlinewidth": 0,
             "ticks": ""
            },
            "colorscale": [
             [
              0,
              "#0d0887"
             ],
             [
              0.1111111111111111,
              "#46039f"
             ],
             [
              0.2222222222222222,
              "#7201a8"
             ],
             [
              0.3333333333333333,
              "#9c179e"
             ],
             [
              0.4444444444444444,
              "#bd3786"
             ],
             [
              0.5555555555555556,
              "#d8576b"
             ],
             [
              0.6666666666666666,
              "#ed7953"
             ],
             [
              0.7777777777777778,
              "#fb9f3a"
             ],
             [
              0.8888888888888888,
              "#fdca26"
             ],
             [
              1,
              "#f0f921"
             ]
            ],
            "type": "histogram2d"
           }
          ],
          "histogram2dcontour": [
           {
            "colorbar": {
             "outlinewidth": 0,
             "ticks": ""
            },
            "colorscale": [
             [
              0,
              "#0d0887"
             ],
             [
              0.1111111111111111,
              "#46039f"
             ],
             [
              0.2222222222222222,
              "#7201a8"
             ],
             [
              0.3333333333333333,
              "#9c179e"
             ],
             [
              0.4444444444444444,
              "#bd3786"
             ],
             [
              0.5555555555555556,
              "#d8576b"
             ],
             [
              0.6666666666666666,
              "#ed7953"
             ],
             [
              0.7777777777777778,
              "#fb9f3a"
             ],
             [
              0.8888888888888888,
              "#fdca26"
             ],
             [
              1,
              "#f0f921"
             ]
            ],
            "type": "histogram2dcontour"
           }
          ],
          "mesh3d": [
           {
            "colorbar": {
             "outlinewidth": 0,
             "ticks": ""
            },
            "type": "mesh3d"
           }
          ],
          "parcoords": [
           {
            "line": {
             "colorbar": {
              "outlinewidth": 0,
              "ticks": ""
             }
            },
            "type": "parcoords"
           }
          ],
          "pie": [
           {
            "automargin": true,
            "type": "pie"
           }
          ],
          "scatter": [
           {
            "fillpattern": {
             "fillmode": "overlay",
             "size": 10,
             "solidity": 0.2
            },
            "type": "scatter"
           }
          ],
          "scatter3d": [
           {
            "line": {
             "colorbar": {
              "outlinewidth": 0,
              "ticks": ""
             }
            },
            "marker": {
             "colorbar": {
              "outlinewidth": 0,
              "ticks": ""
             }
            },
            "type": "scatter3d"
           }
          ],
          "scattercarpet": [
           {
            "marker": {
             "colorbar": {
              "outlinewidth": 0,
              "ticks": ""
             }
            },
            "type": "scattercarpet"
           }
          ],
          "scattergeo": [
           {
            "marker": {
             "colorbar": {
              "outlinewidth": 0,
              "ticks": ""
             }
            },
            "type": "scattergeo"
           }
          ],
          "scattergl": [
           {
            "marker": {
             "colorbar": {
              "outlinewidth": 0,
              "ticks": ""
             }
            },
            "type": "scattergl"
           }
          ],
          "scattermap": [
           {
            "marker": {
             "colorbar": {
              "outlinewidth": 0,
              "ticks": ""
             }
            },
            "type": "scattermap"
           }
          ],
          "scattermapbox": [
           {
            "marker": {
             "colorbar": {
              "outlinewidth": 0,
              "ticks": ""
             }
            },
            "type": "scattermapbox"
           }
          ],
          "scatterpolar": [
           {
            "marker": {
             "colorbar": {
              "outlinewidth": 0,
              "ticks": ""
             }
            },
            "type": "scatterpolar"
           }
          ],
          "scatterpolargl": [
           {
            "marker": {
             "colorbar": {
              "outlinewidth": 0,
              "ticks": ""
             }
            },
            "type": "scatterpolargl"
           }
          ],
          "scatterternary": [
           {
            "marker": {
             "colorbar": {
              "outlinewidth": 0,
              "ticks": ""
             }
            },
            "type": "scatterternary"
           }
          ],
          "surface": [
           {
            "colorbar": {
             "outlinewidth": 0,
             "ticks": ""
            },
            "colorscale": [
             [
              0,
              "#0d0887"
             ],
             [
              0.1111111111111111,
              "#46039f"
             ],
             [
              0.2222222222222222,
              "#7201a8"
             ],
             [
              0.3333333333333333,
              "#9c179e"
             ],
             [
              0.4444444444444444,
              "#bd3786"
             ],
             [
              0.5555555555555556,
              "#d8576b"
             ],
             [
              0.6666666666666666,
              "#ed7953"
             ],
             [
              0.7777777777777778,
              "#fb9f3a"
             ],
             [
              0.8888888888888888,
              "#fdca26"
             ],
             [
              1,
              "#f0f921"
             ]
            ],
            "type": "surface"
           }
          ],
          "table": [
           {
            "cells": {
             "fill": {
              "color": "#EBF0F8"
             },
             "line": {
              "color": "white"
             }
            },
            "header": {
             "fill": {
              "color": "#C8D4E3"
             },
             "line": {
              "color": "white"
             }
            },
            "type": "table"
           }
          ]
         },
         "layout": {
          "annotationdefaults": {
           "arrowcolor": "#2a3f5f",
           "arrowhead": 0,
           "arrowwidth": 1
          },
          "autotypenumbers": "strict",
          "coloraxis": {
           "colorbar": {
            "outlinewidth": 0,
            "ticks": ""
           }
          },
          "colorscale": {
           "diverging": [
            [
             0,
             "#8e0152"
            ],
            [
             0.1,
             "#c51b7d"
            ],
            [
             0.2,
             "#de77ae"
            ],
            [
             0.3,
             "#f1b6da"
            ],
            [
             0.4,
             "#fde0ef"
            ],
            [
             0.5,
             "#f7f7f7"
            ],
            [
             0.6,
             "#e6f5d0"
            ],
            [
             0.7,
             "#b8e186"
            ],
            [
             0.8,
             "#7fbc41"
            ],
            [
             0.9,
             "#4d9221"
            ],
            [
             1,
             "#276419"
            ]
           ],
           "sequential": [
            [
             0,
             "#0d0887"
            ],
            [
             0.1111111111111111,
             "#46039f"
            ],
            [
             0.2222222222222222,
             "#7201a8"
            ],
            [
             0.3333333333333333,
             "#9c179e"
            ],
            [
             0.4444444444444444,
             "#bd3786"
            ],
            [
             0.5555555555555556,
             "#d8576b"
            ],
            [
             0.6666666666666666,
             "#ed7953"
            ],
            [
             0.7777777777777778,
             "#fb9f3a"
            ],
            [
             0.8888888888888888,
             "#fdca26"
            ],
            [
             1,
             "#f0f921"
            ]
           ],
           "sequentialminus": [
            [
             0,
             "#0d0887"
            ],
            [
             0.1111111111111111,
             "#46039f"
            ],
            [
             0.2222222222222222,
             "#7201a8"
            ],
            [
             0.3333333333333333,
             "#9c179e"
            ],
            [
             0.4444444444444444,
             "#bd3786"
            ],
            [
             0.5555555555555556,
             "#d8576b"
            ],
            [
             0.6666666666666666,
             "#ed7953"
            ],
            [
             0.7777777777777778,
             "#fb9f3a"
            ],
            [
             0.8888888888888888,
             "#fdca26"
            ],
            [
             1,
             "#f0f921"
            ]
           ]
          },
          "colorway": [
           "#636efa",
           "#EF553B",
           "#00cc96",
           "#ab63fa",
           "#FFA15A",
           "#19d3f3",
           "#FF6692",
           "#B6E880",
           "#FF97FF",
           "#FECB52"
          ],
          "font": {
           "color": "#2a3f5f"
          },
          "geo": {
           "bgcolor": "white",
           "lakecolor": "white",
           "landcolor": "#E5ECF6",
           "showlakes": true,
           "showland": true,
           "subunitcolor": "white"
          },
          "hoverlabel": {
           "align": "left"
          },
          "hovermode": "closest",
          "mapbox": {
           "style": "light"
          },
          "paper_bgcolor": "white",
          "plot_bgcolor": "#E5ECF6",
          "polar": {
           "angularaxis": {
            "gridcolor": "white",
            "linecolor": "white",
            "ticks": ""
           },
           "bgcolor": "#E5ECF6",
           "radialaxis": {
            "gridcolor": "white",
            "linecolor": "white",
            "ticks": ""
           }
          },
          "scene": {
           "xaxis": {
            "backgroundcolor": "#E5ECF6",
            "gridcolor": "white",
            "gridwidth": 2,
            "linecolor": "white",
            "showbackground": true,
            "ticks": "",
            "zerolinecolor": "white"
           },
           "yaxis": {
            "backgroundcolor": "#E5ECF6",
            "gridcolor": "white",
            "gridwidth": 2,
            "linecolor": "white",
            "showbackground": true,
            "ticks": "",
            "zerolinecolor": "white"
           },
           "zaxis": {
            "backgroundcolor": "#E5ECF6",
            "gridcolor": "white",
            "gridwidth": 2,
            "linecolor": "white",
            "showbackground": true,
            "ticks": "",
            "zerolinecolor": "white"
           }
          },
          "shapedefaults": {
           "line": {
            "color": "#2a3f5f"
           }
          },
          "ternary": {
           "aaxis": {
            "gridcolor": "white",
            "linecolor": "white",
            "ticks": ""
           },
           "baxis": {
            "gridcolor": "white",
            "linecolor": "white",
            "ticks": ""
           },
           "bgcolor": "#E5ECF6",
           "caxis": {
            "gridcolor": "white",
            "linecolor": "white",
            "ticks": ""
           }
          },
          "title": {
           "x": 0.05
          },
          "xaxis": {
           "automargin": true,
           "gridcolor": "white",
           "linecolor": "white",
           "ticks": "",
           "title": {
            "standoff": 15
           },
           "zerolinecolor": "white",
           "zerolinewidth": 2
          },
          "yaxis": {
           "automargin": true,
           "gridcolor": "white",
           "linecolor": "white",
           "ticks": "",
           "title": {
            "standoff": 15
           },
           "zerolinecolor": "white",
           "zerolinewidth": 2
          }
         }
        },
        "title": {
         "font": {
          "size": 16
         },
         "text": "Interactive Property Price Heat Map<br>Data Period: December 2024 | Analysis: 2025-07-08"
        },
        "xaxis": {
         "anchor": "y",
         "domain": [
          0,
          1
         ],
         "title": {
          "font": {
           "size": 14
          },
          "text": "Property Type"
         }
        },
        "yaxis": {
         "anchor": "x",
         "autorange": "reversed",
         "domain": [
          0,
          1
         ],
         "title": {
          "font": {
           "size": 14
          },
          "text": "City"
         }
        }
       }
      }
     },
     "metadata": {},
     "output_type": "display_data"
    },
    {
     "data": {
      "application/vnd.plotly.v1+json": {
       "config": {
        "plotlyServerURL": "https://plot.ly"
       },
       "data": [
        {
         "colorbar": {
          "title": {
           "text": "Price ($)"
          }
         },
         "colorscale": [
          [
           0,
           "rgb(49,54,149)"
          ],
          [
           0.1,
           "rgb(69,117,180)"
          ],
          [
           0.2,
           "rgb(116,173,209)"
          ],
          [
           0.3,
           "rgb(171,217,233)"
          ],
          [
           0.4,
           "rgb(224,243,248)"
          ],
          [
           0.5,
           "rgb(255,255,191)"
          ],
          [
           0.6,
           "rgb(254,224,144)"
          ],
          [
           0.7,
           "rgb(253,174,97)"
          ],
          [
           0.8,
           "rgb(244,109,67)"
          ],
          [
           0.9,
           "rgb(215,48,39)"
          ],
          [
           1,
           "rgb(165,0,38)"
          ]
         ],
         "type": "surface",
         "x": [
          0,
          1,
          2
         ],
         "y": [
          0,
          1,
          2,
          3,
          4
         ],
         "z": {
          "bdata": "MY9nzcIfJEE+OPQI0awgQat24Fkr/xxBjfFcUk5vJEEe9EwPWjkgQUvCz2jrYR1BxLNXfBpXJUFyWoP9ld4hQab3eS7B/x1BEhhXLmocJUHTDTcCP1kgQb3FcaQp/BpBZiO4UfdsI0G+QIXH/sMdQUZNJqwWrxpB",
          "dtype": "f8",
          "shape": "5, 3"
         }
        }
       ],
       "layout": {
        "height": 600,
        "scene": {
         "xaxis": {
          "tickmode": "array",
          "ticktext": [
           "House",
           "Townhouse",
           "Unit"
          ],
          "tickvals": [
           0,
           1,
           2
          ],
          "title": {
           "text": "Property Type"
          }
         },
         "yaxis": {
          "tickmode": "array",
          "ticktext": [
           "Adelaide",
           "Brisbane",
           "Melbourne",
           "Perth",
           "Sydney"
          ],
          "tickvals": [
           0,
           1,
           2,
           3,
           4
          ],
          "title": {
           "text": "City"
          }
         },
         "zaxis": {
          "title": {
           "text": "Median Price ($)"
          }
         }
        },
        "template": {
         "data": {
          "bar": [
           {
            "error_x": {
             "color": "#2a3f5f"
            },
            "error_y": {
             "color": "#2a3f5f"
            },
            "marker": {
             "line": {
              "color": "#E5ECF6",
              "width": 0.5
             },
             "pattern": {
              "fillmode": "overlay",
              "size": 10,
              "solidity": 0.2
             }
            },
            "type": "bar"
           }
          ],
          "barpolar": [
           {
            "marker": {
             "line": {
              "color": "#E5ECF6",
              "width": 0.5
             },
             "pattern": {
              "fillmode": "overlay",
              "size": 10,
              "solidity": 0.2
             }
            },
            "type": "barpolar"
           }
          ],
          "carpet": [
           {
            "aaxis": {
             "endlinecolor": "#2a3f5f",
             "gridcolor": "white",
             "linecolor": "white",
             "minorgridcolor": "white",
             "startlinecolor": "#2a3f5f"
            },
            "baxis": {
             "endlinecolor": "#2a3f5f",
             "gridcolor": "white",
             "linecolor": "white",
             "minorgridcolor": "white",
             "startlinecolor": "#2a3f5f"
            },
            "type": "carpet"
           }
          ],
          "choropleth": [
           {
            "colorbar": {
             "outlinewidth": 0,
             "ticks": ""
            },
            "type": "choropleth"
           }
          ],
          "contour": [
           {
            "colorbar": {
             "outlinewidth": 0,
             "ticks": ""
            },
            "colorscale": [
             [
              0,
              "#0d0887"
             ],
             [
              0.1111111111111111,
              "#46039f"
             ],
             [
              0.2222222222222222,
              "#7201a8"
             ],
             [
              0.3333333333333333,
              "#9c179e"
             ],
             [
              0.4444444444444444,
              "#bd3786"
             ],
             [
              0.5555555555555556,
              "#d8576b"
             ],
             [
              0.6666666666666666,
              "#ed7953"
             ],
             [
              0.7777777777777778,
              "#fb9f3a"
             ],
             [
              0.8888888888888888,
              "#fdca26"
             ],
             [
              1,
              "#f0f921"
             ]
            ],
            "type": "contour"
           }
          ],
          "contourcarpet": [
           {
            "colorbar": {
             "outlinewidth": 0,
             "ticks": ""
            },
            "type": "contourcarpet"
           }
          ],
          "heatmap": [
           {
            "colorbar": {
             "outlinewidth": 0,
             "ticks": ""
            },
            "colorscale": [
             [
              0,
              "#0d0887"
             ],
             [
              0.1111111111111111,
              "#46039f"
             ],
             [
              0.2222222222222222,
              "#7201a8"
             ],
             [
              0.3333333333333333,
              "#9c179e"
             ],
             [
              0.4444444444444444,
              "#bd3786"
             ],
             [
              0.5555555555555556,
              "#d8576b"
             ],
             [
              0.6666666666666666,
              "#ed7953"
             ],
             [
              0.7777777777777778,
              "#fb9f3a"
             ],
             [
              0.8888888888888888,
              "#fdca26"
             ],
             [
              1,
              "#f0f921"
             ]
            ],
            "type": "heatmap"
           }
          ],
          "histogram": [
           {
            "marker": {
             "pattern": {
              "fillmode": "overlay",
              "size": 10,
              "solidity": 0.2
             }
            },
            "type": "histogram"
           }
          ],
          "histogram2d": [
           {
            "colorbar": {
             "outlinewidth": 0,
             "ticks": ""
            },
            "colorscale": [
             [
              0,
              "#0d0887"
             ],
             [
              0.1111111111111111,
              "#46039f"
             ],
             [
              0.2222222222222222,
              "#7201a8"
             ],
             [
              0.3333333333333333,
              "#9c179e"
             ],
             [
              0.4444444444444444,
              "#bd3786"
             ],
             [
              0.5555555555555556,
              "#d8576b"
             ],
             [
              0.6666666666666666,
              "#ed7953"
             ],
             [
              0.7777777777777778,
              "#fb9f3a"
             ],
             [
              0.8888888888888888,
              "#fdca26"
             ],
             [
              1,
              "#f0f921"
             ]
            ],
            "type": "histogram2d"
           }
          ],
          "histogram2dcontour": [
           {
            "colorbar": {
             "outlinewidth": 0,
             "ticks": ""
            },
            "colorscale": [
             [
              0,
              "#0d0887"
             ],
             [
              0.1111111111111111,
              "#46039f"
             ],
             [
              0.2222222222222222,
              "#7201a8"
             ],
             [
              0.3333333333333333,
              "#9c179e"
             ],
             [
              0.4444444444444444,
              "#bd3786"
             ],
             [
              0.5555555555555556,
              "#d8576b"
             ],
             [
              0.6666666666666666,
              "#ed7953"
             ],
             [
              0.7777777777777778,
              "#fb9f3a"
             ],
             [
              0.8888888888888888,
              "#fdca26"
             ],
             [
              1,
              "#f0f921"
             ]
            ],
            "type": "histogram2dcontour"
           }
          ],
          "mesh3d": [
           {
            "colorbar": {
             "outlinewidth": 0,
             "ticks": ""
            },
            "type": "mesh3d"
           }
          ],
          "parcoords": [
           {
            "line": {
             "colorbar": {
              "outlinewidth": 0,
              "ticks": ""
             }
            },
            "type": "parcoords"
           }
          ],
          "pie": [
           {
            "automargin": true,
            "type": "pie"
           }
          ],
          "scatter": [
           {
            "fillpattern": {
             "fillmode": "overlay",
             "size": 10,
             "solidity": 0.2
            },
            "type": "scatter"
           }
          ],
          "scatter3d": [
           {
            "line": {
             "colorbar": {
              "outlinewidth": 0,
              "ticks": ""
             }
            },
            "marker": {
             "colorbar": {
              "outlinewidth": 0,
              "ticks": ""
             }
            },
            "type": "scatter3d"
           }
          ],
          "scattercarpet": [
           {
            "marker": {
             "colorbar": {
              "outlinewidth": 0,
              "ticks": ""
             }
            },
            "type": "scattercarpet"
           }
          ],
          "scattergeo": [
           {
            "marker": {
             "colorbar": {
              "outlinewidth": 0,
              "ticks": ""
             }
            },
            "type": "scattergeo"
           }
          ],
          "scattergl": [
           {
            "marker": {
             "colorbar": {
              "outlinewidth": 0,
              "ticks": ""
             }
            },
            "type": "scattergl"
           }
          ],
          "scattermap": [
           {
            "marker": {
             "colorbar": {
              "outlinewidth": 0,
              "ticks": ""
             }
            },
            "type": "scattermap"
           }
          ],
          "scattermapbox": [
           {
            "marker": {
             "colorbar": {
              "outlinewidth": 0,
              "ticks": ""
             }
            },
            "type": "scattermapbox"
           }
          ],
          "scatterpolar": [
           {
            "marker": {
             "colorbar": {
              "outlinewidth": 0,
              "ticks": ""
             }
            },
            "type": "scatterpolar"
           }
          ],
          "scatterpolargl": [
           {
            "marker": {
             "colorbar": {
              "outlinewidth": 0,
              "ticks": ""
             }
            },
            "type": "scatterpolargl"
           }
          ],
          "scatterternary": [
           {
            "marker": {
             "colorbar": {
              "outlinewidth": 0,
              "ticks": ""
             }
            },
            "type": "scatterternary"
           }
          ],
          "surface": [
           {
            "colorbar": {
             "outlinewidth": 0,
             "ticks": ""
            },
            "colorscale": [
             [
              0,
              "#0d0887"
             ],
             [
              0.1111111111111111,
              "#46039f"
             ],
             [
              0.2222222222222222,
              "#7201a8"
             ],
             [
              0.3333333333333333,
              "#9c179e"
             ],
             [
              0.4444444444444444,
              "#bd3786"
             ],
             [
              0.5555555555555556,
              "#d8576b"
             ],
             [
              0.6666666666666666,
              "#ed7953"
             ],
             [
              0.7777777777777778,
              "#fb9f3a"
             ],
             [
              0.8888888888888888,
              "#fdca26"
             ],
             [
              1,
              "#f0f921"
             ]
            ],
            "type": "surface"
           }
          ],
          "table": [
           {
            "cells": {
             "fill": {
              "color": "#EBF0F8"
             },
             "line": {
              "color": "white"
             }
            },
            "header": {
             "fill": {
              "color": "#C8D4E3"
             },
             "line": {
              "color": "white"
             }
            },
            "type": "table"
           }
          ]
         },
         "layout": {
          "annotationdefaults": {
           "arrowcolor": "#2a3f5f",
           "arrowhead": 0,
           "arrowwidth": 1
          },
          "autotypenumbers": "strict",
          "coloraxis": {
           "colorbar": {
            "outlinewidth": 0,
            "ticks": ""
           }
          },
          "colorscale": {
           "diverging": [
            [
             0,
             "#8e0152"
            ],
            [
             0.1,
             "#c51b7d"
            ],
            [
             0.2,
             "#de77ae"
            ],
            [
             0.3,
             "#f1b6da"
            ],
            [
             0.4,
             "#fde0ef"
            ],
            [
             0.5,
             "#f7f7f7"
            ],
            [
             0.6,
             "#e6f5d0"
            ],
            [
             0.7,
             "#b8e186"
            ],
            [
             0.8,
             "#7fbc41"
            ],
            [
             0.9,
             "#4d9221"
            ],
            [
             1,
             "#276419"
            ]
           ],
           "sequential": [
            [
             0,
             "#0d0887"
            ],
            [
             0.1111111111111111,
             "#46039f"
            ],
            [
             0.2222222222222222,
             "#7201a8"
            ],
            [
             0.3333333333333333,
             "#9c179e"
            ],
            [
             0.4444444444444444,
             "#bd3786"
            ],
            [
             0.5555555555555556,
             "#d8576b"
            ],
            [
             0.6666666666666666,
             "#ed7953"
            ],
            [
             0.7777777777777778,
             "#fb9f3a"
            ],
            [
             0.8888888888888888,
             "#fdca26"
            ],
            [
             1,
             "#f0f921"
            ]
           ],
           "sequentialminus": [
            [
             0,
             "#0d0887"
            ],
            [
             0.1111111111111111,
             "#46039f"
            ],
            [
             0.2222222222222222,
             "#7201a8"
            ],
            [
             0.3333333333333333,
             "#9c179e"
            ],
            [
             0.4444444444444444,
             "#bd3786"
            ],
            [
             0.5555555555555556,
             "#d8576b"
            ],
            [
             0.6666666666666666,
             "#ed7953"
            ],
            [
             0.7777777777777778,
             "#fb9f3a"
            ],
            [
             0.8888888888888888,
             "#fdca26"
            ],
            [
             1,
             "#f0f921"
            ]
           ]
          },
          "colorway": [
           "#636efa",
           "#EF553B",
           "#00cc96",
           "#ab63fa",
           "#FFA15A",
           "#19d3f3",
           "#FF6692",
           "#B6E880",
           "#FF97FF",
           "#FECB52"
          ],
          "font": {
           "color": "#2a3f5f"
          },
          "geo": {
           "bgcolor": "white",
           "lakecolor": "white",
           "landcolor": "#E5ECF6",
           "showlakes": true,
           "showland": true,
           "subunitcolor": "white"
          },
          "hoverlabel": {
           "align": "left"
          },
          "hovermode": "closest",
          "mapbox": {
           "style": "light"
          },
          "paper_bgcolor": "white",
          "plot_bgcolor": "#E5ECF6",
          "polar": {
           "angularaxis": {
            "gridcolor": "white",
            "linecolor": "white",
            "ticks": ""
           },
           "bgcolor": "#E5ECF6",
           "radialaxis": {
            "gridcolor": "white",
            "linecolor": "white",
            "ticks": ""
           }
          },
          "scene": {
           "xaxis": {
            "backgroundcolor": "#E5ECF6",
            "gridcolor": "white",
            "gridwidth": 2,
            "linecolor": "white",
            "showbackground": true,
            "ticks": "",
            "zerolinecolor": "white"
           },
           "yaxis": {
            "backgroundcolor": "#E5ECF6",
            "gridcolor": "white",
            "gridwidth": 2,
            "linecolor": "white",
            "showbackground": true,
            "ticks": "",
            "zerolinecolor": "white"
           },
           "zaxis": {
            "backgroundcolor": "#E5ECF6",
            "gridcolor": "white",
            "gridwidth": 2,
            "linecolor": "white",
            "showbackground": true,
            "ticks": "",
            "zerolinecolor": "white"
           }
          },
          "shapedefaults": {
           "line": {
            "color": "#2a3f5f"
           }
          },
          "ternary": {
           "aaxis": {
            "gridcolor": "white",
            "linecolor": "white",
            "ticks": ""
           },
           "baxis": {
            "gridcolor": "white",
            "linecolor": "white",
            "ticks": ""
           },
           "bgcolor": "#E5ECF6",
           "caxis": {
            "gridcolor": "white",
            "linecolor": "white",
            "ticks": ""
           }
          },
          "title": {
           "x": 0.05
          },
          "xaxis": {
           "automargin": true,
           "gridcolor": "white",
           "linecolor": "white",
           "ticks": "",
           "title": {
            "standoff": 15
           },
           "zerolinecolor": "white",
           "zerolinewidth": 2
          },
          "yaxis": {
           "automargin": true,
           "gridcolor": "white",
           "linecolor": "white",
           "ticks": "",
           "title": {
            "standoff": 15
           },
           "zerolinecolor": "white",
           "zerolinewidth": 2
          }
         }
        },
        "title": {
         "text": "3D Property Price Surface<br>Data Period: December 2024"
        },
        "width": 800
       }
      }
     },
     "metadata": {},
     "output_type": "display_data"
    },
    {
     "data": {
      "application/vnd.plotly.v1+json": {
       "config": {
        "plotlyServerURL": "https://plot.ly"
       },
       "data": [
        {
         "customdata": [
          [
           "St Kilda",
           "House",
           508417.44542706304
          ],
          [
           "Leederville",
           "House",
           559043.2384324555
          ],
          [
           "Kangaroo Point",
           "House",
           965544.0622767472
          ],
          [
           "Brisbane Cbd",
           "House",
           891231.7193230145
          ],
          [
           "Richmond",
           "House",
           705645.5983878131
          ],
          [
           "Adelaide Cbd",
           "House",
           768994.1837819179
          ],
          [
           "St Kilda",
           "Unit",
           528124.2757568386
          ],
          [
           "Cottesloe",
           "House",
           697867.4131495802
          ],
          [
           "North Adelaide",
           "House",
           547596.7357458726
          ],
          [
           "Brisbane Cbd",
           "House",
           835975.5640202818
          ],
          [
           "Brisbane Cbd",
           "Townhouse",
           366835.8504906232
          ],
          [
           "Unley",
           "House",
           530794.2555393513
          ],
          [
           "Adelaide Cbd",
           "House",
           440032.2922933023
          ],
          [
           "Manly",
           "Townhouse",
           479749.39443861705
          ],
          [
           "Richmond",
           "Unit",
           496715.0787580425
          ],
          [
           "Unley",
           "Unit",
           479825.9857848472
          ],
          [
           "Parramatta",
           "House",
           741027.5544955061
          ],
          [
           "Glenelg",
           "House",
           514519.1726442324
          ],
          [
           "Adelaide Cbd",
           "Unit",
           446552.2215334988
          ],
          [
           "Bondi",
           "Townhouse",
           456757.95316441584
          ],
          [
           "Unley",
           "Unit",
           413781.6301537466
          ],
          [
           "Fortitude Valley",
           "Unit",
           596499.7272958995
          ],
          [
           "Melbourne Cbd",
           "House",
           652662.4268784939
          ],
          [
           "Bondi",
           "Unit",
           445580.0695474831
          ],
          [
           "Adelaide Cbd",
           "House",
           683338.8144880973
          ],
          [
           "Sydney Cbd",
           "House",
           726743.8438870334
          ],
          [
           "Fortitude Valley",
           "House",
           643278.5903399708
          ],
          [
           "Glenelg",
           "House",
           763055.151265815
          ],
          [
           "Fortitude Valley",
           "House",
           493330.8854830917
          ],
          [
           "Norwood",
           "House",
           675923.5949550559
          ],
          [
           "Fremantle",
           "Unit",
           302403.05283966084
          ],
          [
           "Brighton",
           "House",
           667161.0856971361
          ],
          [
           "Perth Cbd",
           "Unit",
           389564.5072700355
          ],
          [
           "Cottesloe",
           "House",
           1036424.827942757
          ],
          [
           "Fortitude Valley",
           "House",
           687248.0756103178
          ],
          [
           "North Adelaide",
           "House",
           642520.6851713377
          ],
          [
           "Leederville",
           "House",
           671465.9914833495
          ],
          [
           "Norwood",
           "House",
           1017451.0097487188
          ],
          [
           "Parramatta",
           "Townhouse",
           414749.4452906236
          ],
          [
           "Chatswood",
           "House",
           869475.7547495827
          ],
          [
           "Cottesloe",
           "Unit",
           371028.4602035344
          ],
          [
           "St Kilda",
           "House",
           588381.868831848
          ],
          [
           "Adelaide Cbd",
           "Unit",
           524949.5714727602
          ],
          [
           "Carlton",
           "Unit",
           485492.2373574344
          ],
          [
           "St Kilda",
           "Unit",
           294399.54843890766
          ],
          [
           "Subiaco",
           "House",
           810748.0507036727
          ],
          [
           "Manly",
           "House",
           769466.4146059005
          ],
          [
           "Norwood",
           "House",
           510247.1770781389
          ],
          [
           "Paddington",
           "Townhouse",
           719901.4268419273
          ],
          [
           "Carlton",
           "Townhouse",
           715554.1537194932
          ],
          [
           "Adelaide Cbd",
           "House",
           965882.8821083796
          ],
          [
           "Bondi",
           "Unit",
           306654.70990038954
          ],
          [
           "Leederville",
           "Townhouse",
           476149.0147421064
          ],
          [
           "Kangaroo Point",
           "House",
           774545.386546669
          ],
          [
           "St Kilda",
           "House",
           740061.4202300046
          ],
          [
           "Fortitude Valley",
           "Unit",
           553680.3521114282
          ],
          [
           "Richmond",
           "Unit",
           304207.55869701004
          ],
          [
           "Parramatta",
           "House",
           609053.8144606192
          ],
          [
           "Paddington",
           "Unit",
           735255.0373203238
          ],
          [
           "Fremantle",
           "House",
           655110.7913600449
          ],
          [
           "Manly",
           "House",
           876327.8949710808
          ],
          [
           "Subiaco",
           "House",
           969653.6145756036
          ],
          [
           "Richmond",
           "Unit",
           437587.8685614241
          ],
          [
           "Manly",
           "Unit",
           437243.5612618759
          ],
          [
           "Bondi",
           "House",
           970020.8261168991
          ],
          [
           "Melbourne Cbd",
           "House",
           474361.30297351966
          ],
          [
           "Glenelg",
           "Unit",
           584579.2261361253
          ],
          [
           "Brighton",
           "House",
           814145.7819625847
          ],
          [
           "Manly",
           "Unit",
           410097.92427265726
          ],
          [
           "Glenelg",
           "House",
           630527.7148721659
          ],
          [
           "Subiaco",
           "House",
           786996.6392316218
          ],
          [
           "Fortitude Valley",
           "House",
           808237.3804944882
          ],
          [
           "Bondi",
           "House",
           646976.861281593
          ],
          [
           "Brighton",
           "Unit",
           492444.21768303344
          ],
          [
           "Manly",
           "House",
           445470.107278638
          ],
          [
           "Paddington",
           "House",
           541074.8219042302
          ],
          [
           "Perth Cbd",
           "Unit",
           471463.8768844871
          ],
          [
           "Kangaroo Point",
           "House",
           681725.1418594323
          ],
          [
           "Richmond",
           "House",
           544029.8725207517
          ],
          [
           "Paddington",
           "Townhouse",
           757192.7401227826
          ],
          [
           "North Adelaide",
           "Unit",
           337318.9181515853
          ],
          [
           "Norwood",
           "House",
           637115.3943236745
          ],
          [
           "Richmond",
           "Townhouse",
           462594.91403211193
          ],
          [
           "Adelaide Cbd",
           "Unit",
           328851.4779958966
          ],
          [
           "Perth Cbd",
           "House",
           722752.4056785032
          ],
          [
           "New Farm",
           "House",
           951049.5420418394
          ],
          [
           "Subiaco",
           "Unit",
           368325.87600227166
          ],
          [
           "Kangaroo Point",
           "Unit",
           528828.0853970001
          ],
          [
           "Adelaide Cbd",
           "House",
           846750.3368126313
          ],
          [
           "Unley",
           "Unit",
           376589.8315878813
          ],
          [
           "Norwood",
           "Unit",
           498679.6319274777
          ],
          [
           "New Farm",
           "House",
           643633.0899091946
          ],
          [
           "Carlton",
           "House",
           584977.260442172
          ],
          [
           "Kangaroo Point",
           "House",
           403793.0424586735
          ],
          [
           "New Farm",
           "Unit",
           454654.23581906327
          ],
          [
           "Sydney Cbd",
           "House",
           610360.1762731426
          ],
          [
           "Norwood",
           "Unit",
           600040.0681009404
          ],
          [
           "St Kilda",
           "Unit",
           623051.3792569594
          ],
          [
           "Carlton",
           "Unit",
           320580.3658139784
          ],
          [
           "Unley",
           "House",
           774606.7058907383
          ],
          [
           "Sydney Cbd",
           "Unit",
           463314.4026644051
          ],
          [
           "Fortitude Valley",
           "House",
           538460.1877309581
          ],
          [
           "Richmond",
           "Unit",
           530827.0556684487
          ],
          [
           "Unley",
           "House",
           983951.7943141444
          ],
          [
           "Brisbane Cbd",
           "House",
           731164.7604610492
          ],
          [
           "Cottesloe",
           "Unit",
           550787.4252267921
          ],
          [
           "Fremantle",
           "House",
           892875.000149442
          ],
          [
           "Richmond",
           "House",
           660317.1651096238
          ],
          [
           "Parramatta",
           "Unit",
           437110.2960603529
          ],
          [
           "Sydney Cbd",
           "Unit",
           617496.3442587965
          ],
          [
           "St Kilda",
           "House",
           805003.1402183175
          ],
          [
           "Carlton",
           "House",
           642944.2911303678
          ],
          [
           "St Kilda",
           "House",
           699349.0696140719
          ],
          [
           "Carlton",
           "Townhouse",
           362720.7915976962
          ],
          [
           "Richmond",
           "Unit",
           563624.6066997818
          ],
          [
           "Fortitude Valley",
           "House",
           664203.264288396
          ],
          [
           "Bondi",
           "House",
           498157.7205343031
          ],
          [
           "Sydney Cbd",
           "Townhouse",
           1061536.8017594311
          ],
          [
           "Perth Cbd",
           "House",
           675953.166855174
          ],
          [
           "North Adelaide",
           "Unit",
           700163.1796393468
          ],
          [
           "North Adelaide",
           "House",
           663128.3994645731
          ],
          [
           "Unley",
           "Unit",
           470108.6524115843
          ],
          [
           "Chatswood",
           "House",
           371179.52345167066
          ],
          [
           "Fortitude Valley",
           "Townhouse",
           660043.8490490618
          ],
          [
           "Richmond",
           "Unit",
           309968.945594906
          ],
          [
           "Glenelg",
           "Unit",
           346386.4815764313
          ],
          [
           "Parramatta",
           "Townhouse",
           472916.55445280025
          ],
          [
           "Sydney Cbd",
           "Unit",
           543253.621091854
          ],
          [
           "Parramatta",
           "House",
           599424.7715130228
          ],
          [
           "Chatswood",
           "Unit",
           678807.2829491559
          ],
          [
           "Kangaroo Point",
           "Unit",
           375113.2967714378
          ],
          [
           "Paddington",
           "House",
           800220.3421094267
          ],
          [
           "Parramatta",
           "Unit",
           771424.8524868423
          ],
          [
           "Sydney Cbd",
           "Townhouse",
           558441.0284130953
          ],
          [
           "Chatswood",
           "Townhouse",
           406824.3445484877
          ],
          [
           "North Adelaide",
           "House",
           562294.4137585062
          ],
          [
           "Paddington",
           "House",
           643565.1960103024
          ],
          [
           "St Kilda",
           "Townhouse",
           547787.4197439296
          ],
          [
           "Carlton",
           "Unit",
           566712.3209622018
          ],
          [
           "Kangaroo Point",
           "House",
           669607.1608653531
          ],
          [
           "Kangaroo Point",
           "Townhouse",
           340440.949678732
          ],
          [
           "Brighton",
           "Unit",
           401306.5585662592
          ],
          [
           "New Farm",
           "House",
           1090162.5563236312
          ],
          [
           "Cottesloe",
           "Unit",
           444191.4584803568
          ],
          [
           "St Kilda",
           "House",
           551572.9391486804
          ],
          [
           "Fremantle",
           "House",
           635129.0345491726
          ],
          [
           "Leederville",
           "House",
           683171.2297038815
          ],
          [
           "Manly",
           "Unit",
           411576.899705983
          ],
          [
           "Chatswood",
           "House",
           579621.8231602636
          ],
          [
           "North Adelaide",
           "House",
           705919.8771713102
          ],
          [
           "St Kilda",
           "House",
           630347.4838626673
          ],
          [
           "New Farm",
           "House",
           947080.4669334968
          ],
          [
           "Kangaroo Point",
           "Townhouse",
           385384.0944889033
          ],
          [
           "Brisbane Cbd",
           "House",
           570383.9114399455
          ],
          [
           "Manly",
           "House",
           750520.5271124888
          ],
          [
           "New Farm",
           "Unit",
           731636.0866056116
          ],
          [
           "St Kilda",
           "House",
           615363.5970252026
          ],
          [
           "Cottesloe",
           "House",
           1076964.7190604352
          ],
          [
           "Glenelg",
           "House",
           666622.9430865226
          ],
          [
           "Bondi",
           "House",
           602949.6914806727
          ],
          [
           "Brighton",
           "House",
           649265.3908660022
          ],
          [
           "New Farm",
           "House",
           724435.9319276083
          ],
          [
           "Norwood",
           "House",
           1100635.0476542455
          ],
          [
           "Adelaide Cbd",
           "Townhouse",
           498937.8105370966
          ],
          [
           "Melbourne Cbd",
           "House",
           617178.830084778
          ],
          [
           "Fortitude Valley",
           "Unit",
           643158.3913416313
          ],
          [
           "Fortitude Valley",
           "Unit",
           299642.9456402716
          ],
          [
           "Leederville",
           "House",
           766686.4256551036
          ],
          [
           "Brisbane Cbd",
           "Unit",
           352301.2034546134
          ],
          [
           "North Adelaide",
           "House",
           599204.7749895401
          ],
          [
           "Norwood",
           "Townhouse",
           644004.7852858689
          ],
          [
           "St Kilda",
           "House",
           609588.8623361541
          ],
          [
           "Sydney Cbd",
           "House",
           644047.9484324879
          ],
          [
           "Sydney Cbd",
           "House",
           351539.6893734698
          ],
          [
           "Norwood",
           "Townhouse",
           416703.41594230494
          ],
          [
           "Norwood",
           "House",
           922765.5684372544
          ],
          [
           "Leederville",
           "Unit",
           395533.0281956591
          ],
          [
           "New Farm",
           "House",
           616088.1415753856
          ],
          [
           "Carlton",
           "Unit",
           490564.37309125386
          ],
          [
           "Parramatta",
           "House",
           609385.5384745898
          ],
          [
           "St Kilda",
           "Unit",
           644166.392056409
          ],
          [
           "Melbourne Cbd",
           "House",
           1114649.0970564573
          ],
          [
           "Richmond",
           "House",
           950646.1911861966
          ],
          [
           "Carlton",
           "House",
           563965.7090226437
          ],
          [
           "Chatswood",
           "House",
           573097.0951667601
          ],
          [
           "Sydney Cbd",
           "Unit",
           624453.0979984251
          ],
          [
           "Cottesloe",
           "House",
           751199.6978423595
          ],
          [
           "Brighton",
           "Unit",
           855055.3796718814
          ],
          [
           "Fortitude Valley",
           "House",
           928809.2606104544
          ],
          [
           "Unley",
           "House",
           598112.6132422719
          ],
          [
           "Kangaroo Point",
           "House",
           765773.6063405256
          ],
          [
           "Glenelg",
           "House",
           794667.2992292134
          ],
          [
           "Unley",
           "Unit",
           523135.83237062383
          ],
          [
           "Carlton",
           "House",
           451331.7285297044
          ],
          [
           "Leederville",
           "House",
           674895.9360782462
          ],
          [
           "Fremantle",
           "Unit",
           303373.6225917114
          ],
          [
           "Fremantle",
           "Townhouse",
           491840.29348709615
          ],
          [
           "Leederville",
           "House",
           756426.5057929541
          ],
          [
           "Fortitude Valley",
           "House",
           537600.7457779881
          ],
          [
           "St Kilda",
           "Unit",
           549806.5617088624
          ],
          [
           "Bondi",
           "House",
           606071.1521129191
          ],
          [
           "Parramatta",
           "House",
           833926.4489959081
          ],
          [
           "Fremantle",
           "House",
           588159.7320065217
          ],
          [
           "Chatswood",
           "Unit",
           608063.8081277703
          ],
          [
           "Fremantle",
           "Unit",
           471666.3494952916
          ],
          [
           "Unley",
           "House",
           395451.0641724309
          ],
          [
           "Fremantle",
           "House",
           691765.0905082247
          ],
          [
           "Fremantle",
           "House",
           742565.2767182483
          ],
          [
           "Bondi",
           "Unit",
           539130.2434338348
          ],
          [
           "Bondi",
           "House",
           759984.292380417
          ],
          [
           "Glenelg",
           "House",
           629536.5222778519
          ],
          [
           "North Adelaide",
           "Unit",
           304375.7343711314
          ],
          [
           "Chatswood",
           "House",
           678296.0771770652
          ],
          [
           "Sydney Cbd",
           "Unit",
           345974.2312122055
          ],
          [
           "Sydney Cbd",
           "House",
           531387.5166477879
          ],
          [
           "Cottesloe",
           "House",
           1018921.6115847756
          ],
          [
           "Adelaide Cbd",
           "Unit",
           499195.98494848417
          ],
          [
           "Fortitude Valley",
           "Unit",
           450179.0541886407
          ],
          [
           "Melbourne Cbd",
           "Unit",
           678292.8737219686
          ],
          [
           "North Adelaide",
           "House",
           500006.9490802863
          ],
          [
           "Manly",
           "Unit",
           423841.8889279154
          ],
          [
           "North Adelaide",
           "House",
           885951.6010149973
          ],
          [
           "Brisbane Cbd",
           "House",
           498110.25334370096
          ],
          [
           "Unley",
           "Unit",
           341098.9873213289
          ],
          [
           "Fremantle",
           "House",
           636738.1289942713
          ],
          [
           "Melbourne Cbd",
           "House",
           594638.5171571563
          ],
          [
           "Unley",
           "House",
           621032.2332718179
          ],
          [
           "Chatswood",
           "House",
           478500.83358439605
          ],
          [
           "Leederville",
           "House",
           654007.3634889722
          ],
          [
           "Bondi",
           "Unit",
           397462.9654174879
          ],
          [
           "Melbourne Cbd",
           "House",
           851667.6529972426
          ],
          [
           "Glenelg",
           "Unit",
           365394.5572783171
          ],
          [
           "Brisbane Cbd",
           "Unit",
           751905.8522808383
          ],
          [
           "Perth Cbd",
           "House",
           575933.0033910543
          ],
          [
           "Perth Cbd",
           "House",
           467236.430115356
          ],
          [
           "Sydney Cbd",
           "House",
           591901.6118362932
          ],
          [
           "Carlton",
           "Unit",
           358757.8842524767
          ],
          [
           "Melbourne Cbd",
           "House",
           925086.6974151044
          ],
          [
           "Perth Cbd",
           "Unit",
           766709.9108038574
          ],
          [
           "Parramatta",
           "House",
           716113.4831945802
          ],
          [
           "Leederville",
           "Unit",
           430531.4414791633
          ],
          [
           "Manly",
           "House",
           1031695.3807301852
          ],
          [
           "Cottesloe",
           "House",
           934516.2078151412
          ],
          [
           "Parramatta",
           "Townhouse",
           503864.2408023368
          ],
          [
           "Cottesloe",
           "Unit",
           321387.1238141272
          ],
          [
           "Leederville",
           "House",
           408480.7570882102
          ],
          [
           "St Kilda",
           "Unit",
           495606.9240847645
          ],
          [
           "Leederville",
           "House",
           577817.9959332147
          ],
          [
           "Carlton",
           "Unit",
           557577.1089902127
          ],
          [
           "Sydney Cbd",
           "Unit",
           282821.8138218945
          ],
          [
           "Richmond",
           "House",
           775828.7113861761
          ],
          [
           "St Kilda",
           "House",
           654871.0209274548
          ],
          [
           "Subiaco",
           "House",
           665412.7286956036
          ],
          [
           "Richmond",
           "House",
           1098868.917468366
          ],
          [
           "Sydney Cbd",
           "Unit",
           493405.4001176517
          ],
          [
           "Brisbane Cbd",
           "House",
           640835.4107901596
          ],
          [
           "Norwood",
           "House",
           850662.3826972019
          ],
          [
           "Norwood",
           "Unit",
           423708.7830006927
          ],
          [
           "Subiaco",
           "Townhouse",
           650755.2051874687
          ],
          [
           "North Adelaide",
           "House",
           622967.6570425635
          ],
          [
           "Brighton",
           "House",
           930302.365257559
          ],
          [
           "Parramatta",
           "House",
           655838.2655696645
          ],
          [
           "St Kilda",
           "House",
           642979.8357400544
          ],
          [
           "Perth Cbd",
           "Townhouse",
           481606.4574836922
          ],
          [
           "Perth Cbd",
           "House",
           754097.5640716781
          ],
          [
           "Norwood",
           "Unit",
           300286.39463095553
          ],
          [
           "Leederville",
           "House",
           505310.22909418354
          ],
          [
           "Fremantle",
           "Unit",
           865632.0155923566
          ],
          [
           "Bondi",
           "Unit",
           649696.4355538484
          ],
          [
           "Sydney Cbd",
           "Unit",
           492932.1737919967
          ],
          [
           "Perth Cbd",
           "House",
           815850.8834919002
          ],
          [
           "Fortitude Valley",
           "House",
           804514.0768081779
          ],
          [
           "Chatswood",
           "House",
           753253.48520655
          ],
          [
           "Chatswood",
           "Townhouse",
           529140.8794839348
          ],
          [
           "North Adelaide",
           "Unit",
           407805.265443804
          ],
          [
           "Carlton",
           "Unit",
           528080.036457889
          ],
          [
           "Carlton",
           "Unit",
           346805.0509925135
          ],
          [
           "Parramatta",
           "Unit",
           430045.2160220696
          ],
          [
           "Cottesloe",
           "House",
           785928.0538333673
          ],
          [
           "Perth Cbd",
           "Townhouse",
           632556.8795346591
          ],
          [
           "Perth Cbd",
           "House",
           1155979.3598504106
          ],
          [
           "Leederville",
           "House",
           487881.7908899904
          ],
          [
           "Unley",
           "House",
           574004.3383552969
          ],
          [
           "Glenelg",
           "House",
           703590.0300664224
          ],
          [
           "Unley",
           "Unit",
           497252.4868809921
          ],
          [
           "Sydney Cbd",
           "House",
           562983.6137590982
          ],
          [
           "Unley",
           "Unit",
           625013.4519754315
          ],
          [
           "Leederville",
           "House",
           663533.7007284077
          ],
          [
           "Brisbane Cbd",
           "House",
           673767.0382306052
          ],
          [
           "Fremantle",
           "House",
           763294.0075908889
          ],
          [
           "Richmond",
           "House",
           429454.5052623929
          ],
          [
           "Manly",
           "Unit",
           427755.6487004565
          ],
          [
           "Melbourne Cbd",
           "House",
           560783.0200202343
          ],
          [
           "Richmond",
           "Unit",
           462190.0654521771
          ],
          [
           "Leederville",
           "House",
           381636.712117138
          ],
          [
           "Parramatta",
           "Unit",
           351234.5850614906
          ],
          [
           "Perth Cbd",
           "Townhouse",
           489447.3914534508
          ],
          [
           "Norwood",
           "Unit",
           459298.0570491885
          ],
          [
           "Parramatta",
           "House",
           671182.8101455146
          ],
          [
           "Norwood",
           "House",
           602008.3554394356
          ],
          [
           "Subiaco",
           "House",
           838842.9167366606
          ],
          [
           "Paddington",
           "Unit",
           333423.1606784293
          ],
          [
           "Subiaco",
           "House",
           634337.7978851539
          ],
          [
           "Bondi",
           "House",
           1011459.1442949304
          ],
          [
           "Glenelg",
           "Unit",
           791083.2296864435
          ],
          [
           "Parramatta",
           "House",
           757203.7938826706
          ],
          [
           "Perth Cbd",
           "Unit",
           551071.047651108
          ],
          [
           "Carlton",
           "House",
           496712.0229967159
          ],
          [
           "Manly",
           "House",
           653186.912915211
          ],
          [
           "Sydney Cbd",
           "Unit",
           390088.90836135845
          ],
          [
           "Manly",
           "House",
           1062445.0740526435
          ],
          [
           "Sydney Cbd",
           "Unit",
           615407.8639802764
          ],
          [
           "Paddington",
           "House",
           612831.509718762
          ],
          [
           "Adelaide Cbd",
           "House",
           680522.3267419041
          ],
          [
           "Perth Cbd",
           "Unit",
           1003504.151066237
          ],
          [
           "Leederville",
           "Unit",
           533863.107071585
          ],
          [
           "Unley",
           "Unit",
           598118.5387002518
          ],
          [
           "Richmond",
           "House",
           553534.1458506922
          ],
          [
           "St Kilda",
           "Unit",
           385101.275233193
          ],
          [
           "Parramatta",
           "House",
           588494.035143941
          ],
          [
           "Fremantle",
           "House",
           897324.8895988181
          ],
          [
           "Sydney Cbd",
           "Townhouse",
           767957.9085003929
          ],
          [
           "Perth Cbd",
           "House",
           475540.9407806824
          ],
          [
           "Fortitude Valley",
           "Townhouse",
           378537.6215857586
          ],
          [
           "Cottesloe",
           "House",
           588851.3358862718
          ],
          [
           "Glenelg",
           "House",
           533176.867049835
          ],
          [
           "North Adelaide",
           "House",
           500928.5094554734
          ],
          [
           "Glenelg",
           "Unit",
           479232.68624339096
          ],
          [
           "Paddington",
           "Unit",
           422591.4382166902
          ],
          [
           "Melbourne Cbd",
           "Unit",
           350636.65941002284
          ],
          [
           "Melbourne Cbd",
           "Unit",
           615123.4255014199
          ],
          [
           "New Farm",
           "Unit",
           561878.2861051516
          ],
          [
           "Cottesloe",
           "Unit",
           416508.4477832351
          ],
          [
           "Glenelg",
           "House",
           734944.070959395
          ],
          [
           "Richmond",
           "House",
           728752.5966453227
          ],
          [
           "Bondi",
           "House",
           511027.9598719186
          ],
          [
           "Adelaide Cbd",
           "Townhouse",
           344172.7903661919
          ],
          [
           "Sydney Cbd",
           "Townhouse",
           552689.7066102069
          ],
          [
           "Kangaroo Point",
           "House",
           534583.2813404588
          ],
          [
           "Sydney Cbd",
           "Unit",
           291770.14875126525
          ],
          [
           "Chatswood",
           "Townhouse",
           698296.4779595786
          ],
          [
           "Perth Cbd",
           "House",
           433945.67969410017
          ],
          [
           "Cottesloe",
           "Unit",
           564037.0252909525
          ],
          [
           "Manly",
           "Townhouse",
           343442.8127558023
          ],
          [
           "Parramatta",
           "House",
           687920.9223605396
          ],
          [
           "Fremantle",
           "Unit",
           555274.7621466338
          ],
          [
           "Fremantle",
           "House",
           766844.187280783
          ],
          [
           "Fortitude Valley",
           "Townhouse",
           708833.9214218344
          ],
          [
           "Paddington",
           "Townhouse",
           496119.3694790371
          ],
          [
           "Adelaide Cbd",
           "Townhouse",
           590224.5452627891
          ],
          [
           "Melbourne Cbd",
           "House",
           321456.6500783677
          ],
          [
           "Parramatta",
           "Unit",
           439416.2348766317
          ],
          [
           "Carlton",
           "Unit",
           748901.5575275569
          ],
          [
           "Chatswood",
           "House",
           525783.4618991709
          ],
          [
           "Unley",
           "Unit",
           642490.6345941359
          ],
          [
           "Fremantle",
           "House",
           607071.4243357796
          ],
          [
           "Paddington",
           "Unit",
           429019.0387874561
          ],
          [
           "Adelaide Cbd",
           "House",
           671809.1009896628
          ],
          [
           "Parramatta",
           "House",
           954377.0684926268
          ],
          [
           "Sydney Cbd",
           "House",
           608850.8537221672
          ],
          [
           "Leederville",
           "Unit",
           450249.4690777277
          ],
          [
           "Adelaide Cbd",
           "House",
           737880.2612146366
          ],
          [
           "North Adelaide",
           "Unit",
           556378.1545226075
          ],
          [
           "Sydney Cbd",
           "House",
           494457.73269081255
          ],
          [
           "Parramatta",
           "House",
           530729.4771252426
          ],
          [
           "Subiaco",
           "House",
           712335.8373123232
          ],
          [
           "Norwood",
           "Unit",
           579010.6906261847
          ],
          [
           "Brighton",
           "House",
           633850.1558386513
          ],
          [
           "Glenelg",
           "Unit",
           359552.4735910162
          ],
          [
           "Parramatta",
           "Unit",
           470082.3287196827
          ],
          [
           "Richmond",
           "Unit",
           427157.4486156089
          ],
          [
           "Paddington",
           "House",
           510364.09431795287
          ],
          [
           "Unley",
           "House",
           1022041.6416781862
          ],
          [
           "Subiaco",
           "Unit",
           453701.98050930776
          ],
          [
           "Kangaroo Point",
           "House",
           600956.7158536176
          ],
          [
           "Glenelg",
           "Unit",
           441167.28033796063
          ],
          [
           "North Adelaide",
           "House",
           558469.559963391
          ],
          [
           "Bondi",
           "Townhouse",
           394747.2989586165
          ],
          [
           "Brighton",
           "Unit",
           730015.0828758208
          ],
          [
           "Bondi",
           "Townhouse",
           766121.6500071258
          ],
          [
           "Fremantle",
           "House",
           806548.3903327099
          ],
          [
           "Richmond",
           "Unit",
           536871.5661489384
          ],
          [
           "Sydney Cbd",
           "House",
           593810.3953905731
          ],
          [
           "Carlton",
           "House",
           640793.1243311722
          ],
          [
           "Brisbane Cbd",
           "Unit",
           639820.0429662226
          ],
          [
           "Perth Cbd",
           "Townhouse",
           681504.6078689339
          ],
          [
           "St Kilda",
           "Unit",
           530167.1058728884
          ],
          [
           "Brighton",
           "House",
           500637.71173679264
          ],
          [
           "North Adelaide",
           "House",
           547920.9187273382
          ],
          [
           "Parramatta",
           "Unit",
           437135.7749678441
          ],
          [
           "Subiaco",
           "House",
           352776.14020227344
          ],
          [
           "Norwood",
           "House",
           817542.977219124
          ],
          [
           "Unley",
           "House",
           639623.5262272828
          ],
          [
           "New Farm",
           "House",
           821299.4615483907
          ],
          [
           "St Kilda",
           "House",
           787744.7393017394
          ],
          [
           "Norwood",
           "House",
           791076.5565691555
          ],
          [
           "Manly",
           "House",
           601057.4153976873
          ],
          [
           "New Farm",
           "House",
           865013.2937915862
          ],
          [
           "Leederville",
           "Townhouse",
           544299.159642064
          ],
          [
           "Sydney Cbd",
           "House",
           842553.9404250586
          ],
          [
           "Richmond",
           "House",
           491431.3898365782
          ],
          [
           "Paddington",
           "Unit",
           472002.0643752399
          ],
          [
           "Perth Cbd",
           "House",
           766629.6223003267
          ],
          [
           "Paddington",
           "Townhouse",
           680505.5488114298
          ],
          [
           "Fortitude Valley",
           "Unit",
           327233.84923814674
          ],
          [
           "Cottesloe",
           "House",
           713830.9258162464
          ],
          [
           "North Adelaide",
           "House",
           825641.3703422365
          ],
          [
           "Kangaroo Point",
           "Unit",
           567609.1779544975
          ],
          [
           "Bondi",
           "Townhouse",
           565578.7282238937
          ],
          [
           "Bondi",
           "House",
           676083.812979933
          ],
          [
           "North Adelaide",
           "Unit",
           337001.98827201687
          ],
          [
           "Glenelg",
           "House",
           835468.6097128157
          ],
          [
           "Cottesloe",
           "Townhouse",
           618945.5160666964
          ],
          [
           "Norwood",
           "House",
           743576.149104744
          ],
          [
           "Glenelg",
           "Townhouse",
           799824.8952774488
          ],
          [
           "Glenelg",
           "Unit",
           720477.4227947859
          ],
          [
           "Fremantle",
           "Unit",
           338904.0294532779
          ],
          [
           "Leederville",
           "House",
           560360.3395444393
          ],
          [
           "Brighton",
           "House",
           405232.9792251272
          ],
          [
           "Melbourne Cbd",
           "House",
           573400.8299910061
          ],
          [
           "Kangaroo Point",
           "House",
           563060.5570779084
          ],
          [
           "Glenelg",
           "House",
           643713.6567095887
          ],
          [
           "Brisbane Cbd",
           "Unit",
           449340.6094895937
          ],
          [
           "Chatswood",
           "House",
           744669.1709966925
          ],
          [
           "Sydney Cbd",
           "House",
           644496.9849323026
          ],
          [
           "Richmond",
           "Townhouse",
           525923.6950504767
          ],
          [
           "Adelaide Cbd",
           "Unit",
           572620.3239990484
          ],
          [
           "Fortitude Valley",
           "Townhouse",
           420726.3180488816
          ],
          [
           "Fortitude Valley",
           "Townhouse",
           538389.545150253
          ],
          [
           "Chatswood",
           "House",
           698436.5818890043
          ],
          [
           "St Kilda",
           "House",
           858782.437051868
          ],
          [
           "Manly",
           "Unit",
           507367.6663842457
          ],
          [
           "Melbourne Cbd",
           "Unit",
           395220.9943046928
          ],
          [
           "New Farm",
           "House",
           910746.8503312868
          ],
          [
           "Leederville",
           "Unit",
           389739.5021250487
          ],
          [
           "Kangaroo Point",
           "House",
           497890.4752238308
          ],
          [
           "Parramatta",
           "House",
           447155.386612828
          ],
          [
           "North Adelaide",
           "House",
           645741.7442028796
          ],
          [
           "Richmond",
           "Unit",
           561487.4975277617
          ],
          [
           "Leederville",
           "Unit",
           457350.4787899466
          ],
          [
           "Perth Cbd",
           "House",
           771067.5833692137
          ],
          [
           "New Farm",
           "Unit",
           627375.4022389172
          ],
          [
           "Subiaco",
           "House",
           495117.0119986565
          ],
          [
           "Brighton",
           "House",
           813455.1284797163
          ],
          [
           "Cottesloe",
           "Unit",
           403505.24374312325
          ],
          [
           "Fremantle",
           "Townhouse",
           490165.5205711712
          ],
          [
           "Unley",
           "Unit",
           484641.2051451845
          ],
          [
           "Cottesloe",
           "Unit",
           530731.3765968429
          ],
          [
           "North Adelaide",
           "Unit",
           797636.4552037239
          ],
          [
           "Chatswood",
           "Unit",
           367379.9773407061
          ],
          [
           "Adelaide Cbd",
           "House",
           671284.3461774575
          ],
          [
           "North Adelaide",
           "House",
           630299.1253994136
          ],
          [
           "Carlton",
           "House",
           722417.3405300792
          ],
          [
           "Fortitude Valley",
           "House",
           751406.0060461675
          ],
          [
           "Adelaide Cbd",
           "Unit",
           362869.65694775386
          ],
          [
           "Sydney Cbd",
           "House",
           476513.7148984534
          ],
          [
           "Sydney Cbd",
           "House",
           641426.1565593984
          ],
          [
           "Kangaroo Point",
           "House",
           566248.83126024
          ],
          [
           "Bondi",
           "Unit",
           373049.7382507401
          ],
          [
           "Glenelg",
           "House",
           685296.317594956
          ],
          [
           "Perth Cbd",
           "Unit",
           411026.4459696094
          ],
          [
           "Norwood",
           "House",
           591616.0081694649
          ],
          [
           "Richmond",
           "House",
           701380.7516398204
          ],
          [
           "New Farm",
           "Unit",
           411329.4543689635
          ],
          [
           "Adelaide Cbd",
           "Unit",
           649859.5646916679
          ],
          [
           "Sydney Cbd",
           "House",
           729035.2311708389
          ],
          [
           "Perth Cbd",
           "Unit",
           581481.9040975658
          ],
          [
           "St Kilda",
           "Unit",
           275128.733443072
          ],
          [
           "Chatswood",
           "House",
           587352.5456047629
          ],
          [
           "Glenelg",
           "Unit",
           507870.50696307287
          ],
          [
           "North Adelaide",
           "Unit",
           452741.5494823953
          ],
          [
           "Parramatta",
           "Unit",
           430449.6842285531
          ],
          [
           "Fortitude Valley",
           "Unit",
           547960.0405646564
          ],
          [
           "Perth Cbd",
           "Unit",
           474863.5862250401
          ],
          [
           "Chatswood",
           "Unit",
           364636.7658934549
          ],
          [
           "Glenelg",
           "Unit",
           671586.0472240829
          ],
          [
           "Norwood",
           "Unit",
           664450.0750732815
          ],
          [
           "Paddington",
           "Unit",
           381695.9519723236
          ],
          [
           "Chatswood",
           "Unit",
           325418.48705361766
          ],
          [
           "Kangaroo Point",
           "House",
           734179.7476808955
          ],
          [
           "Fremantle",
           "Unit",
           376821.765722898
          ],
          [
           "Paddington",
           "Unit",
           567992.7055122465
          ],
          [
           "Leederville",
           "House",
           678076.7715947296
          ],
          [
           "Chatswood",
           "Unit",
           521276.29197461705
          ],
          [
           "Fortitude Valley",
           "House",
           561893.0970304434
          ],
          [
           "Perth Cbd",
           "House",
           775298.0503695294
          ],
          [
           "Perth Cbd",
           "Unit",
           537056.6550625035
          ],
          [
           "Adelaide Cbd",
           "House",
           509036.9312965304
          ],
          [
           "St Kilda",
           "Unit",
           853947.5008137746
          ],
          [
           "Manly",
           "Unit",
           478618.473387234
          ],
          [
           "Sydney Cbd",
           "House",
           356094.53845163184
          ],
          [
           "North Adelaide",
           "House",
           505833.5987786867
          ],
          [
           "Brighton",
           "Unit",
           661788.5647531567
          ],
          [
           "Glenelg",
           "Townhouse",
           458737.2304050609
          ],
          [
           "Chatswood",
           "Unit",
           355413.83640364395
          ],
          [
           "Manly",
           "House",
           639688.826481652
          ],
          [
           "Bondi",
           "Unit",
           386808.0656003177
          ],
          [
           "Leederville",
           "House",
           893254.3945132114
          ],
          [
           "Brighton",
           "Unit",
           459991.9812426087
          ],
          [
           "Cottesloe",
           "House",
           965294.4405055247
          ],
          [
           "Sydney Cbd",
           "Unit",
           572456.6036144097
          ],
          [
           "Unley",
           "House",
           489757.0440045096
          ],
          [
           "Chatswood",
           "Townhouse",
           549748.4227441683
          ],
          [
           "New Farm",
           "House",
           462208.0772876802
          ],
          [
           "Manly",
           "Unit",
           322867.0929768587
          ],
          [
           "Perth Cbd",
           "Townhouse",
           672786.9654748007
          ],
          [
           "Unley",
           "House",
           706281.061333503
          ],
          [
           "Perth Cbd",
           "Townhouse",
           605848.1261909483
          ],
          [
           "North Adelaide",
           "Unit",
           495385.11214074143
          ],
          [
           "Bondi",
           "House",
           726169.5593428917
          ],
          [
           "Fremantle",
           "House",
           853047.6303095461
          ],
          [
           "Leederville",
           "Unit",
           477466.0154264494
          ],
          [
           "Unley",
           "House",
           927981.3792666474
          ],
          [
           "Fortitude Valley",
           "Unit",
           476805.0406757572
          ],
          [
           "Subiaco",
           "House",
           773402.0480514587
          ],
          [
           "Parramatta",
           "Unit",
           419956.5948253606
          ],
          [
           "Sydney Cbd",
           "House",
           601153.4948946777
          ],
          [
           "Sydney Cbd",
           "Unit",
           428158.2402741195
          ],
          [
           "Cottesloe",
           "Townhouse",
           526985.9809764015
          ],
          [
           "Brisbane Cbd",
           "Townhouse",
           819145.5356069398
          ],
          [
           "Chatswood",
           "Unit",
           493281.1815647735
          ],
          [
           "Fortitude Valley",
           "House",
           772705.8105787612
          ],
          [
           "Parramatta",
           "Unit",
           654512.1926400046
          ],
          [
           "Sydney Cbd",
           "House",
           515845.6695367652
          ],
          [
           "Sydney Cbd",
           "House",
           819202.0941242488
          ],
          [
           "Richmond",
           "House",
           699205.4160991575
          ],
          [
           "Brighton",
           "House",
           962194.9282429488
          ],
          [
           "Brisbane Cbd",
           "Unit",
           627449.7306769955
          ],
          [
           "Fortitude Valley",
           "Unit",
           481402.8523550375
          ],
          [
           "New Farm",
           "House",
           1041303.711088251
          ],
          [
           "Fortitude Valley",
           "House",
           467339.998134814
          ],
          [
           "Paddington",
           "Townhouse",
           507310.43581241247
          ],
          [
           "Bondi",
           "House",
           633390.4927343252
          ],
          [
           "Cottesloe",
           "House",
           985110.5370412054
          ],
          [
           "Subiaco",
           "House",
           477911.4376547795
          ],
          [
           "Parramatta",
           "Unit",
           728995.1283311344
          ],
          [
           "North Adelaide",
           "Unit",
           374329.1947924015
          ],
          [
           "Fremantle",
           "House",
           543425.4934624864
          ],
          [
           "Richmond",
           "House",
           688260.7094065328
          ],
          [
           "Brighton",
           "Unit",
           309226.254089265
          ],
          [
           "Bondi",
           "Unit",
           445980.2551480241
          ],
          [
           "Cottesloe",
           "House",
           724305.6752423235
          ],
          [
           "Carlton",
           "Townhouse",
           625451.4013319884
          ],
          [
           "St Kilda",
           "House",
           761982.4290221467
          ],
          [
           "Manly",
           "House",
           610711.6785340881
          ],
          [
           "Adelaide Cbd",
           "Townhouse",
           405528.2558140245
          ],
          [
           "Subiaco",
           "House",
           476994.2148628019
          ],
          [
           "Brisbane Cbd",
           "House",
           689360.0956185044
          ],
          [
           "Unley",
           "House",
           716976.2263573345
          ],
          [
           "Manly",
           "Townhouse",
           345474.58099767345
          ],
          [
           "Norwood",
           "House",
           573904.2197903282
          ],
          [
           "Adelaide Cbd",
           "Unit",
           606034.0975285535
          ],
          [
           "Norwood",
           "House",
           477755.1422493367
          ],
          [
           "Manly",
           "House",
           956302.26923455
          ],
          [
           "Brighton",
           "House",
           737566.8576746096
          ],
          [
           "Chatswood",
           "Unit",
           647132.7421602217
          ],
          [
           "Carlton",
           "House",
           620126.3598113103
          ],
          [
           "Unley",
           "Unit",
           440095.05061052425
          ],
          [
           "Parramatta",
           "House",
           626391.7579334871
          ],
          [
           "Fremantle",
           "Townhouse",
           471159.07152831234
          ],
          [
           "Parramatta",
           "House",
           496646.0937642144
          ],
          [
           "Perth Cbd",
           "Unit",
           761683.4263205633
          ],
          [
           "Manly",
           "Unit",
           368819.4904843595
          ],
          [
           "Subiaco",
           "Unit",
           481113.6532546606
          ],
          [
           "Fremantle",
           "Unit",
           496121.1241071693
          ],
          [
           "St Kilda",
           "Unit",
           367816.5214874842
          ],
          [
           "Unley",
           "Unit",
           425244.5657520242
          ],
          [
           "North Adelaide",
           "House",
           453899.8681679274
          ],
          [
           "Chatswood",
           "House",
           1163036.6864395293
          ],
          [
           "Fortitude Valley",
           "Townhouse",
           670090.9848689517
          ],
          [
           "Fremantle",
           "Unit",
           442122.4105902573
          ],
          [
           "North Adelaide",
           "Unit",
           366088.42055411433
          ],
          [
           "New Farm",
           "House",
           635742.4011969244
          ],
          [
           "North Adelaide",
           "House",
           577451.3926976933
          ],
          [
           "Norwood",
           "House",
           547330.7051424996
          ],
          [
           "Parramatta",
           "Unit",
           351805.5180640625
          ],
          [
           "Carlton",
           "House",
           523257.9672517981
          ],
          [
           "Fremantle",
           "House",
           603468.4804528997
          ],
          [
           "Fremantle",
           "House",
           447693.89555281965
          ],
          [
           "Leederville",
           "House",
           485171.0388494794
          ],
          [
           "Perth Cbd",
           "Unit",
           543739.0446048314
          ],
          [
           "Norwood",
           "House",
           820246.9545123657
          ],
          [
           "Glenelg",
           "Unit",
           507359.6970449348
          ],
          [
           "New Farm",
           "House",
           756360.6136828843
          ],
          [
           "Cottesloe",
           "House",
           521023.4611174146
          ],
          [
           "Fremantle",
           "House",
           698191.3738744329
          ],
          [
           "Manly",
           "House",
           621633.0762437386
          ],
          [
           "Fortitude Valley",
           "House",
           585874.7024206121
          ],
          [
           "Carlton",
           "House",
           751788.6023645671
          ],
          [
           "Cottesloe",
           "Unit",
           338015.06567068567
          ],
          [
           "Fortitude Valley",
           "House",
           510411.1515758832
          ],
          [
           "Carlton",
           "Unit",
           438662.9612567525
          ],
          [
           "St Kilda",
           "Unit",
           664702.6940628951
          ],
          [
           "Paddington",
           "Unit",
           495586.6224992547
          ],
          [
           "Leederville",
           "House",
           573887.6493254367
          ],
          [
           "Cottesloe",
           "House",
           587587.674669659
          ],
          [
           "Kangaroo Point",
           "House",
           997237.9998258952
          ],
          [
           "Perth Cbd",
           "House",
           690290.4330262382
          ],
          [
           "Adelaide Cbd",
           "Townhouse",
           550862.2869405624
          ],
          [
           "Chatswood",
           "House",
           672681.2485862605
          ],
          [
           "Parramatta",
           "House",
           382211.5993869514
          ],
          [
           "Fortitude Valley",
           "Unit",
           375101.04011050565
          ],
          [
           "Norwood",
           "Unit",
           530893.1866363654
          ],
          [
           "Leederville",
           "Unit",
           460521.7911437355
          ],
          [
           "Adelaide Cbd",
           "House",
           837733.3173458346
          ],
          [
           "Manly",
           "House",
           618969.1566134925
          ],
          [
           "Adelaide Cbd",
           "House",
           724105.0780389265
          ],
          [
           "North Adelaide",
           "House",
           807548.392066116
          ],
          [
           "Perth Cbd",
           "House",
           831465.1464405719
          ],
          [
           "Norwood",
           "House",
           826482.6747701075
          ],
          [
           "St Kilda",
           "House",
           527441.9666957982
          ],
          [
           "New Farm",
           "House",
           709764.5972444562
          ],
          [
           "Adelaide Cbd",
           "House",
           461218.7560664432
          ],
          [
           "Brighton",
           "Unit",
           287344.55337323697
          ],
          [
           "St Kilda",
           "Unit",
           669443.1542757807
          ],
          [
           "Paddington",
           "Unit",
           492612.77805626136
          ],
          [
           "Chatswood",
           "House",
           545642.1654498323
          ],
          [
           "Parramatta",
           "House",
           446285.5190468654
          ],
          [
           "North Adelaide",
           "House",
           318763.2645368419
          ],
          [
           "Brisbane Cbd",
           "Unit",
           343641.957266416
          ],
          [
           "Brisbane Cbd",
           "Unit",
           413569.3999761728
          ],
          [
           "Subiaco",
           "House",
           562473.4171894781
          ],
          [
           "Kangaroo Point",
           "Townhouse",
           623243.0752188042
          ],
          [
           "Fortitude Valley",
           "House",
           705224.6613881391
          ],
          [
           "Carlton",
           "House",
           856716.0703592688
          ],
          [
           "Brighton",
           "Unit",
           538723.7728898735
          ],
          [
           "Fortitude Valley",
           "Unit",
           538812.6850159401
          ],
          [
           "Fremantle",
           "Unit",
           312662.92369147786
          ],
          [
           "Melbourne Cbd",
           "Unit",
           491154.9676664295
          ],
          [
           "St Kilda",
           "House",
           613680.22158288
          ],
          [
           "Paddington",
           "Unit",
           470387.2676020833
          ],
          [
           "New Farm",
           "House",
           1034117.3524148
          ],
          [
           "Richmond",
           "Unit",
           516577.68046287616
          ],
          [
           "Brighton",
           "House",
           640315.7392680107
          ],
          [
           "Carlton",
           "Unit",
           635617.2992721047
          ],
          [
           "Subiaco",
           "House",
           579000.6253601833
          ],
          [
           "Bondi",
           "Unit",
           517992.10252215946
          ],
          [
           "Chatswood",
           "House",
           509424.507871608
          ],
          [
           "Chatswood",
           "Unit",
           339115.6563795556
          ],
          [
           "Melbourne Cbd",
           "House",
           859541.263264982
          ],
          [
           "Cottesloe",
           "House",
           654798.1040927619
          ],
          [
           "Richmond",
           "House",
           1105543.448558337
          ],
          [
           "Perth Cbd",
           "House",
           629340.7986732464
          ],
          [
           "New Farm",
           "Unit",
           556188.3268209428
          ],
          [
           "Sydney Cbd",
           "House",
           826207.7930550447
          ],
          [
           "Glenelg",
           "Townhouse",
           584928.8340070638
          ],
          [
           "Leederville",
           "House",
           1037591.259083261
          ],
          [
           "Fremantle",
           "House",
           794331.0585055777
          ],
          [
           "St Kilda",
           "Unit",
           304811.3309652977
          ],
          [
           "Norwood",
           "Unit",
           427894.4867449259
          ],
          [
           "New Farm",
           "House",
           576879.807909935
          ],
          [
           "Manly",
           "Unit",
           367052.8323561008
          ],
          [
           "Manly",
           "Unit",
           369270.1833196388
          ],
          [
           "Melbourne Cbd",
           "House",
           733714.3934291856
          ],
          [
           "Cottesloe",
           "Townhouse",
           535711.5043262787
          ],
          [
           "Fortitude Valley",
           "Townhouse",
           524868.5146177156
          ],
          [
           "Glenelg",
           "Unit",
           624206.3939922602
          ],
          [
           "St Kilda",
           "House",
           1149783.9243688951
          ],
          [
           "Brighton",
           "Unit",
           547514.7240333798
          ],
          [
           "Cottesloe",
           "House",
           560134.6905581938
          ],
          [
           "St Kilda",
           "House",
           837549.0312383361
          ],
          [
           "Parramatta",
           "House",
           602831.607648702
          ],
          [
           "New Farm",
           "House",
           504498.4982488159
          ],
          [
           "New Farm",
           "Unit",
           362606.4013167908
          ],
          [
           "Subiaco",
           "Unit",
           338520.7410641903
          ],
          [
           "Leederville",
           "Unit",
           665953.5939894725
          ],
          [
           "Richmond",
           "House",
           952175.1256603256
          ],
          [
           "Carlton",
           "House",
           554941.8813858958
          ],
          [
           "St Kilda",
           "House",
           775648.3135019819
          ],
          [
           "Sydney Cbd",
           "Townhouse",
           631217.3206064636
          ],
          [
           "Parramatta",
           "House",
           404939.97657538473
          ],
          [
           "New Farm",
           "Unit",
           470800.5718469655
          ],
          [
           "Norwood",
           "Unit",
           531631.4367761327
          ],
          [
           "Fremantle",
           "House",
           769575.2051982179
          ],
          [
           "Norwood",
           "Unit",
           519592.0798682402
          ],
          [
           "Unley",
           "House",
           542955.8535588275
          ],
          [
           "Sydney Cbd",
           "Unit",
           379965.6860165272
          ],
          [
           "Melbourne Cbd",
           "Townhouse",
           716239.3059675979
          ],
          [
           "Adelaide Cbd",
           "House",
           547332.2478684386
          ],
          [
           "Melbourne Cbd",
           "House",
           653932.9879667307
          ],
          [
           "Fortitude Valley",
           "Unit",
           378250.363143601
          ],
          [
           "New Farm",
           "Townhouse",
           422453.28279789706
          ],
          [
           "New Farm",
           "House",
           716293.5442350955
          ],
          [
           "Kangaroo Point",
           "Unit",
           453175.5809695677
          ],
          [
           "Adelaide Cbd",
           "Unit",
           422758.6897788645
          ],
          [
           "Perth Cbd",
           "Unit",
           528180.2610815676
          ],
          [
           "Glenelg",
           "House",
           416247.5876645709
          ],
          [
           "Adelaide Cbd",
           "Unit",
           312340.7713377138
          ],
          [
           "Brisbane Cbd",
           "Townhouse",
           507844.0357865503
          ],
          [
           "Chatswood",
           "House",
           623831.3263225612
          ],
          [
           "Manly",
           "House",
           672075.6227841221
          ],
          [
           "Parramatta",
           "Townhouse",
           497402.01551941375
          ],
          [
           "Cottesloe",
           "House",
           848744.7160148124
          ],
          [
           "Leederville",
           "Unit",
           429855.1301796183
          ],
          [
           "Norwood",
           "House",
           783347.3554008307
          ],
          [
           "Subiaco",
           "House",
           898552.8949401134
          ],
          [
           "Kangaroo Point",
           "Unit",
           360329.8943283987
          ],
          [
           "Carlton",
           "House",
           1003021.7688809738
          ],
          [
           "Fremantle",
           "House",
           1061659.3163186244
          ],
          [
           "Paddington",
           "House",
           657825.3501876656
          ],
          [
           "Kangaroo Point",
           "Unit",
           423295.7925476516
          ],
          [
           "Sydney Cbd",
           "House",
           817390.69704878
          ],
          [
           "Adelaide Cbd",
           "House",
           647667.241307842
          ],
          [
           "Glenelg",
           "Townhouse",
           466757.8319439952
          ],
          [
           "Glenelg",
           "House",
           694220.3232979905
          ],
          [
           "Parramatta",
           "Unit",
           552402.2460861128
          ],
          [
           "Perth Cbd",
           "House",
           819968.0364203707
          ],
          [
           "North Adelaide",
           "Unit",
           448038.3119460606
          ],
          [
           "Norwood",
           "House",
           701035.7937598581
          ],
          [
           "Brisbane Cbd",
           "Townhouse",
           381330.19911061774
          ],
          [
           "Fortitude Valley",
           "House",
           582253.6138409683
          ],
          [
           "Brighton",
           "House",
           843386.4750661995
          ],
          [
           "Perth Cbd",
           "House",
           623586.7805108968
          ],
          [
           "Richmond",
           "House",
           709098.1617468434
          ],
          [
           "Melbourne Cbd",
           "House",
           756643.6408273942
          ],
          [
           "Fortitude Valley",
           "House",
           868971.3992714655
          ],
          [
           "Unley",
           "Unit",
           364955.12129561824
          ],
          [
           "Adelaide Cbd",
           "House",
           649917.723386321
          ],
          [
           "Richmond",
           "House",
           561331.5390157237
          ],
          [
           "Manly",
           "Unit",
           494942.876482569
          ],
          [
           "Subiaco",
           "House",
           826098.3586551928
          ],
          [
           "Chatswood",
           "House",
           360089.9923548246
          ],
          [
           "Carlton",
           "House",
           1032191.2323803342
          ],
          [
           "Manly",
           "Unit",
           542536.0732135909
          ],
          [
           "Glenelg",
           "Unit",
           457540.8372747529
          ],
          [
           "Fremantle",
           "House",
           920574.9145515404
          ],
          [
           "Carlton",
           "Unit",
           422275.88174683234
          ],
          [
           "Sydney Cbd",
           "Unit",
           428743.48111794033
          ],
          [
           "Adelaide Cbd",
           "Unit",
           590594.7817905088
          ],
          [
           "Leederville",
           "Unit",
           431012.9891019767
          ],
          [
           "New Farm",
           "House",
           707371.3672854978
          ],
          [
           "Perth Cbd",
           "House",
           487305.4231222735
          ],
          [
           "New Farm",
           "House",
           681932.875296622
          ],
          [
           "Paddington",
           "House",
           437500.4967540688
          ],
          [
           "Parramatta",
           "House",
           437775.2980116904
          ],
          [
           "Melbourne Cbd",
           "Townhouse",
           683744.1542583809
          ],
          [
           "Subiaco",
           "House",
           677241.8881514141
          ],
          [
           "Cottesloe",
           "House",
           464322.7135917254
          ],
          [
           "Chatswood",
           "House",
           340036.6999061675
          ],
          [
           "Kangaroo Point",
           "Townhouse",
           561188.0211536246
          ],
          [
           "Norwood",
           "House",
           394164.88078819966
          ],
          [
           "Bondi",
           "House",
           584894.2377117588
          ],
          [
           "Brighton",
           "House",
           785398.8213959046
          ],
          [
           "Unley",
           "House",
           668030.7881908267
          ],
          [
           "Subiaco",
           "Townhouse",
           492324.00294531824
          ],
          [
           "New Farm",
           "Townhouse",
           489073.1387002567
          ],
          [
           "Chatswood",
           "House",
           544028.6732457372
          ],
          [
           "North Adelaide",
           "Townhouse",
           528720.6831144128
          ],
          [
           "Unley",
           "Unit",
           400995.52855180576
          ],
          [
           "Sydney Cbd",
           "Unit",
           621599.2364578701
          ],
          [
           "Glenelg",
           "House",
           747342.0119169228
          ],
          [
           "Sydney Cbd",
           "House",
           1109327.647303998
          ],
          [
           "Kangaroo Point",
           "Unit",
           485715.6457970805
          ],
          [
           "Fremantle",
           "House",
           636632.0674411494
          ],
          [
           "Brisbane Cbd",
           "House",
           660980.0219024685
          ],
          [
           "Adelaide Cbd",
           "House",
           641275.4261760481
          ],
          [
           "Norwood",
           "Unit",
           563681.4946081276
          ],
          [
           "Glenelg",
           "House",
           702511.8278041369
          ],
          [
           "Fremantle",
           "Unit",
           399607.53946144594
          ],
          [
           "New Farm",
           "Townhouse",
           440727.4358766135
          ],
          [
           "Sydney Cbd",
           "House",
           673873.7020919822
          ],
          [
           "Bondi",
           "Unit",
           530733.9809330537
          ],
          [
           "Carlton",
           "House",
           760703.9162221835
          ],
          [
           "Parramatta",
           "Unit",
           405694.77978413046
          ],
          [
           "Sydney Cbd",
           "House",
           685885.027345074
          ],
          [
           "Adelaide Cbd",
           "Unit",
           474073.1749516433
          ],
          [
           "Perth Cbd",
           "Unit",
           397067.64131627686
          ],
          [
           "North Adelaide",
           "Townhouse",
           514530.6870548198
          ],
          [
           "Melbourne Cbd",
           "Unit",
           555816.4957231273
          ],
          [
           "Fremantle",
           "House",
           741874.182161759
          ],
          [
           "Chatswood",
           "Unit",
           437447.7300061802
          ],
          [
           "Chatswood",
           "Unit",
           640182.1097459428
          ],
          [
           "Melbourne Cbd",
           "Unit",
           542990.4870320009
          ],
          [
           "Parramatta",
           "House",
           618114.3619740974
          ],
          [
           "Adelaide Cbd",
           "Townhouse",
           294951.2058468823
          ],
          [
           "North Adelaide",
           "Unit",
           447149.8962146785
          ],
          [
           "Chatswood",
           "Unit",
           416708.5083849807
          ],
          [
           "Adelaide Cbd",
           "House",
           703138.2396735292
          ],
          [
           "Chatswood",
           "Unit",
           474726.0263467397
          ],
          [
           "Brighton",
           "House",
           904348.2962146532
          ],
          [
           "Brighton",
           "Unit",
           289916.7064890523
          ],
          [
           "Cottesloe",
           "House",
           910258.9297151042
          ],
          [
           "Fremantle",
           "Unit",
           554083.064205349
          ],
          [
           "Adelaide Cbd",
           "Townhouse",
           511653.4058848916
          ],
          [
           "Paddington",
           "House",
           558047.3293738099
          ],
          [
           "Carlton",
           "Townhouse",
           623306.5705416127
          ],
          [
           "Paddington",
           "House",
           497755.8648301936
          ],
          [
           "Sydney Cbd",
           "Unit",
           558105.0271415735
          ],
          [
           "Cottesloe",
           "Unit",
           422883.356570538
          ],
          [
           "New Farm",
           "Unit",
           502076.7266134173
          ],
          [
           "New Farm",
           "Unit",
           639765.9240649866
          ],
          [
           "Manly",
           "Unit",
           502947.3387589613
          ],
          [
           "Sydney Cbd",
           "House",
           787100.2797583037
          ],
          [
           "Fremantle",
           "House",
           916115.9051039796
          ],
          [
           "Richmond",
           "Unit",
           460182.153049934
          ],
          [
           "Bondi",
           "Unit",
           467985.2033584474
          ],
          [
           "Richmond",
           "Unit",
           528878.3913079302
          ],
          [
           "St Kilda",
           "Unit",
           401331.6831408456
          ],
          [
           "Bondi",
           "House",
           814098.9848427676
          ],
          [
           "Glenelg",
           "Unit",
           316374.45500150765
          ],
          [
           "Glenelg",
           "House",
           1020378.4035183592
          ],
          [
           "Parramatta",
           "House",
           605556.6622880806
          ],
          [
           "Subiaco",
           "House",
           774655.3160902349
          ],
          [
           "Fortitude Valley",
           "House",
           809167.6578916362
          ],
          [
           "Sydney Cbd",
           "House",
           914839.865431382
          ],
          [
           "Glenelg",
           "House",
           414911.667243917
          ],
          [
           "Fortitude Valley",
           "Unit",
           481782.4184529202
          ],
          [
           "Chatswood",
           "House",
           730595.6541584365
          ],
          [
           "Norwood",
           "House",
           738696.2396946613
          ],
          [
           "Fremantle",
           "House",
           673682.9735804305
          ],
          [
           "Perth Cbd",
           "House",
           570403.7196761877
          ],
          [
           "Kangaroo Point",
           "House",
           821243.2809195691
          ],
          [
           "North Adelaide",
           "House",
           807322.9368715857
          ],
          [
           "Kangaroo Point",
           "Unit",
           485921.4771448281
          ],
          [
           "Chatswood",
           "Unit",
           468672.8702741545
          ],
          [
           "Adelaide Cbd",
           "Unit",
           480341.33808470407
          ],
          [
           "Paddington",
           "House",
           992328.0990238976
          ],
          [
           "Bondi",
           "House",
           856526.6291308093
          ],
          [
           "Brisbane Cbd",
           "Unit",
           475382.5327003672
          ],
          [
           "Cottesloe",
           "House",
           726629.2893308809
          ],
          [
           "St Kilda",
           "House",
           1024562.4298911076
          ],
          [
           "Melbourne Cbd",
           "House",
           634869.2220842402
          ],
          [
           "Bondi",
           "House",
           1031422.5330317764
          ],
          [
           "Melbourne Cbd",
           "House",
           670934.3058458819
          ],
          [
           "Subiaco",
           "House",
           518747.588582984
          ],
          [
           "Bondi",
           "Unit",
           537411.7786039558
          ],
          [
           "Subiaco",
           "House",
           783777.9720265408
          ],
          [
           "Kangaroo Point",
           "Unit",
           505743.8678609301
          ],
          [
           "Cottesloe",
           "Unit",
           552663.980247989
          ],
          [
           "Bondi",
           "Unit",
           291500.1844456756
          ],
          [
           "Leederville",
           "Unit",
           467907.4228338197
          ],
          [
           "Norwood",
           "Townhouse",
           689028.5097265441
          ],
          [
           "Melbourne Cbd",
           "House",
           837674.2836450703
          ],
          [
           "Sydney Cbd",
           "House",
           653418.871279868
          ],
          [
           "Unley",
           "House",
           1135999.4126827118
          ],
          [
           "Kangaroo Point",
           "Unit",
           357063.6124566075
          ],
          [
           "North Adelaide",
           "Unit",
           435910.628170862
          ],
          [
           "Brighton",
           "House",
           779490.683364667
          ],
          [
           "Cottesloe",
           "Townhouse",
           654877.2746575491
          ],
          [
           "Fremantle",
           "House",
           682456.000693943
          ],
          [
           "Chatswood",
           "Townhouse",
           460229.95550624526
          ],
          [
           "Manly",
           "House",
           552531.9058585229
          ],
          [
           "Brighton",
           "House",
           579438.6732477171
          ],
          [
           "Unley",
           "House",
           697714.6863414479
          ],
          [
           "Fremantle",
           "House",
           525399.1898259859
          ],
          [
           "Brighton",
           "House",
           475050.9432991322
          ],
          [
           "Fremantle",
           "House",
           980142.1203500422
          ],
          [
           "Leederville",
           "Unit",
           434505.2248933651
          ],
          [
           "Unley",
           "House",
           809230.8677231435
          ],
          [
           "Chatswood",
           "House",
           725359.8920437284
          ],
          [
           "Bondi",
           "Unit",
           424296.9733016562
          ],
          [
           "Melbourne Cbd",
           "Unit",
           423931.1183574108
          ],
          [
           "Adelaide Cbd",
           "House",
           438337.6551129011
          ],
          [
           "Bondi",
           "House",
           629171.4256333447
          ],
          [
           "New Farm",
           "House",
           851880.6925617855
          ],
          [
           "Brisbane Cbd",
           "House",
           447363.0113511101
          ],
          [
           "Brisbane Cbd",
           "Unit",
           389746.6167794279
          ],
          [
           "Perth Cbd",
           "House",
           974560.2337464882
          ],
          [
           "Brisbane Cbd",
           "House",
           701466.7369550108
          ],
          [
           "Cottesloe",
           "Unit",
           494779.1040102626
          ],
          [
           "Norwood",
           "Unit",
           358837.2573727945
          ],
          [
           "North Adelaide",
           "House",
           834478.0236104897
          ],
          [
           "North Adelaide",
           "Townhouse",
           546408.5174882484
          ],
          [
           "Perth Cbd",
           "House",
           637046.6679459551
          ],
          [
           "Glenelg",
           "Unit",
           575288.3935767498
          ],
          [
           "Perth Cbd",
           "House",
           763763.5012927493
          ],
          [
           "Richmond",
           "Unit",
           380193.7379521336
          ],
          [
           "Manly",
           "Townhouse",
           605025.0913904718
          ],
          [
           "Richmond",
           "Unit",
           430400.1994279192
          ],
          [
           "Manly",
           "Unit",
           407582.41903143935
          ],
          [
           "Unley",
           "Unit",
           480683.1048164919
          ],
          [
           "Norwood",
           "House",
           426415.0568262056
          ],
          [
           "Parramatta",
           "House",
           1078716.0379749
          ],
          [
           "Parramatta",
           "Unit",
           467355.1308889517
          ],
          [
           "Subiaco",
           "House",
           611041.4779143438
          ],
          [
           "Cottesloe",
           "Unit",
           339933.4979578254
          ],
          [
           "Cottesloe",
           "Townhouse",
           823530.5756109622
          ],
          [
           "Adelaide Cbd",
           "House",
           754404.9136760178
          ],
          [
           "Chatswood",
           "House",
           689968.439388134
          ],
          [
           "Subiaco",
           "Unit",
           324671.5535596491
          ],
          [
           "Brighton",
           "House",
           351950.95039002056
          ],
          [
           "Glenelg",
           "Unit",
           437788.1116147831
          ],
          [
           "Adelaide Cbd",
           "House",
           620093.5795945589
          ],
          [
           "Melbourne Cbd",
           "Unit",
           474748.7573200223
          ],
          [
           "Sydney Cbd",
           "House",
           534432.125417341
          ],
          [
           "Chatswood",
           "Unit",
           502898.5106411191
          ],
          [
           "Fortitude Valley",
           "Unit",
           554595.76810566
          ],
          [
           "Paddington",
           "House",
           1064284.5940377514
          ],
          [
           "Bondi",
           "Unit",
           423165.5795349329
          ],
          [
           "Fremantle",
           "Unit",
           509665.5079420342
          ],
          [
           "Paddington",
           "House",
           453624.8113803165
          ],
          [
           "New Farm",
           "House",
           681180.0630489829
          ],
          [
           "Carlton",
           "House",
           878189.6094064764
          ],
          [
           "Norwood",
           "Unit",
           405310.9514141039
          ],
          [
           "Kangaroo Point",
           "Unit",
           633514.9633318839
          ],
          [
           "Norwood",
           "House",
           653768.0992005293
          ],
          [
           "Glenelg",
           "House",
           648997.7271486277
          ],
          [
           "Unley",
           "Unit",
           622198.6624930046
          ],
          [
           "Brisbane Cbd",
           "House",
           727674.4315185581
          ],
          [
           "Perth Cbd",
           "Townhouse",
           607494.954172673
          ],
          [
           "Fremantle",
           "House",
           879317.6388511294
          ],
          [
           "Manly",
           "Unit",
           320135.0179067338
          ],
          [
           "Sydney Cbd",
           "House",
           1070002.446635211
          ],
          [
           "Richmond",
           "House",
           345135.4835028368
          ],
          [
           "Fremantle",
           "Unit",
           457641.91143499885
          ],
          [
           "Parramatta",
           "Unit",
           688711.9196207313
          ],
          [
           "Leederville",
           "Townhouse",
           497437.7262467286
          ],
          [
           "Kangaroo Point",
           "House",
           480758.1909390038
          ],
          [
           "Kangaroo Point",
           "House",
           758085.8983788886
          ],
          [
           "Unley",
           "Unit",
           442617.5778291747
          ],
          [
           "Glenelg",
           "Unit",
           655665.1980757192
          ],
          [
           "Paddington",
           "House",
           654082.1083368903
          ],
          [
           "North Adelaide",
           "House",
           562109.8343807858
          ],
          [
           "Paddington",
           "House",
           416372.3473280791
          ],
          [
           "Unley",
           "Unit",
           434164.4461570816
          ],
          [
           "Bondi",
           "House",
           556824.5085538793
          ],
          [
           "New Farm",
           "House",
           381350.229803535
          ],
          [
           "Paddington",
           "House",
           934060.6117727052
          ],
          [
           "Unley",
           "House",
           950509.5807132452
          ],
          [
           "Cottesloe",
           "House",
           462426.6626021346
          ],
          [
           "St Kilda",
           "House",
           860016.5564674367
          ],
          [
           "Parramatta",
           "House",
           414914.1054270685
          ],
          [
           "Kangaroo Point",
           "Unit",
           326006.81860547647
          ],
          [
           "North Adelaide",
           "House",
           1117109.7803849005
          ],
          [
           "Paddington",
           "House",
           612961.5656945445
          ],
          [
           "Brisbane Cbd",
           "Unit",
           443976.21362359694
          ],
          [
           "Kangaroo Point",
           "Unit",
           304972.5987225146
          ],
          [
           "New Farm",
           "House",
           406955.3554789768
          ],
          [
           "Subiaco",
           "House",
           655222.5334431741
          ],
          [
           "Melbourne Cbd",
           "House",
           540040.5124078711
          ],
          [
           "Parramatta",
           "Unit",
           421179.0995245812
          ],
          [
           "Cottesloe",
           "Townhouse",
           731641.2278823351
          ],
          [
           "Kangaroo Point",
           "Unit",
           478203.3630574733
          ],
          [
           "Norwood",
           "Unit",
           476698.0773654658
          ],
          [
           "North Adelaide",
           "Unit",
           359479.3510682572
          ],
          [
           "Chatswood",
           "House",
           1126732.6849870377
          ],
          [
           "Brighton",
           "House",
           605811.5270213225
          ],
          [
           "St Kilda",
           "Unit",
           368231.2396939831
          ],
          [
           "Norwood",
           "Townhouse",
           642451.2532985708
          ],
          [
           "Fremantle",
           "House",
           723450.6887307081
          ],
          [
           "St Kilda",
           "Unit",
           529803.4446908905
          ],
          [
           "Glenelg",
           "House",
           584418.4359971196
          ],
          [
           "Fortitude Valley",
           "House",
           1043291.731528724
          ],
          [
           "Norwood",
           "House",
           872043.8610222888
          ],
          [
           "Fremantle",
           "House",
           828667.2346086672
          ],
          [
           "New Farm",
           "Unit",
           524326.4217862772
          ],
          [
           "Leederville",
           "House",
           717013.0556452028
          ],
          [
           "Norwood",
           "Unit",
           485712.1682553062
          ],
          [
           "Manly",
           "Unit",
           296375.5212111985
          ],
          [
           "Brighton",
           "Townhouse",
           739054.774233959
          ],
          [
           "Parramatta",
           "House",
           924820.0563745316
          ],
          [
           "Carlton",
           "House",
           1033108.1304455692
          ],
          [
           "New Farm",
           "House",
           645359.7509732443
          ],
          [
           "Subiaco",
           "Townhouse",
           654023.9238879277
          ],
          [
           "Kangaroo Point",
           "Townhouse",
           1060410.8735145982
          ],
          [
           "Manly",
           "House",
           709113.420324294
          ],
          [
           "Kangaroo Point",
           "Unit",
           435703.0232422909
          ],
          [
           "Glenelg",
           "House",
           618259.9405502911
          ],
          [
           "Bondi",
           "Unit",
           542725.2117231699
          ],
          [
           "Kangaroo Point",
           "House",
           660707.5731839779
          ],
          [
           "Richmond",
           "Unit",
           401337.5740158375
          ],
          [
           "Richmond",
           "House",
           985042.2275437984
          ],
          [
           "Fremantle",
           "Unit",
           396811.74536761706
          ],
          [
           "Fortitude Valley",
           "Unit",
           591967.4074855013
          ],
          [
           "Cottesloe",
           "Unit",
           666065.8264206358
          ],
          [
           "Brighton",
           "House",
           629498.3364663834
          ],
          [
           "Carlton",
           "House",
           774674.3485011858
          ],
          [
           "Chatswood",
           "House",
           771865.4775173692
          ],
          [
           "Melbourne Cbd",
           "House",
           394467.3350185901
          ],
          [
           "Leederville",
           "House",
           448705.1886434959
          ],
          [
           "Bondi",
           "Townhouse",
           495609.99524989695
          ],
          [
           "Unley",
           "Unit",
           716719.301557589
          ],
          [
           "New Farm",
           "House",
           759949.2578835709
          ],
          [
           "Melbourne Cbd",
           "House",
           610083.4524662717
          ],
          [
           "Chatswood",
           "House",
           999382.7594463112
          ],
          [
           "Norwood",
           "Unit",
           475082.837770323
          ],
          [
           "Sydney Cbd",
           "House",
           872034.691854289
          ],
          [
           "Adelaide Cbd",
           "Townhouse",
           472892.7310285277
          ],
          [
           "Glenelg",
           "House",
           659425.4011807201
          ],
          [
           "Adelaide Cbd",
           "Townhouse",
           767372.6588068609
          ]
         ],
         "hovertemplate": "price=%{marker.color}<br>latitude=%{lat}<br>longitude=%{lon}<br>suburb=%{customdata[0]}<br>property_type=%{customdata[1]}<extra></extra>",
         "lat": {
          "bdata": "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",
          "dtype": "f8"
         },
         "legendgroup": "",
         "lon": {
          "bdata": "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",
          "dtype": "f8"
         },
         "marker": {
          "color": {
           "bdata": "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",
           "dtype": "f8"
          },
          "coloraxis": "coloraxis",
          "size": {
           "bdata": "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",
           "dtype": "f8"
          },
          "sizemode": "area",
          "sizeref": 5169.051939731241
         },
         "mode": "markers",
         "name": "",
         "showlegend": false,
         "subplot": "mapbox",
         "type": "scattermapbox"
        }
       ],
       "layout": {
        "coloraxis": {
         "colorbar": {
          "title": {
           "text": "price"
          }
         },
         "colorscale": [
          [
           0,
           "rgb(49,54,149)"
          ],
          [
           0.1,
           "rgb(69,117,180)"
          ],
          [
           0.2,
           "rgb(116,173,209)"
          ],
          [
           0.3,
           "rgb(171,217,233)"
          ],
          [
           0.4,
           "rgb(224,243,248)"
          ],
          [
           0.5,
           "rgb(255,255,191)"
          ],
          [
           0.6,
           "rgb(254,224,144)"
          ],
          [
           0.7,
           "rgb(253,174,97)"
          ],
          [
           0.8,
           "rgb(244,109,67)"
          ],
          [
           0.9,
           "rgb(215,48,39)"
          ],
          [
           1,
           "rgb(165,0,38)"
          ]
         ]
        },
        "height": 600,
        "legend": {
         "itemsizing": "constant",
         "tracegroupgap": 0
        },
        "mapbox": {
         "center": {
          "lat": -25.2744,
          "lon": 133.7751
         },
         "domain": {
          "x": [
           0,
           1
          ],
          "y": [
           0,
           1
          ]
         },
         "style": "open-street-map",
         "zoom": 4
        },
        "template": {
         "data": {
          "bar": [
           {
            "error_x": {
             "color": "#2a3f5f"
            },
            "error_y": {
             "color": "#2a3f5f"
            },
            "marker": {
             "line": {
              "color": "#E5ECF6",
              "width": 0.5
             },
             "pattern": {
              "fillmode": "overlay",
              "size": 10,
              "solidity": 0.2
             }
            },
            "type": "bar"
           }
          ],
          "barpolar": [
           {
            "marker": {
             "line": {
              "color": "#E5ECF6",
              "width": 0.5
             },
             "pattern": {
              "fillmode": "overlay",
              "size": 10,
              "solidity": 0.2
             }
            },
            "type": "barpolar"
           }
          ],
          "carpet": [
           {
            "aaxis": {
             "endlinecolor": "#2a3f5f",
             "gridcolor": "white",
             "linecolor": "white",
             "minorgridcolor": "white",
             "startlinecolor": "#2a3f5f"
            },
            "baxis": {
             "endlinecolor": "#2a3f5f",
             "gridcolor": "white",
             "linecolor": "white",
             "minorgridcolor": "white",
             "startlinecolor": "#2a3f5f"
            },
            "type": "carpet"
           }
          ],
          "choropleth": [
           {
            "colorbar": {
             "outlinewidth": 0,
             "ticks": ""
            },
            "type": "choropleth"
           }
          ],
          "contour": [
           {
            "colorbar": {
             "outlinewidth": 0,
             "ticks": ""
            },
            "colorscale": [
             [
              0,
              "#0d0887"
             ],
             [
              0.1111111111111111,
              "#46039f"
             ],
             [
              0.2222222222222222,
              "#7201a8"
             ],
             [
              0.3333333333333333,
              "#9c179e"
             ],
             [
              0.4444444444444444,
              "#bd3786"
             ],
             [
              0.5555555555555556,
              "#d8576b"
             ],
             [
              0.6666666666666666,
              "#ed7953"
             ],
             [
              0.7777777777777778,
              "#fb9f3a"
             ],
             [
              0.8888888888888888,
              "#fdca26"
             ],
             [
              1,
              "#f0f921"
             ]
            ],
            "type": "contour"
           }
          ],
          "contourcarpet": [
           {
            "colorbar": {
             "outlinewidth": 0,
             "ticks": ""
            },
            "type": "contourcarpet"
           }
          ],
          "heatmap": [
           {
            "colorbar": {
             "outlinewidth": 0,
             "ticks": ""
            },
            "colorscale": [
             [
              0,
              "#0d0887"
             ],
             [
              0.1111111111111111,
              "#46039f"
             ],
             [
              0.2222222222222222,
              "#7201a8"
             ],
             [
              0.3333333333333333,
              "#9c179e"
             ],
             [
              0.4444444444444444,
              "#bd3786"
             ],
             [
              0.5555555555555556,
              "#d8576b"
             ],
             [
              0.6666666666666666,
              "#ed7953"
             ],
             [
              0.7777777777777778,
              "#fb9f3a"
             ],
             [
              0.8888888888888888,
              "#fdca26"
             ],
             [
              1,
              "#f0f921"
             ]
            ],
            "type": "heatmap"
           }
          ],
          "histogram": [
           {
            "marker": {
             "pattern": {
              "fillmode": "overlay",
              "size": 10,
              "solidity": 0.2
             }
            },
            "type": "histogram"
           }
          ],
          "histogram2d": [
           {
            "colorbar": {
             "outlinewidth": 0,
             "ticks": ""
            },
            "colorscale": [
             [
              0,
              "#0d0887"
             ],
             [
              0.1111111111111111,
              "#46039f"
             ],
             [
              0.2222222222222222,
              "#7201a8"
             ],
             [
              0.3333333333333333,
              "#9c179e"
             ],
             [
              0.4444444444444444,
              "#bd3786"
             ],
             [
              0.5555555555555556,
              "#d8576b"
             ],
             [
              0.6666666666666666,
              "#ed7953"
             ],
             [
              0.7777777777777778,
              "#fb9f3a"
             ],
             [
              0.8888888888888888,
              "#fdca26"
             ],
             [
              1,
              "#f0f921"
             ]
            ],
            "type": "histogram2d"
           }
          ],
          "histogram2dcontour": [
           {
            "colorbar": {
             "outlinewidth": 0,
             "ticks": ""
            },
            "colorscale": [
             [
              0,
              "#0d0887"
             ],
             [
              0.1111111111111111,
              "#46039f"
             ],
             [
              0.2222222222222222,
              "#7201a8"
             ],
             [
              0.3333333333333333,
              "#9c179e"
             ],
             [
              0.4444444444444444,
              "#bd3786"
             ],
             [
              0.5555555555555556,
              "#d8576b"
             ],
             [
              0.6666666666666666,
              "#ed7953"
             ],
             [
              0.7777777777777778,
              "#fb9f3a"
             ],
             [
              0.8888888888888888,
              "#fdca26"
             ],
             [
              1,
              "#f0f921"
             ]
            ],
            "type": "histogram2dcontour"
           }
          ],
          "mesh3d": [
           {
            "colorbar": {
             "outlinewidth": 0,
             "ticks": ""
            },
            "type": "mesh3d"
           }
          ],
          "parcoords": [
           {
            "line": {
             "colorbar": {
              "outlinewidth": 0,
              "ticks": ""
             }
            },
            "type": "parcoords"
           }
          ],
          "pie": [
           {
            "automargin": true,
            "type": "pie"
           }
          ],
          "scatter": [
           {
            "fillpattern": {
             "fillmode": "overlay",
             "size": 10,
             "solidity": 0.2
            },
            "type": "scatter"
           }
          ],
          "scatter3d": [
           {
            "line": {
             "colorbar": {
              "outlinewidth": 0,
              "ticks": ""
             }
            },
            "marker": {
             "colorbar": {
              "outlinewidth": 0,
              "ticks": ""
             }
            },
            "type": "scatter3d"
           }
          ],
          "scattercarpet": [
           {
            "marker": {
             "colorbar": {
              "outlinewidth": 0,
              "ticks": ""
             }
            },
            "type": "scattercarpet"
           }
          ],
          "scattergeo": [
           {
            "marker": {
             "colorbar": {
              "outlinewidth": 0,
              "ticks": ""
             }
            },
            "type": "scattergeo"
           }
          ],
          "scattergl": [
           {
            "marker": {
             "colorbar": {
              "outlinewidth": 0,
              "ticks": ""
             }
            },
            "type": "scattergl"
           }
          ],
          "scattermap": [
           {
            "marker": {
             "colorbar": {
              "outlinewidth": 0,
              "ticks": ""
             }
            },
            "type": "scattermap"
           }
          ],
          "scattermapbox": [
           {
            "marker": {
             "colorbar": {
              "outlinewidth": 0,
              "ticks": ""
             }
            },
            "type": "scattermapbox"
           }
          ],
          "scatterpolar": [
           {
            "marker": {
             "colorbar": {
              "outlinewidth": 0,
              "ticks": ""
             }
            },
            "type": "scatterpolar"
           }
          ],
          "scatterpolargl": [
           {
            "marker": {
             "colorbar": {
              "outlinewidth": 0,
              "ticks": ""
             }
            },
            "type": "scatterpolargl"
           }
          ],
          "scatterternary": [
           {
            "marker": {
             "colorbar": {
              "outlinewidth": 0,
              "ticks": ""
             }
            },
            "type": "scatterternary"
           }
          ],
          "surface": [
           {
            "colorbar": {
             "outlinewidth": 0,
             "ticks": ""
            },
            "colorscale": [
             [
              0,
              "#0d0887"
             ],
             [
              0.1111111111111111,
              "#46039f"
             ],
             [
              0.2222222222222222,
              "#7201a8"
             ],
             [
              0.3333333333333333,
              "#9c179e"
             ],
             [
              0.4444444444444444,
              "#bd3786"
             ],
             [
              0.5555555555555556,
              "#d8576b"
             ],
             [
              0.6666666666666666,
              "#ed7953"
             ],
             [
              0.7777777777777778,
              "#fb9f3a"
             ],
             [
              0.8888888888888888,
              "#fdca26"
             ],
             [
              1,
              "#f0f921"
             ]
            ],
            "type": "surface"
           }
          ],
          "table": [
           {
            "cells": {
             "fill": {
              "color": "#EBF0F8"
             },
             "line": {
              "color": "white"
             }
            },
            "header": {
             "fill": {
              "color": "#C8D4E3"
             },
             "line": {
              "color": "white"
             }
            },
            "type": "table"
           }
          ]
         },
         "layout": {
          "annotationdefaults": {
           "arrowcolor": "#2a3f5f",
           "arrowhead": 0,
           "arrowwidth": 1
          },
          "autotypenumbers": "strict",
          "coloraxis": {
           "colorbar": {
            "outlinewidth": 0,
            "ticks": ""
           }
          },
          "colorscale": {
           "diverging": [
            [
             0,
             "#8e0152"
            ],
            [
             0.1,
             "#c51b7d"
            ],
            [
             0.2,
             "#de77ae"
            ],
            [
             0.3,
             "#f1b6da"
            ],
            [
             0.4,
             "#fde0ef"
            ],
            [
             0.5,
             "#f7f7f7"
            ],
            [
             0.6,
             "#e6f5d0"
            ],
            [
             0.7,
             "#b8e186"
            ],
            [
             0.8,
             "#7fbc41"
            ],
            [
             0.9,
             "#4d9221"
            ],
            [
             1,
             "#276419"
            ]
           ],
           "sequential": [
            [
             0,
             "#0d0887"
            ],
            [
             0.1111111111111111,
             "#46039f"
            ],
            [
             0.2222222222222222,
             "#7201a8"
            ],
            [
             0.3333333333333333,
             "#9c179e"
            ],
            [
             0.4444444444444444,
             "#bd3786"
            ],
            [
             0.5555555555555556,
             "#d8576b"
            ],
            [
             0.6666666666666666,
             "#ed7953"
            ],
            [
             0.7777777777777778,
             "#fb9f3a"
            ],
            [
             0.8888888888888888,
             "#fdca26"
            ],
            [
             1,
             "#f0f921"
            ]
           ],
           "sequentialminus": [
            [
             0,
             "#0d0887"
            ],
            [
             0.1111111111111111,
             "#46039f"
            ],
            [
             0.2222222222222222,
             "#7201a8"
            ],
            [
             0.3333333333333333,
             "#9c179e"
            ],
            [
             0.4444444444444444,
             "#bd3786"
            ],
            [
             0.5555555555555556,
             "#d8576b"
            ],
            [
             0.6666666666666666,
             "#ed7953"
            ],
            [
             0.7777777777777778,
             "#fb9f3a"
            ],
            [
             0.8888888888888888,
             "#fdca26"
            ],
            [
             1,
             "#f0f921"
            ]
           ]
          },
          "colorway": [
           "#636efa",
           "#EF553B",
           "#00cc96",
           "#ab63fa",
           "#FFA15A",
           "#19d3f3",
           "#FF6692",
           "#B6E880",
           "#FF97FF",
           "#FECB52"
          ],
          "font": {
           "color": "#2a3f5f"
          },
          "geo": {
           "bgcolor": "white",
           "lakecolor": "white",
           "landcolor": "#E5ECF6",
           "showlakes": true,
           "showland": true,
           "subunitcolor": "white"
          },
          "hoverlabel": {
           "align": "left"
          },
          "hovermode": "closest",
          "mapbox": {
           "style": "light"
          },
          "paper_bgcolor": "white",
          "plot_bgcolor": "#E5ECF6",
          "polar": {
           "angularaxis": {
            "gridcolor": "white",
            "linecolor": "white",
            "ticks": ""
           },
           "bgcolor": "#E5ECF6",
           "radialaxis": {
            "gridcolor": "white",
            "linecolor": "white",
            "ticks": ""
           }
          },
          "scene": {
           "xaxis": {
            "backgroundcolor": "#E5ECF6",
            "gridcolor": "white",
            "gridwidth": 2,
            "linecolor": "white",
            "showbackground": true,
            "ticks": "",
            "zerolinecolor": "white"
           },
           "yaxis": {
            "backgroundcolor": "#E5ECF6",
            "gridcolor": "white",
            "gridwidth": 2,
            "linecolor": "white",
            "showbackground": true,
            "ticks": "",
            "zerolinecolor": "white"
           },
           "zaxis": {
            "backgroundcolor": "#E5ECF6",
            "gridcolor": "white",
            "gridwidth": 2,
            "linecolor": "white",
            "showbackground": true,
            "ticks": "",
            "zerolinecolor": "white"
           }
          },
          "shapedefaults": {
           "line": {
            "color": "#2a3f5f"
           }
          },
          "ternary": {
           "aaxis": {
            "gridcolor": "white",
            "linecolor": "white",
            "ticks": ""
           },
           "baxis": {
            "gridcolor": "white",
            "linecolor": "white",
            "ticks": ""
           },
           "bgcolor": "#E5ECF6",
           "caxis": {
            "gridcolor": "white",
            "linecolor": "white",
            "ticks": ""
           }
          },
          "title": {
           "x": 0.05
          },
          "xaxis": {
           "automargin": true,
           "gridcolor": "white",
           "linecolor": "white",
           "ticks": "",
           "title": {
            "standoff": 15
           },
           "zerolinecolor": "white",
           "zerolinewidth": 2
          },
          "yaxis": {
           "automargin": true,
           "gridcolor": "white",
           "linecolor": "white",
           "ticks": "",
           "title": {
            "standoff": 15
           },
           "zerolinecolor": "white",
           "zerolinewidth": 2
          }
         }
        },
        "title": {
         "text": "Property Prices Across Australia<br>Data Period: December 2024 | Analysis: 2025-07-08"
        }
       }
      }
     },
     "metadata": {},
     "output_type": "display_data"
    },
    {
     "name": "stdout",
     "output_type": "stream",
     "text": [
      "✅ Interactive Plotly visualizations created\n",
      "📅 Data period: December 2024\n",
      "🎯 Hover over points for detailed information\n"
     ]
    }
   ],
   "source": [
    "if plotly_available:\n",
    "    print(\"📊 Creating interactive Plotly heat maps...\")\n",
    "    \n",
    "    # 1. Interactive heat map\n",
    "    fig1 = px.imshow(\n",
    "        pivot_data.values,\n",
    "        labels=dict(x=\"Property Type\", y=\"City\", color=\"Median Price ($)\"),\n",
    "        x=pivot_data.columns,\n",
    "        y=pivot_data.index,\n",
    "        color_continuous_scale='RdYlBu_r',\n",
    "        aspect=\"auto\",\n",
    "        title=f\"Interactive Property Price Heat Map<br>Data Period: {CONFIG['DATA_PERIOD']} | Analysis: {ANALYSIS_DATE}\"\n",
    "    )\n",
    "    \n",
    "    fig1.update_layout(\n",
    "        title_font_size=16,\n",
    "        xaxis_title_font_size=14,\n",
    "        yaxis_title_font_size=14,\n",
    "        height=500\n",
    "    )\n",
    "    \n",
    "    fig1.show()\n",
    "    \n",
    "    # 2. 3D Surface plot\n",
    "    # Create a numeric encoding for categorical data\n",
    "    city_codes = {city: i for i, city in enumerate(pivot_data.index)}\n",
    "    type_codes = {ptype: i for i, ptype in enumerate(pivot_data.columns)}\n",
    "    \n",
    "    fig2 = go.Figure(data=[go.Surface(\n",
    "        z=pivot_data.values,\n",
    "        x=list(range(len(pivot_data.columns))),\n",
    "        y=list(range(len(pivot_data.index))),\n",
    "        colorscale='RdYlBu_r',\n",
    "        colorbar=dict(title=\"Price ($)\")\n",
    "    )])\n",
    "    \n",
    "    fig2.update_layout(\n",
    "        title=f'3D Property Price Surface<br>Data Period: {CONFIG[\"DATA_PERIOD\"]}',\n",
    "        scene=dict(\n",
    "            xaxis_title='Property Type',\n",
    "            yaxis_title='City',\n",
    "            zaxis_title='Median Price ($)',\n",
    "            xaxis=dict(\n",
    "                tickmode='array',\n",
    "                tickvals=list(range(len(pivot_data.columns))),\n",
    "                ticktext=list(pivot_data.columns)\n",
    "            ),\n",
    "            yaxis=dict(\n",
    "                tickmode='array',\n",
    "                tickvals=list(range(len(pivot_data.index))),\n",
    "                ticktext=list(pivot_data.index)\n",
    "            )\n",
    "        ),\n",
    "        width=800,\n",
    "        height=600\n",
    "    )\n",
    "    \n",
    "    fig2.show()\n",
    "    \n",
    "    # 3. Geographic scatter plot\n",
    "    fig3 = px.scatter_mapbox(\n",
    "        clean_data,\n",
    "        lat=\"latitude\",\n",
    "        lon=\"longitude\",\n",
    "        color=\"price\",\n",
    "        size=\"price\",\n",
    "        hover_data=[\"suburb\", \"property_type\", \"price\"],\n",
    "        color_continuous_scale=\"RdYlBu_r\",\n",
    "        size_max=15,\n",
    "        zoom=4,\n",
    "        mapbox_style=\"open-street-map\",\n",
    "        title=f\"Property Prices Across Australia<br>Data Period: {CONFIG['DATA_PERIOD']} | Analysis: {ANALYSIS_DATE}\"\n",
    "    )\n",
    "    \n",
    "    fig3.update_layout(\n",
    "        mapbox=dict(\n",
    "            center=dict(lat=-25.2744, lon=133.7751),\n",
    "        ),\n",
    "        height=600\n",
    "    )\n",
    "    \n",
    "    fig3.show()\n",
    "    \n",
    "    print(f\"✅ Interactive Plotly visualizations created\")\n",
    "    print(f\"📅 Data period: {CONFIG['DATA_PERIOD']}\")\n",
    "    print(f\"🎯 Hover over points for detailed information\")\n",
    "    \n",
    "else:\n",
    "    print(\"⚠️ Plotly not available. Install with: pip install plotly\")\n",
    "    print(\"📊 Using matplotlib alternatives created above\")"
   ]
  },
  {
   "cell_type": "markdown",
   "id": "acf1d08e",
   "metadata": {},
   "source": [
    "## 4. Summary Statistics with Timestamps"
   ]
  },
  {
   "cell_type": "code",
   "execution_count": 33,
   "id": "48011a56",
   "metadata": {},
   "outputs": [
    {
     "name": "stdout",
     "output_type": "stream",
     "text": [
      "📝 PROPERTY PRICE HEAT MAP ANALYSIS SUMMARY\n",
      "============================================================\n",
      "\n",
      "📅 DATA PERIOD & TIMESTAMPS\n",
      "Baseline data period: December 2024\n",
      "Analysis conducted: 2025-07-08\n",
      "Data source: Synthetic data based on real market patterns\n",
      "Geographic coverage: Australia (5 major cities, 25 suburbs)\n",
      "\n",
      "📊 DATASET OVERVIEW\n",
      "Total properties analyzed: 980\n",
      "Cities covered: 5\n",
      "Suburbs covered: 25\n",
      "Property types: 3\n",
      "\n",
      "💰 PRICE ANALYSIS (December 2024)\n",
      "Overall median price: $578,409\n",
      "Overall mean price: $602,441\n",
      "Price range: $275,129 - $1,163,037\n",
      "Standard deviation: $182,114\n",
      "\n",
      "🏆 TOP 5 CITIES BY MEDIAN PRICE (December 2024)\n",
      "1. Melbourne: $597,097\n",
      "2. Perth: $588,160\n",
      "3. Adelaide: $577,451\n",
      "4. Brisbane: $564,655\n",
      "5. Sydney: $540,833\n",
      "\n",
      "🏠 PRICE BY PROPERTY TYPE (December 2024)\n",
      "House: $671,234 (n=530)\n",
      "Townhouse: $535,712 (n=99)\n",
      "Unit: $468,673 (n=351)\n",
      "\n",
      "📈 PRICE DISTRIBUTION (December 2024)\n",
      "$500K-750K: 450 properties (45.9%)\n",
      "<$500K: 332 properties (33.9%)\n",
      "$750K-1M: 161 properties (16.4%)\n",
      "$1M-1.5M: 37 properties (3.8%)\n",
      "$1.5M-2M: 0 properties (0.0%)\n",
      ">$2M: 0 properties (0.0%)\n",
      "\n",
      "🗺️ GEOGRAPHIC INSIGHTS (December 2024)\n",
      "Latitude range: -34.520° to -33.214°\n",
      "Longitude range: 150.502° to 151.776°\n",
      "\n",
      "Most expensive suburb: Subiaco ($642,547)\n",
      "Most affordable suburb: Manly ($502,947)\n",
      "\n",
      "📊 HEAT MAP VISUALIZATIONS CREATED\n",
      "✅ Basic city/property type heat map\n",
      "✅ Detailed suburb-level heat map\n",
      "✅ Interactive geographic heat map (Folium)\n",
      "✅ Interactive Plotly visualizations\n",
      "\n",
      "⚠️ DATA DISCLAIMER\n",
      "This analysis uses synthetic data based on December 2024 Australian market patterns.\n",
      "Actual current market prices may differ. For real-time data, consult official sources.\n"
     ]
    }
   ],
   "source": [
    "# Comprehensive summary with timestamp information\n",
    "print(\"📝 PROPERTY PRICE HEAT MAP ANALYSIS SUMMARY\")\n",
    "print(\"=\" * 60)\n",
    "\n",
    "print(f\"\\n📅 DATA PERIOD & TIMESTAMPS\")\n",
    "print(f\"Baseline data period: {CONFIG['DATA_PERIOD']}\")\n",
    "print(f\"Analysis conducted: {ANALYSIS_DATE}\")\n",
    "print(f\"Data source: Synthetic data based on real market patterns\")\n",
    "print(f\"Geographic coverage: Australia (5 major cities, 25 suburbs)\")\n",
    "\n",
    "print(f\"\\n📊 DATASET OVERVIEW\")\n",
    "print(f\"Total properties analyzed: {len(clean_data):,}\")\n",
    "print(f\"Cities covered: {clean_data['city'].nunique()}\")\n",
    "print(f\"Suburbs covered: {clean_data['suburb'].nunique()}\")\n",
    "print(f\"Property types: {clean_data['property_type'].nunique()}\")\n",
    "\n",
    "print(f\"\\n💰 PRICE ANALYSIS ({CONFIG['DATA_PERIOD']})\")\n",
    "print(f\"Overall median price: ${clean_data['price'].median():,.0f}\")\n",
    "print(f\"Overall mean price: ${clean_data['price'].mean():,.0f}\")\n",
    "print(f\"Price range: ${clean_data['price'].min():,.0f} - ${clean_data['price'].max():,.0f}\")\n",
    "print(f\"Standard deviation: ${clean_data['price'].std():,.0f}\")\n",
    "\n",
    "print(f\"\\n🏆 TOP 5 CITIES BY MEDIAN PRICE ({CONFIG['DATA_PERIOD']})\")\n",
    "city_medians = clean_data.groupby('city')['price'].median().sort_values(ascending=False)\n",
    "for i, (city, price) in enumerate(city_medians.items(), 1):\n",
    "    print(f\"{i}. {city}: ${price:,.0f}\")\n",
    "\n",
    "print(f\"\\n🏠 PRICE BY PROPERTY TYPE ({CONFIG['DATA_PERIOD']})\")\n",
    "type_medians = clean_data.groupby('property_type')['price'].median().sort_values(ascending=False)\n",
    "for ptype, price in type_medians.items():\n",
    "    count = clean_data[clean_data['property_type'] == ptype].shape[0]\n",
    "    print(f\"{ptype}: ${price:,.0f} (n={count:,})\")\n",
    "\n",
    "print(f\"\\n📈 PRICE DISTRIBUTION ({CONFIG['DATA_PERIOD']})\")\n",
    "price_dist = clean_data['price_category'].value_counts()\n",
    "for category, count in price_dist.items():\n",
    "    percentage = (count / len(clean_data)) * 100\n",
    "    print(f\"{category}: {count:,} properties ({percentage:.1f}%)\")\n",
    "\n",
    "print(f\"\\n🗺️ GEOGRAPHIC INSIGHTS ({CONFIG['DATA_PERIOD']})\")\n",
    "print(f\"Latitude range: {clean_data['latitude'].min():.3f}° to {clean_data['latitude'].max():.3f}°\")\n",
    "print(f\"Longitude range: {clean_data['longitude'].min():.3f}° to {clean_data['longitude'].max():.3f}°\")\n",
    "\n",
    "# Most and least expensive suburbs\n",
    "suburb_medians = clean_data.groupby('suburb')['price'].median().sort_values(ascending=False)\n",
    "print(f\"\\nMost expensive suburb: {suburb_medians.index[0]} (${suburb_medians.iloc[0]:,.0f})\")\n",
    "print(f\"Most affordable suburb: {suburb_medians.index[-1]} (${suburb_medians.iloc[-1]:,.0f})\")\n",
    "\n",
    "print(f\"\\n📊 HEAT MAP VISUALIZATIONS CREATED\")\n",
    "print(f\"✅ Basic city/property type heat map\")\n",
    "print(f\"✅ Detailed suburb-level heat map\")\n",
    "if folium_available:\n",
    "    print(f\"✅ Interactive geographic heat map (Folium)\")\n",
    "if plotly_available:\n",
    "    print(f\"✅ Interactive Plotly visualizations\")\n",
    "    \n",
    "print(f\"\\n⚠️ DATA DISCLAIMER\")\n",
    "print(f\"This analysis uses synthetic data based on {CONFIG['DATA_PERIOD']} Australian market patterns.\")\n",
    "print(f\"Actual current market prices may differ. For real-time data, consult official sources.\")"
   ]
  },
  {
   "cell_type": "markdown",
   "id": "e618ae06",
   "metadata": {},
   "source": [
    "## 5. Export Results"
   ]
  },
  {
   "cell_type": "code",
   "execution_count": 34,
   "id": "2937dc95",
   "metadata": {},
   "outputs": [
    {
     "name": "stdout",
     "output_type": "stream",
     "text": [
      "💾 Exporting heat map analysis results...\n",
      "✅ Heat map analysis exported successfully!\n",
      "\n",
      "📁 OUTPUT FILES:\n",
      "- ../data/outputs/heatmap_analysis_20250708_161538.csv\n",
      "- ../data/outputs/heatmap_analysis_20250708_161538_city_pivot.csv\n",
      "- ../data/outputs/heatmap_analysis_20250708_161538_suburb_pivot.csv\n",
      "- ../data/outputs/heatmap_analysis_20250708_161538_summary.json\n",
      "- ../data/outputs/property_heatmap_20250708.html\n",
      "\n",
      "📅 Data Period: December 2024\n",
      "📊 Analysis Timestamp: 2025-07-08 16:15:38\n",
      "🆓 All visualizations created using free synthetic data!\n"
     ]
    }
   ],
   "source": [
    "# Export heat map data and summary\n",
    "print(\"💾 Exporting heat map analysis results...\")\n",
    "\n",
    "# Create timestamped filename\n",
    "timestamp = datetime.now().strftime('%Y%m%d_%H%M%S')\n",
    "base_filename = f\"heatmap_analysis_{timestamp}\"\n",
    "\n",
    "# Export processed data\n",
    "output_file = f\"../data/outputs/{base_filename}.csv\"\n",
    "clean_data.to_csv(output_file, index=False)\n",
    "\n",
    "# Export pivot tables\n",
    "pivot_file = f\"../data/outputs/{base_filename}_city_pivot.csv\"\n",
    "pivot_data.to_csv(pivot_file)\n",
    "\n",
    "suburb_pivot_file = f\"../data/outputs/{base_filename}_suburb_pivot.csv\"\n",
    "suburb_pivot.to_csv(suburb_pivot_file)\n",
    "\n",
    "# Create summary report\n",
    "summary_data = {\n",
    "    'analysis_metadata': {\n",
    "        'data_period': CONFIG['DATA_PERIOD'],\n",
    "        'analysis_date': ANALYSIS_DATE,\n",
    "        'analysis_timestamp': datetime.now().isoformat(),\n",
    "        'data_source': f\"Synthetic data based on {CONFIG['DATA_PERIOD']} market patterns\",\n",
    "        'geographic_coverage': 'Australia (5 major cities, 25 suburbs)'\n",
    "    },\n",
    "    'dataset_summary': {\n",
    "        'total_properties': int(len(clean_data)),\n",
    "        'cities_covered': int(clean_data['city'].nunique()),\n",
    "        'suburbs_covered': int(clean_data['suburb'].nunique()),\n",
    "        'property_types': int(clean_data['property_type'].nunique())\n",
    "    },\n",
    "    'price_statistics': {\n",
    "        'median_price': float(clean_data['price'].median()),\n",
    "        'mean_price': float(clean_data['price'].mean()),\n",
    "        'min_price': float(clean_data['price'].min()),\n",
    "        'max_price': float(clean_data['price'].max()),\n",
    "        'std_dev': float(clean_data['price'].std())\n",
    "    },\n",
    "    'city_medians': city_medians.to_dict(),\n",
    "    'property_type_medians': type_medians.to_dict(),\n",
    "    'suburb_medians': suburb_medians.to_dict(),\n",
    "    'price_distribution': price_dist.to_dict()\n",
    "}\n",
    "\n",
    "import json\n",
    "summary_file = f\"../data/outputs/{base_filename}_summary.json\"\n",
    "with open(summary_file, 'w') as f:\n",
    "    json.dump(summary_data, f, indent=2, default=str)\n",
    "\n",
    "print(f\"✅ Heat map analysis exported successfully!\")\n",
    "print(f\"\\n📁 OUTPUT FILES:\")\n",
    "print(f\"- {output_file}\")\n",
    "print(f\"- {pivot_file}\")\n",
    "print(f\"- {suburb_pivot_file}\")\n",
    "print(f\"- {summary_file}\")\n",
    "if folium_available:\n",
    "    print(f\"- ../data/outputs/property_heatmap_{ANALYSIS_DATE.replace('-', '')}.html\")\n",
    "\n",
    "print(f\"\\n📅 Data Period: {CONFIG['DATA_PERIOD']}\")\n",
    "print(f\"📊 Analysis Timestamp: {datetime.now().strftime('%Y-%m-%d %H:%M:%S')}\")\n",
    "print(f\"🆓 All visualizations created using free synthetic data!\")"
   ]
  },
  {
   "cell_type": "markdown",
   "id": "400f434d",
   "metadata": {},
   "source": [
    "## Conclusion\n",
    "\n",
    "This heat map analysis provides comprehensive visualizations of Australian property prices with clear timestamps and data provenance.\n",
    "\n",
    "### ✅ Key Features:\n",
    "\n",
    "1. **📅 Clear Timestamps**: All data clearly marked with baseline period (December 2024)\n",
    "2. **🗺️ Multiple Visualizations**: Heat maps, geographic plots, and interactive charts\n",
    "3. **🏙️ Multi-Level Analysis**: City, suburb, and property type breakdowns\n",
    "4. **📊 Export Ready**: All results saved with timestamps for future reference\n",
    "5. **🆓 Free Data**: No API keys required, uses realistic synthetic data\n",
    "\n",
    "### 📊 Heat Map Types Created:\n",
    "\n",
    "- **Basic Heat Map**: City vs Property Type median prices\n",
    "- **Detailed Heat Map**: All suburbs ranked by price\n",
    "- **Geographic Heat Map**: Interactive map with location-based pricing (if Folium available)\n",
    "- **3D Surface Plot**: Three-dimensional price visualization (if Plotly available)\n",
    "\n",
    "### ⚠️ Important Notes:\n",
    "\n",
    "- **Data Period**: Baseline synthetic data represents December 2024 market patterns\n",
    "- **Analysis Date**: Current analysis timestamp included in all outputs\n",
    "- **Data Source**: Clearly documented as synthetic data for transparency\n",
    "- **Geographic Scope**: Covers 5 major Australian cities and 25 suburbs\n",
    "\n",
    "### 🔄 Usage:\n",
    "\n",
    "- Modify `DATA_TIMESTAMP` to represent different baseline periods\n",
    "- Adjust `ANALYSIS_SUBURBS` to focus on specific regions\n",
    "- Increase `NUM_PROPERTIES` for more detailed heat maps\n",
    "- Export results include timestamps for comparison over time\n",
    "\n",
    "---\n",
    "\n",
    "**📈 Perfect for property market analysis, research, and presentation with clear data provenance!**"
   ]
  }
 ],
 "metadata": {
  "kernelspec": {
   "display_name": "Python 3",
   "language": "python",
   "name": "python3"
  },
  "language_info": {
   "codemirror_mode": {
    "name": "ipython",
    "version": 3
   },
   "file_extension": ".py",
   "mimetype": "text/x-python",
   "name": "python",
   "nbconvert_exporter": "python",
   "pygments_lexer": "ipython3",
   "version": "3.11.9"
  }
 },
 "nbformat": 4,
 "nbformat_minor": 5
}
